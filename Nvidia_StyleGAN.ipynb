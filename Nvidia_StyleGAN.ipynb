{
  "nbformat": 4,
  "nbformat_minor": 0,
  "metadata": {
    "colab": {
      "name": "Nvidia_StyleGAN.ipynb",
      "provenance": [],
      "collapsed_sections": [],
      "include_colab_link": true
    },
    "kernelspec": {
      "name": "python3",
      "display_name": "Python 3"
    },
    "language_info": {
      "name": "python"
    },
    "accelerator": "GPU",
    "widgets": {
      "application/vnd.jupyter.widget-state+json": {
        "bae08ab0bc8c484fbccf9848e2fadeed": {
          "model_module": "@jupyter-widgets/controls",
          "model_name": "HBoxModel",
          "model_module_version": "1.5.0",
          "state": {
            "_view_name": "HBoxView",
            "_dom_classes": [],
            "_model_name": "HBoxModel",
            "_view_module": "@jupyter-widgets/controls",
            "_model_module_version": "1.5.0",
            "_view_count": null,
            "_view_module_version": "1.5.0",
            "box_style": "",
            "layout": "IPY_MODEL_7fc1a3bec55c4c5bac1bb7b9ccf6400f",
            "_model_module": "@jupyter-widgets/controls",
            "children": [
              "IPY_MODEL_9e0b09e7e8574a688ebd01a9847cb262",
              "IPY_MODEL_2d36af34b2c74c9e987a5673e7e251b1",
              "IPY_MODEL_f92e2754b99c4e9685de0bc33112f6fb"
            ]
          }
        },
        "7fc1a3bec55c4c5bac1bb7b9ccf6400f": {
          "model_module": "@jupyter-widgets/base",
          "model_name": "LayoutModel",
          "model_module_version": "1.2.0",
          "state": {
            "_view_name": "LayoutView",
            "grid_template_rows": null,
            "right": null,
            "justify_content": null,
            "_view_module": "@jupyter-widgets/base",
            "overflow": null,
            "_model_module_version": "1.2.0",
            "_view_count": null,
            "flex_flow": null,
            "width": null,
            "min_width": null,
            "border": null,
            "align_items": null,
            "bottom": null,
            "_model_module": "@jupyter-widgets/base",
            "top": null,
            "grid_column": null,
            "overflow_y": null,
            "overflow_x": null,
            "grid_auto_flow": null,
            "grid_area": null,
            "grid_template_columns": null,
            "flex": null,
            "_model_name": "LayoutModel",
            "justify_items": null,
            "grid_row": null,
            "max_height": null,
            "align_content": null,
            "visibility": null,
            "align_self": null,
            "height": null,
            "min_height": null,
            "padding": null,
            "grid_auto_rows": null,
            "grid_gap": null,
            "max_width": null,
            "order": null,
            "_view_module_version": "1.2.0",
            "grid_template_areas": null,
            "object_position": null,
            "object_fit": null,
            "grid_auto_columns": null,
            "margin": null,
            "display": null,
            "left": null
          }
        },
        "9e0b09e7e8574a688ebd01a9847cb262": {
          "model_module": "@jupyter-widgets/controls",
          "model_name": "HTMLModel",
          "model_module_version": "1.5.0",
          "state": {
            "_view_name": "HTMLView",
            "style": "IPY_MODEL_762d26ef69c04661941bd35209faa97f",
            "_dom_classes": [],
            "description": "",
            "_model_name": "HTMLModel",
            "placeholder": "​",
            "_view_module": "@jupyter-widgets/controls",
            "_model_module_version": "1.5.0",
            "value": "Downloading: 100%",
            "_view_count": null,
            "_view_module_version": "1.5.0",
            "description_tooltip": null,
            "_model_module": "@jupyter-widgets/controls",
            "layout": "IPY_MODEL_92e9c19545d74e378cd181ceb2e31d3e"
          }
        },
        "2d36af34b2c74c9e987a5673e7e251b1": {
          "model_module": "@jupyter-widgets/controls",
          "model_name": "FloatProgressModel",
          "model_module_version": "1.5.0",
          "state": {
            "_view_name": "ProgressView",
            "style": "IPY_MODEL_9b68d84abc5c498ebb23fc2f3dff54a4",
            "_dom_classes": [],
            "description": "",
            "_model_name": "FloatProgressModel",
            "bar_style": "success",
            "max": 570,
            "_view_module": "@jupyter-widgets/controls",
            "_model_module_version": "1.5.0",
            "value": 570,
            "_view_count": null,
            "_view_module_version": "1.5.0",
            "orientation": "horizontal",
            "min": 0,
            "description_tooltip": null,
            "_model_module": "@jupyter-widgets/controls",
            "layout": "IPY_MODEL_589f21cc2bd74d74bdd5a8fd7bb4ea9b"
          }
        },
        "f92e2754b99c4e9685de0bc33112f6fb": {
          "model_module": "@jupyter-widgets/controls",
          "model_name": "HTMLModel",
          "model_module_version": "1.5.0",
          "state": {
            "_view_name": "HTMLView",
            "style": "IPY_MODEL_776d7c90a155431b8ff9309964125bcb",
            "_dom_classes": [],
            "description": "",
            "_model_name": "HTMLModel",
            "placeholder": "​",
            "_view_module": "@jupyter-widgets/controls",
            "_model_module_version": "1.5.0",
            "value": " 570/570 [00:00&lt;00:00, 3.59kB/s]",
            "_view_count": null,
            "_view_module_version": "1.5.0",
            "description_tooltip": null,
            "_model_module": "@jupyter-widgets/controls",
            "layout": "IPY_MODEL_88050a4d7a974e14ae080ce00af9ca37"
          }
        },
        "762d26ef69c04661941bd35209faa97f": {
          "model_module": "@jupyter-widgets/controls",
          "model_name": "DescriptionStyleModel",
          "model_module_version": "1.5.0",
          "state": {
            "_view_name": "StyleView",
            "_model_name": "DescriptionStyleModel",
            "description_width": "",
            "_view_module": "@jupyter-widgets/base",
            "_model_module_version": "1.5.0",
            "_view_count": null,
            "_view_module_version": "1.2.0",
            "_model_module": "@jupyter-widgets/controls"
          }
        },
        "92e9c19545d74e378cd181ceb2e31d3e": {
          "model_module": "@jupyter-widgets/base",
          "model_name": "LayoutModel",
          "model_module_version": "1.2.0",
          "state": {
            "_view_name": "LayoutView",
            "grid_template_rows": null,
            "right": null,
            "justify_content": null,
            "_view_module": "@jupyter-widgets/base",
            "overflow": null,
            "_model_module_version": "1.2.0",
            "_view_count": null,
            "flex_flow": null,
            "width": null,
            "min_width": null,
            "border": null,
            "align_items": null,
            "bottom": null,
            "_model_module": "@jupyter-widgets/base",
            "top": null,
            "grid_column": null,
            "overflow_y": null,
            "overflow_x": null,
            "grid_auto_flow": null,
            "grid_area": null,
            "grid_template_columns": null,
            "flex": null,
            "_model_name": "LayoutModel",
            "justify_items": null,
            "grid_row": null,
            "max_height": null,
            "align_content": null,
            "visibility": null,
            "align_self": null,
            "height": null,
            "min_height": null,
            "padding": null,
            "grid_auto_rows": null,
            "grid_gap": null,
            "max_width": null,
            "order": null,
            "_view_module_version": "1.2.0",
            "grid_template_areas": null,
            "object_position": null,
            "object_fit": null,
            "grid_auto_columns": null,
            "margin": null,
            "display": null,
            "left": null
          }
        },
        "9b68d84abc5c498ebb23fc2f3dff54a4": {
          "model_module": "@jupyter-widgets/controls",
          "model_name": "ProgressStyleModel",
          "model_module_version": "1.5.0",
          "state": {
            "_view_name": "StyleView",
            "_model_name": "ProgressStyleModel",
            "description_width": "",
            "_view_module": "@jupyter-widgets/base",
            "_model_module_version": "1.5.0",
            "_view_count": null,
            "_view_module_version": "1.2.0",
            "bar_color": null,
            "_model_module": "@jupyter-widgets/controls"
          }
        },
        "589f21cc2bd74d74bdd5a8fd7bb4ea9b": {
          "model_module": "@jupyter-widgets/base",
          "model_name": "LayoutModel",
          "model_module_version": "1.2.0",
          "state": {
            "_view_name": "LayoutView",
            "grid_template_rows": null,
            "right": null,
            "justify_content": null,
            "_view_module": "@jupyter-widgets/base",
            "overflow": null,
            "_model_module_version": "1.2.0",
            "_view_count": null,
            "flex_flow": null,
            "width": null,
            "min_width": null,
            "border": null,
            "align_items": null,
            "bottom": null,
            "_model_module": "@jupyter-widgets/base",
            "top": null,
            "grid_column": null,
            "overflow_y": null,
            "overflow_x": null,
            "grid_auto_flow": null,
            "grid_area": null,
            "grid_template_columns": null,
            "flex": null,
            "_model_name": "LayoutModel",
            "justify_items": null,
            "grid_row": null,
            "max_height": null,
            "align_content": null,
            "visibility": null,
            "align_self": null,
            "height": null,
            "min_height": null,
            "padding": null,
            "grid_auto_rows": null,
            "grid_gap": null,
            "max_width": null,
            "order": null,
            "_view_module_version": "1.2.0",
            "grid_template_areas": null,
            "object_position": null,
            "object_fit": null,
            "grid_auto_columns": null,
            "margin": null,
            "display": null,
            "left": null
          }
        },
        "776d7c90a155431b8ff9309964125bcb": {
          "model_module": "@jupyter-widgets/controls",
          "model_name": "DescriptionStyleModel",
          "model_module_version": "1.5.0",
          "state": {
            "_view_name": "StyleView",
            "_model_name": "DescriptionStyleModel",
            "description_width": "",
            "_view_module": "@jupyter-widgets/base",
            "_model_module_version": "1.5.0",
            "_view_count": null,
            "_view_module_version": "1.2.0",
            "_model_module": "@jupyter-widgets/controls"
          }
        },
        "88050a4d7a974e14ae080ce00af9ca37": {
          "model_module": "@jupyter-widgets/base",
          "model_name": "LayoutModel",
          "model_module_version": "1.2.0",
          "state": {
            "_view_name": "LayoutView",
            "grid_template_rows": null,
            "right": null,
            "justify_content": null,
            "_view_module": "@jupyter-widgets/base",
            "overflow": null,
            "_model_module_version": "1.2.0",
            "_view_count": null,
            "flex_flow": null,
            "width": null,
            "min_width": null,
            "border": null,
            "align_items": null,
            "bottom": null,
            "_model_module": "@jupyter-widgets/base",
            "top": null,
            "grid_column": null,
            "overflow_y": null,
            "overflow_x": null,
            "grid_auto_flow": null,
            "grid_area": null,
            "grid_template_columns": null,
            "flex": null,
            "_model_name": "LayoutModel",
            "justify_items": null,
            "grid_row": null,
            "max_height": null,
            "align_content": null,
            "visibility": null,
            "align_self": null,
            "height": null,
            "min_height": null,
            "padding": null,
            "grid_auto_rows": null,
            "grid_gap": null,
            "max_width": null,
            "order": null,
            "_view_module_version": "1.2.0",
            "grid_template_areas": null,
            "object_position": null,
            "object_fit": null,
            "grid_auto_columns": null,
            "margin": null,
            "display": null,
            "left": null
          }
        },
        "20a14a0cb91244c5b17209f6fe5a7119": {
          "model_module": "@jupyter-widgets/controls",
          "model_name": "HBoxModel",
          "model_module_version": "1.5.0",
          "state": {
            "_view_name": "HBoxView",
            "_dom_classes": [],
            "_model_name": "HBoxModel",
            "_view_module": "@jupyter-widgets/controls",
            "_model_module_version": "1.5.0",
            "_view_count": null,
            "_view_module_version": "1.5.0",
            "box_style": "",
            "layout": "IPY_MODEL_9c432fcd5462461ebe5b6aaec7d1d82f",
            "_model_module": "@jupyter-widgets/controls",
            "children": [
              "IPY_MODEL_5dc2b042cca9441387063462e63d1871",
              "IPY_MODEL_95720b56edbe40358c5724779f3603ff",
              "IPY_MODEL_471f7b6ca9724ec59fb373b0fa49c132"
            ]
          }
        },
        "9c432fcd5462461ebe5b6aaec7d1d82f": {
          "model_module": "@jupyter-widgets/base",
          "model_name": "LayoutModel",
          "model_module_version": "1.2.0",
          "state": {
            "_view_name": "LayoutView",
            "grid_template_rows": null,
            "right": null,
            "justify_content": null,
            "_view_module": "@jupyter-widgets/base",
            "overflow": null,
            "_model_module_version": "1.2.0",
            "_view_count": null,
            "flex_flow": null,
            "width": null,
            "min_width": null,
            "border": null,
            "align_items": null,
            "bottom": null,
            "_model_module": "@jupyter-widgets/base",
            "top": null,
            "grid_column": null,
            "overflow_y": null,
            "overflow_x": null,
            "grid_auto_flow": null,
            "grid_area": null,
            "grid_template_columns": null,
            "flex": null,
            "_model_name": "LayoutModel",
            "justify_items": null,
            "grid_row": null,
            "max_height": null,
            "align_content": null,
            "visibility": null,
            "align_self": null,
            "height": null,
            "min_height": null,
            "padding": null,
            "grid_auto_rows": null,
            "grid_gap": null,
            "max_width": null,
            "order": null,
            "_view_module_version": "1.2.0",
            "grid_template_areas": null,
            "object_position": null,
            "object_fit": null,
            "grid_auto_columns": null,
            "margin": null,
            "display": null,
            "left": null
          }
        },
        "5dc2b042cca9441387063462e63d1871": {
          "model_module": "@jupyter-widgets/controls",
          "model_name": "HTMLModel",
          "model_module_version": "1.5.0",
          "state": {
            "_view_name": "HTMLView",
            "style": "IPY_MODEL_5882ad013dc8496e907711c6e9d13309",
            "_dom_classes": [],
            "description": "",
            "_model_name": "HTMLModel",
            "placeholder": "​",
            "_view_module": "@jupyter-widgets/controls",
            "_model_module_version": "1.5.0",
            "value": "Downloading: 100%",
            "_view_count": null,
            "_view_module_version": "1.5.0",
            "description_tooltip": null,
            "_model_module": "@jupyter-widgets/controls",
            "layout": "IPY_MODEL_831e0fe13b384d27914302accef44a31"
          }
        },
        "95720b56edbe40358c5724779f3603ff": {
          "model_module": "@jupyter-widgets/controls",
          "model_name": "FloatProgressModel",
          "model_module_version": "1.5.0",
          "state": {
            "_view_name": "ProgressView",
            "style": "IPY_MODEL_47161f26037a46d68b0098358bf33373",
            "_dom_classes": [],
            "description": "",
            "_model_name": "FloatProgressModel",
            "bar_style": "success",
            "max": 440473133,
            "_view_module": "@jupyter-widgets/controls",
            "_model_module_version": "1.5.0",
            "value": 440473133,
            "_view_count": null,
            "_view_module_version": "1.5.0",
            "orientation": "horizontal",
            "min": 0,
            "description_tooltip": null,
            "_model_module": "@jupyter-widgets/controls",
            "layout": "IPY_MODEL_1374eec80bdf4783a4321662940feb36"
          }
        },
        "471f7b6ca9724ec59fb373b0fa49c132": {
          "model_module": "@jupyter-widgets/controls",
          "model_name": "HTMLModel",
          "model_module_version": "1.5.0",
          "state": {
            "_view_name": "HTMLView",
            "style": "IPY_MODEL_30683f1031ff440881ef2145c66b9fa8",
            "_dom_classes": [],
            "description": "",
            "_model_name": "HTMLModel",
            "placeholder": "​",
            "_view_module": "@jupyter-widgets/controls",
            "_model_module_version": "1.5.0",
            "value": " 420M/420M [00:25&lt;00:00, 30.9MB/s]",
            "_view_count": null,
            "_view_module_version": "1.5.0",
            "description_tooltip": null,
            "_model_module": "@jupyter-widgets/controls",
            "layout": "IPY_MODEL_a34f7797abf74551936310f9d6f1b394"
          }
        },
        "5882ad013dc8496e907711c6e9d13309": {
          "model_module": "@jupyter-widgets/controls",
          "model_name": "DescriptionStyleModel",
          "model_module_version": "1.5.0",
          "state": {
            "_view_name": "StyleView",
            "_model_name": "DescriptionStyleModel",
            "description_width": "",
            "_view_module": "@jupyter-widgets/base",
            "_model_module_version": "1.5.0",
            "_view_count": null,
            "_view_module_version": "1.2.0",
            "_model_module": "@jupyter-widgets/controls"
          }
        },
        "831e0fe13b384d27914302accef44a31": {
          "model_module": "@jupyter-widgets/base",
          "model_name": "LayoutModel",
          "model_module_version": "1.2.0",
          "state": {
            "_view_name": "LayoutView",
            "grid_template_rows": null,
            "right": null,
            "justify_content": null,
            "_view_module": "@jupyter-widgets/base",
            "overflow": null,
            "_model_module_version": "1.2.0",
            "_view_count": null,
            "flex_flow": null,
            "width": null,
            "min_width": null,
            "border": null,
            "align_items": null,
            "bottom": null,
            "_model_module": "@jupyter-widgets/base",
            "top": null,
            "grid_column": null,
            "overflow_y": null,
            "overflow_x": null,
            "grid_auto_flow": null,
            "grid_area": null,
            "grid_template_columns": null,
            "flex": null,
            "_model_name": "LayoutModel",
            "justify_items": null,
            "grid_row": null,
            "max_height": null,
            "align_content": null,
            "visibility": null,
            "align_self": null,
            "height": null,
            "min_height": null,
            "padding": null,
            "grid_auto_rows": null,
            "grid_gap": null,
            "max_width": null,
            "order": null,
            "_view_module_version": "1.2.0",
            "grid_template_areas": null,
            "object_position": null,
            "object_fit": null,
            "grid_auto_columns": null,
            "margin": null,
            "display": null,
            "left": null
          }
        },
        "47161f26037a46d68b0098358bf33373": {
          "model_module": "@jupyter-widgets/controls",
          "model_name": "ProgressStyleModel",
          "model_module_version": "1.5.0",
          "state": {
            "_view_name": "StyleView",
            "_model_name": "ProgressStyleModel",
            "description_width": "",
            "_view_module": "@jupyter-widgets/base",
            "_model_module_version": "1.5.0",
            "_view_count": null,
            "_view_module_version": "1.2.0",
            "bar_color": null,
            "_model_module": "@jupyter-widgets/controls"
          }
        },
        "1374eec80bdf4783a4321662940feb36": {
          "model_module": "@jupyter-widgets/base",
          "model_name": "LayoutModel",
          "model_module_version": "1.2.0",
          "state": {
            "_view_name": "LayoutView",
            "grid_template_rows": null,
            "right": null,
            "justify_content": null,
            "_view_module": "@jupyter-widgets/base",
            "overflow": null,
            "_model_module_version": "1.2.0",
            "_view_count": null,
            "flex_flow": null,
            "width": null,
            "min_width": null,
            "border": null,
            "align_items": null,
            "bottom": null,
            "_model_module": "@jupyter-widgets/base",
            "top": null,
            "grid_column": null,
            "overflow_y": null,
            "overflow_x": null,
            "grid_auto_flow": null,
            "grid_area": null,
            "grid_template_columns": null,
            "flex": null,
            "_model_name": "LayoutModel",
            "justify_items": null,
            "grid_row": null,
            "max_height": null,
            "align_content": null,
            "visibility": null,
            "align_self": null,
            "height": null,
            "min_height": null,
            "padding": null,
            "grid_auto_rows": null,
            "grid_gap": null,
            "max_width": null,
            "order": null,
            "_view_module_version": "1.2.0",
            "grid_template_areas": null,
            "object_position": null,
            "object_fit": null,
            "grid_auto_columns": null,
            "margin": null,
            "display": null,
            "left": null
          }
        },
        "30683f1031ff440881ef2145c66b9fa8": {
          "model_module": "@jupyter-widgets/controls",
          "model_name": "DescriptionStyleModel",
          "model_module_version": "1.5.0",
          "state": {
            "_view_name": "StyleView",
            "_model_name": "DescriptionStyleModel",
            "description_width": "",
            "_view_module": "@jupyter-widgets/base",
            "_model_module_version": "1.5.0",
            "_view_count": null,
            "_view_module_version": "1.2.0",
            "_model_module": "@jupyter-widgets/controls"
          }
        },
        "a34f7797abf74551936310f9d6f1b394": {
          "model_module": "@jupyter-widgets/base",
          "model_name": "LayoutModel",
          "model_module_version": "1.2.0",
          "state": {
            "_view_name": "LayoutView",
            "grid_template_rows": null,
            "right": null,
            "justify_content": null,
            "_view_module": "@jupyter-widgets/base",
            "overflow": null,
            "_model_module_version": "1.2.0",
            "_view_count": null,
            "flex_flow": null,
            "width": null,
            "min_width": null,
            "border": null,
            "align_items": null,
            "bottom": null,
            "_model_module": "@jupyter-widgets/base",
            "top": null,
            "grid_column": null,
            "overflow_y": null,
            "overflow_x": null,
            "grid_auto_flow": null,
            "grid_area": null,
            "grid_template_columns": null,
            "flex": null,
            "_model_name": "LayoutModel",
            "justify_items": null,
            "grid_row": null,
            "max_height": null,
            "align_content": null,
            "visibility": null,
            "align_self": null,
            "height": null,
            "min_height": null,
            "padding": null,
            "grid_auto_rows": null,
            "grid_gap": null,
            "max_width": null,
            "order": null,
            "_view_module_version": "1.2.0",
            "grid_template_areas": null,
            "object_position": null,
            "object_fit": null,
            "grid_auto_columns": null,
            "margin": null,
            "display": null,
            "left": null
          }
        },
        "44c178ca9a9941d8928d1f9f2014c2cd": {
          "model_module": "@jupyter-widgets/controls",
          "model_name": "HBoxModel",
          "model_module_version": "1.5.0",
          "state": {
            "_view_name": "HBoxView",
            "_dom_classes": [],
            "_model_name": "HBoxModel",
            "_view_module": "@jupyter-widgets/controls",
            "_model_module_version": "1.5.0",
            "_view_count": null,
            "_view_module_version": "1.5.0",
            "box_style": "",
            "layout": "IPY_MODEL_4aff5f843c0f4ba39d83ea1a04725079",
            "_model_module": "@jupyter-widgets/controls",
            "children": [
              "IPY_MODEL_bc0d49f930a04d8bab44489f6dffac32",
              "IPY_MODEL_4f9a68482add4fec9f43c9fadb573bc5",
              "IPY_MODEL_44ac09ec05d7474d8673ab17fe0fd672"
            ]
          }
        },
        "4aff5f843c0f4ba39d83ea1a04725079": {
          "model_module": "@jupyter-widgets/base",
          "model_name": "LayoutModel",
          "model_module_version": "1.2.0",
          "state": {
            "_view_name": "LayoutView",
            "grid_template_rows": null,
            "right": null,
            "justify_content": null,
            "_view_module": "@jupyter-widgets/base",
            "overflow": null,
            "_model_module_version": "1.2.0",
            "_view_count": null,
            "flex_flow": null,
            "width": null,
            "min_width": null,
            "border": null,
            "align_items": null,
            "bottom": null,
            "_model_module": "@jupyter-widgets/base",
            "top": null,
            "grid_column": null,
            "overflow_y": null,
            "overflow_x": null,
            "grid_auto_flow": null,
            "grid_area": null,
            "grid_template_columns": null,
            "flex": null,
            "_model_name": "LayoutModel",
            "justify_items": null,
            "grid_row": null,
            "max_height": null,
            "align_content": null,
            "visibility": null,
            "align_self": null,
            "height": null,
            "min_height": null,
            "padding": null,
            "grid_auto_rows": null,
            "grid_gap": null,
            "max_width": null,
            "order": null,
            "_view_module_version": "1.2.0",
            "grid_template_areas": null,
            "object_position": null,
            "object_fit": null,
            "grid_auto_columns": null,
            "margin": null,
            "display": null,
            "left": null
          }
        },
        "bc0d49f930a04d8bab44489f6dffac32": {
          "model_module": "@jupyter-widgets/controls",
          "model_name": "HTMLModel",
          "model_module_version": "1.5.0",
          "state": {
            "_view_name": "HTMLView",
            "style": "IPY_MODEL_3a3c44ead7c74620b4f37c58c2573303",
            "_dom_classes": [],
            "description": "",
            "_model_name": "HTMLModel",
            "placeholder": "​",
            "_view_module": "@jupyter-widgets/controls",
            "_model_module_version": "1.5.0",
            "value": "Downloading: 100%",
            "_view_count": null,
            "_view_module_version": "1.5.0",
            "description_tooltip": null,
            "_model_module": "@jupyter-widgets/controls",
            "layout": "IPY_MODEL_ffd6c7dd121d4150b1c77b5dfd239ded"
          }
        },
        "4f9a68482add4fec9f43c9fadb573bc5": {
          "model_module": "@jupyter-widgets/controls",
          "model_name": "FloatProgressModel",
          "model_module_version": "1.5.0",
          "state": {
            "_view_name": "ProgressView",
            "style": "IPY_MODEL_d3872372054b48339fe8057a57345047",
            "_dom_classes": [],
            "description": "",
            "_model_name": "FloatProgressModel",
            "bar_style": "success",
            "max": 28,
            "_view_module": "@jupyter-widgets/controls",
            "_model_module_version": "1.5.0",
            "value": 28,
            "_view_count": null,
            "_view_module_version": "1.5.0",
            "orientation": "horizontal",
            "min": 0,
            "description_tooltip": null,
            "_model_module": "@jupyter-widgets/controls",
            "layout": "IPY_MODEL_5e6efd1b2dac467a885a84ba66f74df0"
          }
        },
        "44ac09ec05d7474d8673ab17fe0fd672": {
          "model_module": "@jupyter-widgets/controls",
          "model_name": "HTMLModel",
          "model_module_version": "1.5.0",
          "state": {
            "_view_name": "HTMLView",
            "style": "IPY_MODEL_6342663f5a1944a1baa71af598c4bba3",
            "_dom_classes": [],
            "description": "",
            "_model_name": "HTMLModel",
            "placeholder": "​",
            "_view_module": "@jupyter-widgets/controls",
            "_model_module_version": "1.5.0",
            "value": " 28.0/28.0 [00:00&lt;00:00, 793B/s]",
            "_view_count": null,
            "_view_module_version": "1.5.0",
            "description_tooltip": null,
            "_model_module": "@jupyter-widgets/controls",
            "layout": "IPY_MODEL_749457b5c98e4525b82bf6b9fcc077c2"
          }
        },
        "3a3c44ead7c74620b4f37c58c2573303": {
          "model_module": "@jupyter-widgets/controls",
          "model_name": "DescriptionStyleModel",
          "model_module_version": "1.5.0",
          "state": {
            "_view_name": "StyleView",
            "_model_name": "DescriptionStyleModel",
            "description_width": "",
            "_view_module": "@jupyter-widgets/base",
            "_model_module_version": "1.5.0",
            "_view_count": null,
            "_view_module_version": "1.2.0",
            "_model_module": "@jupyter-widgets/controls"
          }
        },
        "ffd6c7dd121d4150b1c77b5dfd239ded": {
          "model_module": "@jupyter-widgets/base",
          "model_name": "LayoutModel",
          "model_module_version": "1.2.0",
          "state": {
            "_view_name": "LayoutView",
            "grid_template_rows": null,
            "right": null,
            "justify_content": null,
            "_view_module": "@jupyter-widgets/base",
            "overflow": null,
            "_model_module_version": "1.2.0",
            "_view_count": null,
            "flex_flow": null,
            "width": null,
            "min_width": null,
            "border": null,
            "align_items": null,
            "bottom": null,
            "_model_module": "@jupyter-widgets/base",
            "top": null,
            "grid_column": null,
            "overflow_y": null,
            "overflow_x": null,
            "grid_auto_flow": null,
            "grid_area": null,
            "grid_template_columns": null,
            "flex": null,
            "_model_name": "LayoutModel",
            "justify_items": null,
            "grid_row": null,
            "max_height": null,
            "align_content": null,
            "visibility": null,
            "align_self": null,
            "height": null,
            "min_height": null,
            "padding": null,
            "grid_auto_rows": null,
            "grid_gap": null,
            "max_width": null,
            "order": null,
            "_view_module_version": "1.2.0",
            "grid_template_areas": null,
            "object_position": null,
            "object_fit": null,
            "grid_auto_columns": null,
            "margin": null,
            "display": null,
            "left": null
          }
        },
        "d3872372054b48339fe8057a57345047": {
          "model_module": "@jupyter-widgets/controls",
          "model_name": "ProgressStyleModel",
          "model_module_version": "1.5.0",
          "state": {
            "_view_name": "StyleView",
            "_model_name": "ProgressStyleModel",
            "description_width": "",
            "_view_module": "@jupyter-widgets/base",
            "_model_module_version": "1.5.0",
            "_view_count": null,
            "_view_module_version": "1.2.0",
            "bar_color": null,
            "_model_module": "@jupyter-widgets/controls"
          }
        },
        "5e6efd1b2dac467a885a84ba66f74df0": {
          "model_module": "@jupyter-widgets/base",
          "model_name": "LayoutModel",
          "model_module_version": "1.2.0",
          "state": {
            "_view_name": "LayoutView",
            "grid_template_rows": null,
            "right": null,
            "justify_content": null,
            "_view_module": "@jupyter-widgets/base",
            "overflow": null,
            "_model_module_version": "1.2.0",
            "_view_count": null,
            "flex_flow": null,
            "width": null,
            "min_width": null,
            "border": null,
            "align_items": null,
            "bottom": null,
            "_model_module": "@jupyter-widgets/base",
            "top": null,
            "grid_column": null,
            "overflow_y": null,
            "overflow_x": null,
            "grid_auto_flow": null,
            "grid_area": null,
            "grid_template_columns": null,
            "flex": null,
            "_model_name": "LayoutModel",
            "justify_items": null,
            "grid_row": null,
            "max_height": null,
            "align_content": null,
            "visibility": null,
            "align_self": null,
            "height": null,
            "min_height": null,
            "padding": null,
            "grid_auto_rows": null,
            "grid_gap": null,
            "max_width": null,
            "order": null,
            "_view_module_version": "1.2.0",
            "grid_template_areas": null,
            "object_position": null,
            "object_fit": null,
            "grid_auto_columns": null,
            "margin": null,
            "display": null,
            "left": null
          }
        },
        "6342663f5a1944a1baa71af598c4bba3": {
          "model_module": "@jupyter-widgets/controls",
          "model_name": "DescriptionStyleModel",
          "model_module_version": "1.5.0",
          "state": {
            "_view_name": "StyleView",
            "_model_name": "DescriptionStyleModel",
            "description_width": "",
            "_view_module": "@jupyter-widgets/base",
            "_model_module_version": "1.5.0",
            "_view_count": null,
            "_view_module_version": "1.2.0",
            "_model_module": "@jupyter-widgets/controls"
          }
        },
        "749457b5c98e4525b82bf6b9fcc077c2": {
          "model_module": "@jupyter-widgets/base",
          "model_name": "LayoutModel",
          "model_module_version": "1.2.0",
          "state": {
            "_view_name": "LayoutView",
            "grid_template_rows": null,
            "right": null,
            "justify_content": null,
            "_view_module": "@jupyter-widgets/base",
            "overflow": null,
            "_model_module_version": "1.2.0",
            "_view_count": null,
            "flex_flow": null,
            "width": null,
            "min_width": null,
            "border": null,
            "align_items": null,
            "bottom": null,
            "_model_module": "@jupyter-widgets/base",
            "top": null,
            "grid_column": null,
            "overflow_y": null,
            "overflow_x": null,
            "grid_auto_flow": null,
            "grid_area": null,
            "grid_template_columns": null,
            "flex": null,
            "_model_name": "LayoutModel",
            "justify_items": null,
            "grid_row": null,
            "max_height": null,
            "align_content": null,
            "visibility": null,
            "align_self": null,
            "height": null,
            "min_height": null,
            "padding": null,
            "grid_auto_rows": null,
            "grid_gap": null,
            "max_width": null,
            "order": null,
            "_view_module_version": "1.2.0",
            "grid_template_areas": null,
            "object_position": null,
            "object_fit": null,
            "grid_auto_columns": null,
            "margin": null,
            "display": null,
            "left": null
          }
        },
        "a864a8356f414c2fbab7e7c11e1f6ce9": {
          "model_module": "@jupyter-widgets/controls",
          "model_name": "HBoxModel",
          "model_module_version": "1.5.0",
          "state": {
            "_view_name": "HBoxView",
            "_dom_classes": [],
            "_model_name": "HBoxModel",
            "_view_module": "@jupyter-widgets/controls",
            "_model_module_version": "1.5.0",
            "_view_count": null,
            "_view_module_version": "1.5.0",
            "box_style": "",
            "layout": "IPY_MODEL_ecb1bbaa5c1f48849d5faf4adedcdc38",
            "_model_module": "@jupyter-widgets/controls",
            "children": [
              "IPY_MODEL_a3e0d428ea6a4cdfb0995bf2a13297d8",
              "IPY_MODEL_337649727ba04f79a88a05dcb699756f",
              "IPY_MODEL_014e8cdac864410f93a9186ef346d897"
            ]
          }
        },
        "ecb1bbaa5c1f48849d5faf4adedcdc38": {
          "model_module": "@jupyter-widgets/base",
          "model_name": "LayoutModel",
          "model_module_version": "1.2.0",
          "state": {
            "_view_name": "LayoutView",
            "grid_template_rows": null,
            "right": null,
            "justify_content": null,
            "_view_module": "@jupyter-widgets/base",
            "overflow": null,
            "_model_module_version": "1.2.0",
            "_view_count": null,
            "flex_flow": null,
            "width": null,
            "min_width": null,
            "border": null,
            "align_items": null,
            "bottom": null,
            "_model_module": "@jupyter-widgets/base",
            "top": null,
            "grid_column": null,
            "overflow_y": null,
            "overflow_x": null,
            "grid_auto_flow": null,
            "grid_area": null,
            "grid_template_columns": null,
            "flex": null,
            "_model_name": "LayoutModel",
            "justify_items": null,
            "grid_row": null,
            "max_height": null,
            "align_content": null,
            "visibility": null,
            "align_self": null,
            "height": null,
            "min_height": null,
            "padding": null,
            "grid_auto_rows": null,
            "grid_gap": null,
            "max_width": null,
            "order": null,
            "_view_module_version": "1.2.0",
            "grid_template_areas": null,
            "object_position": null,
            "object_fit": null,
            "grid_auto_columns": null,
            "margin": null,
            "display": null,
            "left": null
          }
        },
        "a3e0d428ea6a4cdfb0995bf2a13297d8": {
          "model_module": "@jupyter-widgets/controls",
          "model_name": "HTMLModel",
          "model_module_version": "1.5.0",
          "state": {
            "_view_name": "HTMLView",
            "style": "IPY_MODEL_180ad7f7ac1e4099afcce6a924f4d31c",
            "_dom_classes": [],
            "description": "",
            "_model_name": "HTMLModel",
            "placeholder": "​",
            "_view_module": "@jupyter-widgets/controls",
            "_model_module_version": "1.5.0",
            "value": "Downloading: 100%",
            "_view_count": null,
            "_view_module_version": "1.5.0",
            "description_tooltip": null,
            "_model_module": "@jupyter-widgets/controls",
            "layout": "IPY_MODEL_6e406c07bb5d42c9a2ff47230f696472"
          }
        },
        "337649727ba04f79a88a05dcb699756f": {
          "model_module": "@jupyter-widgets/controls",
          "model_name": "FloatProgressModel",
          "model_module_version": "1.5.0",
          "state": {
            "_view_name": "ProgressView",
            "style": "IPY_MODEL_5dc47a8c97b240e49c6d22381d426b76",
            "_dom_classes": [],
            "description": "",
            "_model_name": "FloatProgressModel",
            "bar_style": "success",
            "max": 231508,
            "_view_module": "@jupyter-widgets/controls",
            "_model_module_version": "1.5.0",
            "value": 231508,
            "_view_count": null,
            "_view_module_version": "1.5.0",
            "orientation": "horizontal",
            "min": 0,
            "description_tooltip": null,
            "_model_module": "@jupyter-widgets/controls",
            "layout": "IPY_MODEL_e3361b4201054a7f8aa2e80bdcce56c5"
          }
        },
        "014e8cdac864410f93a9186ef346d897": {
          "model_module": "@jupyter-widgets/controls",
          "model_name": "HTMLModel",
          "model_module_version": "1.5.0",
          "state": {
            "_view_name": "HTMLView",
            "style": "IPY_MODEL_fba05cc4d8b5447d892c420c2708cf1f",
            "_dom_classes": [],
            "description": "",
            "_model_name": "HTMLModel",
            "placeholder": "​",
            "_view_module": "@jupyter-widgets/controls",
            "_model_module_version": "1.5.0",
            "value": " 226k/226k [00:00&lt;00:00, 361kB/s]",
            "_view_count": null,
            "_view_module_version": "1.5.0",
            "description_tooltip": null,
            "_model_module": "@jupyter-widgets/controls",
            "layout": "IPY_MODEL_b4a11ba2ba364abfb4ac1118c67792ac"
          }
        },
        "180ad7f7ac1e4099afcce6a924f4d31c": {
          "model_module": "@jupyter-widgets/controls",
          "model_name": "DescriptionStyleModel",
          "model_module_version": "1.5.0",
          "state": {
            "_view_name": "StyleView",
            "_model_name": "DescriptionStyleModel",
            "description_width": "",
            "_view_module": "@jupyter-widgets/base",
            "_model_module_version": "1.5.0",
            "_view_count": null,
            "_view_module_version": "1.2.0",
            "_model_module": "@jupyter-widgets/controls"
          }
        },
        "6e406c07bb5d42c9a2ff47230f696472": {
          "model_module": "@jupyter-widgets/base",
          "model_name": "LayoutModel",
          "model_module_version": "1.2.0",
          "state": {
            "_view_name": "LayoutView",
            "grid_template_rows": null,
            "right": null,
            "justify_content": null,
            "_view_module": "@jupyter-widgets/base",
            "overflow": null,
            "_model_module_version": "1.2.0",
            "_view_count": null,
            "flex_flow": null,
            "width": null,
            "min_width": null,
            "border": null,
            "align_items": null,
            "bottom": null,
            "_model_module": "@jupyter-widgets/base",
            "top": null,
            "grid_column": null,
            "overflow_y": null,
            "overflow_x": null,
            "grid_auto_flow": null,
            "grid_area": null,
            "grid_template_columns": null,
            "flex": null,
            "_model_name": "LayoutModel",
            "justify_items": null,
            "grid_row": null,
            "max_height": null,
            "align_content": null,
            "visibility": null,
            "align_self": null,
            "height": null,
            "min_height": null,
            "padding": null,
            "grid_auto_rows": null,
            "grid_gap": null,
            "max_width": null,
            "order": null,
            "_view_module_version": "1.2.0",
            "grid_template_areas": null,
            "object_position": null,
            "object_fit": null,
            "grid_auto_columns": null,
            "margin": null,
            "display": null,
            "left": null
          }
        },
        "5dc47a8c97b240e49c6d22381d426b76": {
          "model_module": "@jupyter-widgets/controls",
          "model_name": "ProgressStyleModel",
          "model_module_version": "1.5.0",
          "state": {
            "_view_name": "StyleView",
            "_model_name": "ProgressStyleModel",
            "description_width": "",
            "_view_module": "@jupyter-widgets/base",
            "_model_module_version": "1.5.0",
            "_view_count": null,
            "_view_module_version": "1.2.0",
            "bar_color": null,
            "_model_module": "@jupyter-widgets/controls"
          }
        },
        "e3361b4201054a7f8aa2e80bdcce56c5": {
          "model_module": "@jupyter-widgets/base",
          "model_name": "LayoutModel",
          "model_module_version": "1.2.0",
          "state": {
            "_view_name": "LayoutView",
            "grid_template_rows": null,
            "right": null,
            "justify_content": null,
            "_view_module": "@jupyter-widgets/base",
            "overflow": null,
            "_model_module_version": "1.2.0",
            "_view_count": null,
            "flex_flow": null,
            "width": null,
            "min_width": null,
            "border": null,
            "align_items": null,
            "bottom": null,
            "_model_module": "@jupyter-widgets/base",
            "top": null,
            "grid_column": null,
            "overflow_y": null,
            "overflow_x": null,
            "grid_auto_flow": null,
            "grid_area": null,
            "grid_template_columns": null,
            "flex": null,
            "_model_name": "LayoutModel",
            "justify_items": null,
            "grid_row": null,
            "max_height": null,
            "align_content": null,
            "visibility": null,
            "align_self": null,
            "height": null,
            "min_height": null,
            "padding": null,
            "grid_auto_rows": null,
            "grid_gap": null,
            "max_width": null,
            "order": null,
            "_view_module_version": "1.2.0",
            "grid_template_areas": null,
            "object_position": null,
            "object_fit": null,
            "grid_auto_columns": null,
            "margin": null,
            "display": null,
            "left": null
          }
        },
        "fba05cc4d8b5447d892c420c2708cf1f": {
          "model_module": "@jupyter-widgets/controls",
          "model_name": "DescriptionStyleModel",
          "model_module_version": "1.5.0",
          "state": {
            "_view_name": "StyleView",
            "_model_name": "DescriptionStyleModel",
            "description_width": "",
            "_view_module": "@jupyter-widgets/base",
            "_model_module_version": "1.5.0",
            "_view_count": null,
            "_view_module_version": "1.2.0",
            "_model_module": "@jupyter-widgets/controls"
          }
        },
        "b4a11ba2ba364abfb4ac1118c67792ac": {
          "model_module": "@jupyter-widgets/base",
          "model_name": "LayoutModel",
          "model_module_version": "1.2.0",
          "state": {
            "_view_name": "LayoutView",
            "grid_template_rows": null,
            "right": null,
            "justify_content": null,
            "_view_module": "@jupyter-widgets/base",
            "overflow": null,
            "_model_module_version": "1.2.0",
            "_view_count": null,
            "flex_flow": null,
            "width": null,
            "min_width": null,
            "border": null,
            "align_items": null,
            "bottom": null,
            "_model_module": "@jupyter-widgets/base",
            "top": null,
            "grid_column": null,
            "overflow_y": null,
            "overflow_x": null,
            "grid_auto_flow": null,
            "grid_area": null,
            "grid_template_columns": null,
            "flex": null,
            "_model_name": "LayoutModel",
            "justify_items": null,
            "grid_row": null,
            "max_height": null,
            "align_content": null,
            "visibility": null,
            "align_self": null,
            "height": null,
            "min_height": null,
            "padding": null,
            "grid_auto_rows": null,
            "grid_gap": null,
            "max_width": null,
            "order": null,
            "_view_module_version": "1.2.0",
            "grid_template_areas": null,
            "object_position": null,
            "object_fit": null,
            "grid_auto_columns": null,
            "margin": null,
            "display": null,
            "left": null
          }
        },
        "f6500c60a2f4462785917bd2f2f166b4": {
          "model_module": "@jupyter-widgets/controls",
          "model_name": "HBoxModel",
          "model_module_version": "1.5.0",
          "state": {
            "_view_name": "HBoxView",
            "_dom_classes": [],
            "_model_name": "HBoxModel",
            "_view_module": "@jupyter-widgets/controls",
            "_model_module_version": "1.5.0",
            "_view_count": null,
            "_view_module_version": "1.5.0",
            "box_style": "",
            "layout": "IPY_MODEL_0a67430df4b6403fae406efcdfa8138d",
            "_model_module": "@jupyter-widgets/controls",
            "children": [
              "IPY_MODEL_e44c15749a64478da841fef2239f65dd",
              "IPY_MODEL_c8fff185a12e45c688d7c80ae1f0d224",
              "IPY_MODEL_aec0c36381e8441cb6a673c458ae1cb5"
            ]
          }
        },
        "0a67430df4b6403fae406efcdfa8138d": {
          "model_module": "@jupyter-widgets/base",
          "model_name": "LayoutModel",
          "model_module_version": "1.2.0",
          "state": {
            "_view_name": "LayoutView",
            "grid_template_rows": null,
            "right": null,
            "justify_content": null,
            "_view_module": "@jupyter-widgets/base",
            "overflow": null,
            "_model_module_version": "1.2.0",
            "_view_count": null,
            "flex_flow": null,
            "width": null,
            "min_width": null,
            "border": null,
            "align_items": null,
            "bottom": null,
            "_model_module": "@jupyter-widgets/base",
            "top": null,
            "grid_column": null,
            "overflow_y": null,
            "overflow_x": null,
            "grid_auto_flow": null,
            "grid_area": null,
            "grid_template_columns": null,
            "flex": null,
            "_model_name": "LayoutModel",
            "justify_items": null,
            "grid_row": null,
            "max_height": null,
            "align_content": null,
            "visibility": null,
            "align_self": null,
            "height": null,
            "min_height": null,
            "padding": null,
            "grid_auto_rows": null,
            "grid_gap": null,
            "max_width": null,
            "order": null,
            "_view_module_version": "1.2.0",
            "grid_template_areas": null,
            "object_position": null,
            "object_fit": null,
            "grid_auto_columns": null,
            "margin": null,
            "display": null,
            "left": null
          }
        },
        "e44c15749a64478da841fef2239f65dd": {
          "model_module": "@jupyter-widgets/controls",
          "model_name": "HTMLModel",
          "model_module_version": "1.5.0",
          "state": {
            "_view_name": "HTMLView",
            "style": "IPY_MODEL_bed3790b7a7a4b6f93306cbdffd78eb6",
            "_dom_classes": [],
            "description": "",
            "_model_name": "HTMLModel",
            "placeholder": "​",
            "_view_module": "@jupyter-widgets/controls",
            "_model_module_version": "1.5.0",
            "value": "Downloading: 100%",
            "_view_count": null,
            "_view_module_version": "1.5.0",
            "description_tooltip": null,
            "_model_module": "@jupyter-widgets/controls",
            "layout": "IPY_MODEL_1a72eb5d8f7948c7a0546f82329c64e9"
          }
        },
        "c8fff185a12e45c688d7c80ae1f0d224": {
          "model_module": "@jupyter-widgets/controls",
          "model_name": "FloatProgressModel",
          "model_module_version": "1.5.0",
          "state": {
            "_view_name": "ProgressView",
            "style": "IPY_MODEL_617a66971ee2469386cc3d0bc12095de",
            "_dom_classes": [],
            "description": "",
            "_model_name": "FloatProgressModel",
            "bar_style": "success",
            "max": 466062,
            "_view_module": "@jupyter-widgets/controls",
            "_model_module_version": "1.5.0",
            "value": 466062,
            "_view_count": null,
            "_view_module_version": "1.5.0",
            "orientation": "horizontal",
            "min": 0,
            "description_tooltip": null,
            "_model_module": "@jupyter-widgets/controls",
            "layout": "IPY_MODEL_0bf2f5ceaa64474eb8d9c34c1ab20292"
          }
        },
        "aec0c36381e8441cb6a673c458ae1cb5": {
          "model_module": "@jupyter-widgets/controls",
          "model_name": "HTMLModel",
          "model_module_version": "1.5.0",
          "state": {
            "_view_name": "HTMLView",
            "style": "IPY_MODEL_4cc80e8c8e014098a2d221734965fe7b",
            "_dom_classes": [],
            "description": "",
            "_model_name": "HTMLModel",
            "placeholder": "​",
            "_view_module": "@jupyter-widgets/controls",
            "_model_module_version": "1.5.0",
            "value": " 455k/455k [00:00&lt;00:00, 690kB/s]",
            "_view_count": null,
            "_view_module_version": "1.5.0",
            "description_tooltip": null,
            "_model_module": "@jupyter-widgets/controls",
            "layout": "IPY_MODEL_6d10de49078146c285513fec45036e5e"
          }
        },
        "bed3790b7a7a4b6f93306cbdffd78eb6": {
          "model_module": "@jupyter-widgets/controls",
          "model_name": "DescriptionStyleModel",
          "model_module_version": "1.5.0",
          "state": {
            "_view_name": "StyleView",
            "_model_name": "DescriptionStyleModel",
            "description_width": "",
            "_view_module": "@jupyter-widgets/base",
            "_model_module_version": "1.5.0",
            "_view_count": null,
            "_view_module_version": "1.2.0",
            "_model_module": "@jupyter-widgets/controls"
          }
        },
        "1a72eb5d8f7948c7a0546f82329c64e9": {
          "model_module": "@jupyter-widgets/base",
          "model_name": "LayoutModel",
          "model_module_version": "1.2.0",
          "state": {
            "_view_name": "LayoutView",
            "grid_template_rows": null,
            "right": null,
            "justify_content": null,
            "_view_module": "@jupyter-widgets/base",
            "overflow": null,
            "_model_module_version": "1.2.0",
            "_view_count": null,
            "flex_flow": null,
            "width": null,
            "min_width": null,
            "border": null,
            "align_items": null,
            "bottom": null,
            "_model_module": "@jupyter-widgets/base",
            "top": null,
            "grid_column": null,
            "overflow_y": null,
            "overflow_x": null,
            "grid_auto_flow": null,
            "grid_area": null,
            "grid_template_columns": null,
            "flex": null,
            "_model_name": "LayoutModel",
            "justify_items": null,
            "grid_row": null,
            "max_height": null,
            "align_content": null,
            "visibility": null,
            "align_self": null,
            "height": null,
            "min_height": null,
            "padding": null,
            "grid_auto_rows": null,
            "grid_gap": null,
            "max_width": null,
            "order": null,
            "_view_module_version": "1.2.0",
            "grid_template_areas": null,
            "object_position": null,
            "object_fit": null,
            "grid_auto_columns": null,
            "margin": null,
            "display": null,
            "left": null
          }
        },
        "617a66971ee2469386cc3d0bc12095de": {
          "model_module": "@jupyter-widgets/controls",
          "model_name": "ProgressStyleModel",
          "model_module_version": "1.5.0",
          "state": {
            "_view_name": "StyleView",
            "_model_name": "ProgressStyleModel",
            "description_width": "",
            "_view_module": "@jupyter-widgets/base",
            "_model_module_version": "1.5.0",
            "_view_count": null,
            "_view_module_version": "1.2.0",
            "bar_color": null,
            "_model_module": "@jupyter-widgets/controls"
          }
        },
        "0bf2f5ceaa64474eb8d9c34c1ab20292": {
          "model_module": "@jupyter-widgets/base",
          "model_name": "LayoutModel",
          "model_module_version": "1.2.0",
          "state": {
            "_view_name": "LayoutView",
            "grid_template_rows": null,
            "right": null,
            "justify_content": null,
            "_view_module": "@jupyter-widgets/base",
            "overflow": null,
            "_model_module_version": "1.2.0",
            "_view_count": null,
            "flex_flow": null,
            "width": null,
            "min_width": null,
            "border": null,
            "align_items": null,
            "bottom": null,
            "_model_module": "@jupyter-widgets/base",
            "top": null,
            "grid_column": null,
            "overflow_y": null,
            "overflow_x": null,
            "grid_auto_flow": null,
            "grid_area": null,
            "grid_template_columns": null,
            "flex": null,
            "_model_name": "LayoutModel",
            "justify_items": null,
            "grid_row": null,
            "max_height": null,
            "align_content": null,
            "visibility": null,
            "align_self": null,
            "height": null,
            "min_height": null,
            "padding": null,
            "grid_auto_rows": null,
            "grid_gap": null,
            "max_width": null,
            "order": null,
            "_view_module_version": "1.2.0",
            "grid_template_areas": null,
            "object_position": null,
            "object_fit": null,
            "grid_auto_columns": null,
            "margin": null,
            "display": null,
            "left": null
          }
        },
        "4cc80e8c8e014098a2d221734965fe7b": {
          "model_module": "@jupyter-widgets/controls",
          "model_name": "DescriptionStyleModel",
          "model_module_version": "1.5.0",
          "state": {
            "_view_name": "StyleView",
            "_model_name": "DescriptionStyleModel",
            "description_width": "",
            "_view_module": "@jupyter-widgets/base",
            "_model_module_version": "1.5.0",
            "_view_count": null,
            "_view_module_version": "1.2.0",
            "_model_module": "@jupyter-widgets/controls"
          }
        },
        "6d10de49078146c285513fec45036e5e": {
          "model_module": "@jupyter-widgets/base",
          "model_name": "LayoutModel",
          "model_module_version": "1.2.0",
          "state": {
            "_view_name": "LayoutView",
            "grid_template_rows": null,
            "right": null,
            "justify_content": null,
            "_view_module": "@jupyter-widgets/base",
            "overflow": null,
            "_model_module_version": "1.2.0",
            "_view_count": null,
            "flex_flow": null,
            "width": null,
            "min_width": null,
            "border": null,
            "align_items": null,
            "bottom": null,
            "_model_module": "@jupyter-widgets/base",
            "top": null,
            "grid_column": null,
            "overflow_y": null,
            "overflow_x": null,
            "grid_auto_flow": null,
            "grid_area": null,
            "grid_template_columns": null,
            "flex": null,
            "_model_name": "LayoutModel",
            "justify_items": null,
            "grid_row": null,
            "max_height": null,
            "align_content": null,
            "visibility": null,
            "align_self": null,
            "height": null,
            "min_height": null,
            "padding": null,
            "grid_auto_rows": null,
            "grid_gap": null,
            "max_width": null,
            "order": null,
            "_view_module_version": "1.2.0",
            "grid_template_areas": null,
            "object_position": null,
            "object_fit": null,
            "grid_auto_columns": null,
            "margin": null,
            "display": null,
            "left": null
          }
        }
      }
    }
  },
  "cells": [
    {
      "cell_type": "markdown",
      "metadata": {
        "id": "view-in-github",
        "colab_type": "text"
      },
      "source": [
        "<a href=\"https://colab.research.google.com/github/tejaspradhan/Face-Generation-from-Textual-Features-using-GANs/blob/main/Nvidia_StyleGAN.ipynb\" target=\"_parent\"><img src=\"https://colab.research.google.com/assets/colab-badge.svg\" alt=\"Open In Colab\"/></a>"
      ]
    },
    {
      "cell_type": "code",
      "metadata": {
        "colab": {
          "base_uri": "https://localhost:8080/"
        },
        "id": "4DYFnt5pAPH6",
        "outputId": "2abd4db6-8203-46ea-e03f-e3adcc1e6146"
      },
      "source": [
        "!git clone https://github.com/NVlabs/stylegan3.git"
      ],
      "execution_count": null,
      "outputs": [
        {
          "output_type": "stream",
          "name": "stdout",
          "text": [
            "Cloning into 'stylegan3'...\n",
            "remote: Enumerating objects: 193, done.\u001b[K\n",
            "remote: Counting objects: 100% (193/193), done.\u001b[K\n",
            "remote: Compressing objects: 100% (103/103), done.\u001b[K\n",
            "remote: Total 193 (delta 94), reused 185 (delta 87), pack-reused 0\u001b[K\n",
            "Receiving objects: 100% (193/193), 4.16 MiB | 17.89 MiB/s, done.\n",
            "Resolving deltas: 100% (94/94), done.\n"
          ]
        }
      ]
    },
    {
      "cell_type": "code",
      "metadata": {
        "colab": {
          "base_uri": "https://localhost:8080/"
        },
        "id": "QTMlKYa-AY6x",
        "outputId": "23e2342e-cdf8-4673-8922-7121096913ba"
      },
      "source": [
        "%cd stylegan3\n",
        "!ls"
      ],
      "execution_count": null,
      "outputs": [
        {
          "output_type": "stream",
          "name": "stdout",
          "text": [
            "/content/stylegan3\n",
            "avg_spectra.py\t Dockerfile\t  gen_video.py\tmetrics      train.py\n",
            "calc_metrics.py  docs\t\t  gui_utils\tREADME.md    visualizer.py\n",
            "dataset_tool.py  environment.yml  legacy.py\ttorch_utils  viz\n",
            "dnnlib\t\t gen_images.py\t  LICENSE.txt\ttraining\n"
          ]
        }
      ]
    },
    {
      "cell_type": "code",
      "metadata": {
        "colab": {
          "base_uri": "https://localhost:8080/"
        },
        "id": "ZclVXGItCC9B",
        "outputId": "8dfe530e-99cb-4336-9478-f08c037a0e2d"
      },
      "source": [
        "!pip install Ninja"
      ],
      "execution_count": null,
      "outputs": [
        {
          "output_type": "stream",
          "name": "stdout",
          "text": [
            "Collecting Ninja\n",
            "  Downloading ninja-1.10.2.2-py2.py3-none-manylinux_2_5_x86_64.manylinux1_x86_64.whl (108 kB)\n",
            "\u001b[?25l\r\u001b[K     |███                             | 10 kB 17.4 MB/s eta 0:00:01\r\u001b[K     |██████                          | 20 kB 17.4 MB/s eta 0:00:01\r\u001b[K     |█████████                       | 30 kB 16.9 MB/s eta 0:00:01\r\u001b[K     |████████████▏                   | 40 kB 11.3 MB/s eta 0:00:01\r\u001b[K     |███████████████▏                | 51 kB 5.9 MB/s eta 0:00:01\r\u001b[K     |██████████████████▏             | 61 kB 6.5 MB/s eta 0:00:01\r\u001b[K     |█████████████████████▏          | 71 kB 6.0 MB/s eta 0:00:01\r\u001b[K     |████████████████████████▎       | 81 kB 6.6 MB/s eta 0:00:01\r\u001b[K     |███████████████████████████▎    | 92 kB 5.2 MB/s eta 0:00:01\r\u001b[K     |██████████████████████████████▎ | 102 kB 5.6 MB/s eta 0:00:01\r\u001b[K     |████████████████████████████████| 108 kB 5.6 MB/s \n",
            "\u001b[?25hInstalling collected packages: Ninja\n",
            "Successfully installed Ninja-1.10.2.2\n"
          ]
        }
      ]
    },
    {
      "cell_type": "code",
      "metadata": {
        "id": "_Mt_309yGdLC"
      },
      "source": [
        "import os\n",
        "import gen_images"
      ],
      "execution_count": null,
      "outputs": []
    },
    {
      "cell_type": "code",
      "metadata": {
        "colab": {
          "base_uri": "https://localhost:8080/"
        },
        "id": "5WfSubsnAp4B",
        "outputId": "7b7ef49d-4171-48fa-cf6d-684e8cd2d431"
      },
      "source": [
        "\n",
        "for i in range(0,20):\n",
        "  print(i)\n",
        "  !python gen_images.py --outdir=out --trunc=1 --seeds={i} --network=https://api.ngc.nvidia.com/v2/models/nvidia/research/stylegan3/versions/1/files/stylegan3-t-ffhqu-1024x1024.pkl\n"
      ],
      "execution_count": null,
      "outputs": [
        {
          "output_type": "stream",
          "name": "stdout",
          "text": [
            "0\n",
            "Loading networks from \"https://api.ngc.nvidia.com/v2/models/nvidia/research/stylegan3/versions/1/files/stylegan3-t-ffhqu-1024x1024.pkl\"...\n",
            "Generating image for seed 0 (0/1) ...\n",
            "Setting up PyTorch plugin \"bias_act_plugin\"... Done.\n",
            "Setting up PyTorch plugin \"filtered_lrelu_plugin\"... Done.\n",
            "1\n",
            "Loading networks from \"https://api.ngc.nvidia.com/v2/models/nvidia/research/stylegan3/versions/1/files/stylegan3-t-ffhqu-1024x1024.pkl\"...\n",
            "Generating image for seed 1 (0/1) ...\n",
            "Setting up PyTorch plugin \"bias_act_plugin\"... Done.\n",
            "Setting up PyTorch plugin \"filtered_lrelu_plugin\"... Done.\n",
            "2\n",
            "Loading networks from \"https://api.ngc.nvidia.com/v2/models/nvidia/research/stylegan3/versions/1/files/stylegan3-t-ffhqu-1024x1024.pkl\"...\n",
            "Generating image for seed 2 (0/1) ...\n",
            "Setting up PyTorch plugin \"bias_act_plugin\"... Done.\n",
            "Setting up PyTorch plugin \"filtered_lrelu_plugin\"... Done.\n",
            "3\n",
            "Loading networks from \"https://api.ngc.nvidia.com/v2/models/nvidia/research/stylegan3/versions/1/files/stylegan3-t-ffhqu-1024x1024.pkl\"...\n",
            "Generating image for seed 3 (0/1) ...\n",
            "Setting up PyTorch plugin \"bias_act_plugin\"... Done.\n",
            "Setting up PyTorch plugin \"filtered_lrelu_plugin\"... Done.\n",
            "4\n",
            "Loading networks from \"https://api.ngc.nvidia.com/v2/models/nvidia/research/stylegan3/versions/1/files/stylegan3-t-ffhqu-1024x1024.pkl\"...\n",
            "Generating image for seed 4 (0/1) ...\n",
            "Setting up PyTorch plugin \"bias_act_plugin\"... Done.\n",
            "Setting up PyTorch plugin \"filtered_lrelu_plugin\"... Done.\n",
            "5\n",
            "Loading networks from \"https://api.ngc.nvidia.com/v2/models/nvidia/research/stylegan3/versions/1/files/stylegan3-t-ffhqu-1024x1024.pkl\"...\n",
            "Generating image for seed 5 (0/1) ...\n",
            "Setting up PyTorch plugin \"bias_act_plugin\"... Done.\n",
            "Setting up PyTorch plugin \"filtered_lrelu_plugin\"... Done.\n",
            "6\n",
            "Loading networks from \"https://api.ngc.nvidia.com/v2/models/nvidia/research/stylegan3/versions/1/files/stylegan3-t-ffhqu-1024x1024.pkl\"...\n",
            "Generating image for seed 6 (0/1) ...\n",
            "Setting up PyTorch plugin \"bias_act_plugin\"... Done.\n",
            "Setting up PyTorch plugin \"filtered_lrelu_plugin\"... Done.\n",
            "7\n",
            "Loading networks from \"https://api.ngc.nvidia.com/v2/models/nvidia/research/stylegan3/versions/1/files/stylegan3-t-ffhqu-1024x1024.pkl\"...\n",
            "Generating image for seed 7 (0/1) ...\n",
            "Setting up PyTorch plugin \"bias_act_plugin\"... Done.\n",
            "Setting up PyTorch plugin \"filtered_lrelu_plugin\"... Done.\n",
            "8\n",
            "Loading networks from \"https://api.ngc.nvidia.com/v2/models/nvidia/research/stylegan3/versions/1/files/stylegan3-t-ffhqu-1024x1024.pkl\"...\n",
            "Generating image for seed 8 (0/1) ...\n",
            "Setting up PyTorch plugin \"bias_act_plugin\"... Done.\n",
            "Setting up PyTorch plugin \"filtered_lrelu_plugin\"... Done.\n",
            "9\n",
            "Loading networks from \"https://api.ngc.nvidia.com/v2/models/nvidia/research/stylegan3/versions/1/files/stylegan3-t-ffhqu-1024x1024.pkl\"...\n",
            "Generating image for seed 9 (0/1) ...\n",
            "Setting up PyTorch plugin \"bias_act_plugin\"... Done.\n",
            "Setting up PyTorch plugin \"filtered_lrelu_plugin\"... Done.\n",
            "10\n",
            "Loading networks from \"https://api.ngc.nvidia.com/v2/models/nvidia/research/stylegan3/versions/1/files/stylegan3-t-ffhqu-1024x1024.pkl\"...\n",
            "Generating image for seed 10 (0/1) ...\n",
            "Setting up PyTorch plugin \"bias_act_plugin\"... Done.\n",
            "Setting up PyTorch plugin \"filtered_lrelu_plugin\"... Done.\n",
            "11\n",
            "Loading networks from \"https://api.ngc.nvidia.com/v2/models/nvidia/research/stylegan3/versions/1/files/stylegan3-t-ffhqu-1024x1024.pkl\"...\n",
            "Generating image for seed 11 (0/1) ...\n",
            "Setting up PyTorch plugin \"bias_act_plugin\"... Done.\n",
            "Setting up PyTorch plugin \"filtered_lrelu_plugin\"... Done.\n",
            "12\n",
            "Loading networks from \"https://api.ngc.nvidia.com/v2/models/nvidia/research/stylegan3/versions/1/files/stylegan3-t-ffhqu-1024x1024.pkl\"...\n",
            "Generating image for seed 12 (0/1) ...\n",
            "Setting up PyTorch plugin \"bias_act_plugin\"... Done.\n",
            "Setting up PyTorch plugin \"filtered_lrelu_plugin\"... Done.\n",
            "13\n",
            "Loading networks from \"https://api.ngc.nvidia.com/v2/models/nvidia/research/stylegan3/versions/1/files/stylegan3-t-ffhqu-1024x1024.pkl\"...\n",
            "Generating image for seed 13 (0/1) ...\n",
            "Setting up PyTorch plugin \"bias_act_plugin\"... Done.\n",
            "Setting up PyTorch plugin \"filtered_lrelu_plugin\"... Done.\n",
            "14\n",
            "Loading networks from \"https://api.ngc.nvidia.com/v2/models/nvidia/research/stylegan3/versions/1/files/stylegan3-t-ffhqu-1024x1024.pkl\"...\n",
            "Generating image for seed 14 (0/1) ...\n",
            "Setting up PyTorch plugin \"bias_act_plugin\"... Done.\n",
            "Setting up PyTorch plugin \"filtered_lrelu_plugin\"... Done.\n",
            "15\n",
            "Loading networks from \"https://api.ngc.nvidia.com/v2/models/nvidia/research/stylegan3/versions/1/files/stylegan3-t-ffhqu-1024x1024.pkl\"...\n",
            "Generating image for seed 15 (0/1) ...\n",
            "Setting up PyTorch plugin \"bias_act_plugin\"... Done.\n",
            "Setting up PyTorch plugin \"filtered_lrelu_plugin\"... Done.\n",
            "16\n",
            "Loading networks from \"https://api.ngc.nvidia.com/v2/models/nvidia/research/stylegan3/versions/1/files/stylegan3-t-ffhqu-1024x1024.pkl\"...\n",
            "Generating image for seed 16 (0/1) ...\n",
            "Setting up PyTorch plugin \"bias_act_plugin\"... Done.\n",
            "Setting up PyTorch plugin \"filtered_lrelu_plugin\"... Done.\n",
            "17\n",
            "Loading networks from \"https://api.ngc.nvidia.com/v2/models/nvidia/research/stylegan3/versions/1/files/stylegan3-t-ffhqu-1024x1024.pkl\"...\n",
            "Generating image for seed 17 (0/1) ...\n",
            "Setting up PyTorch plugin \"bias_act_plugin\"... Done.\n",
            "Setting up PyTorch plugin \"filtered_lrelu_plugin\"... Done.\n",
            "18\n",
            "Loading networks from \"https://api.ngc.nvidia.com/v2/models/nvidia/research/stylegan3/versions/1/files/stylegan3-t-ffhqu-1024x1024.pkl\"...\n",
            "Generating image for seed 18 (0/1) ...\n",
            "Setting up PyTorch plugin \"bias_act_plugin\"... Done.\n",
            "Setting up PyTorch plugin \"filtered_lrelu_plugin\"... Done.\n",
            "19\n",
            "Loading networks from \"https://api.ngc.nvidia.com/v2/models/nvidia/research/stylegan3/versions/1/files/stylegan3-t-ffhqu-1024x1024.pkl\"...\n",
            "Generating image for seed 19 (0/1) ...\n",
            "Setting up PyTorch plugin \"bias_act_plugin\"... Done.\n",
            "Setting up PyTorch plugin \"filtered_lrelu_plugin\"... Done.\n"
          ]
        }
      ]
    },
    {
      "cell_type": "markdown",
      "metadata": {
        "id": "lF45idzh4E5B"
      },
      "source": [
        "# StyleGAN2"
      ]
    },
    {
      "cell_type": "code",
      "metadata": {
        "colab": {
          "base_uri": "https://localhost:8080/"
        },
        "id": "x7Ue97D_4Hu-",
        "outputId": "17428f09-6461-488a-f461-ec103be8a3b8"
      },
      "source": [
        "!git clone https://github.com/NVlabs/stylegan2.git"
      ],
      "execution_count": null,
      "outputs": [
        {
          "output_type": "stream",
          "name": "stdout",
          "text": [
            "Cloning into 'stylegan2'...\n",
            "remote: Enumerating objects: 138, done.\u001b[K\n",
            "remote: Counting objects: 100% (11/11), done.\u001b[K\n",
            "remote: Compressing objects: 100% (7/7), done.\u001b[K\n",
            "remote: Total 138 (delta 4), reused 10 (delta 4), pack-reused 127\u001b[K\n",
            "Receiving objects: 100% (138/138), 599.47 KiB | 3.42 MiB/s, done.\n",
            "Resolving deltas: 100% (62/62), done.\n"
          ]
        }
      ]
    },
    {
      "cell_type": "code",
      "metadata": {
        "colab": {
          "base_uri": "https://localhost:8080/"
        },
        "id": "r5sYPBHq6hzO",
        "outputId": "e604f188-81ad-42b2-cd5b-48a600c8b83c"
      },
      "source": [
        "%tensorflow_version 1.x"
      ],
      "execution_count": null,
      "outputs": [
        {
          "output_type": "stream",
          "name": "stdout",
          "text": [
            "TensorFlow 1.x selected.\n"
          ]
        }
      ]
    },
    {
      "cell_type": "code",
      "metadata": {
        "colab": {
          "base_uri": "https://localhost:8080/"
        },
        "id": "nlBkwIyH44l4",
        "outputId": "d3b68322-bcdf-4c0c-b564-3077520d13fd"
      },
      "source": [
        "%cd stylegan2/\n",
        "!ls"
      ],
      "execution_count": null,
      "outputs": [
        {
          "output_type": "stream",
          "name": "stdout",
          "text": [
            "/content/stylegan2\n",
            "dataset_tool.py  LICENSE.txt\t\t README.md\t   run_training.py\n",
            "dnnlib\t\t metrics\t\t run_generator.py  test_nvcc.cu\n",
            "Dockerfile\t pretrained_networks.py  run_metrics.py    training\n",
            "docs\t\t projector.py\t\t run_projector.py\n"
          ]
        }
      ]
    },
    {
      "cell_type": "code",
      "metadata": {
        "colab": {
          "base_uri": "https://localhost:8080/"
        },
        "id": "xIMXn1WOnSTM",
        "outputId": "d7ecc623-fe21-4620-9fb6-18403c540171"
      },
      "source": [
        "import pretrained_networks\n",
        "from dnnlib import tflib as tflib\n",
        "import numpy as np\n",
        "import PIL.Image\n",
        "import dnnlib\n",
        "from matplotlib.pyplot import imshow\n",
        "%matplotlib inline\n",
        "\n",
        "network_pkl=\"gdrive:networks/stylegan2-ffhq-config-f.pkl\"\n",
        "truncation_psi=1.0\n",
        "seed=6000\n",
        "print('Loading networks from \"%s\"...' % network_pkl)\n",
        "_G, _D, Gs = pretrained_networks.load_networks(network_pkl)\n",
        "print('---- Loaded ----')"
      ],
      "execution_count": null,
      "outputs": [
        {
          "output_type": "stream",
          "name": "stdout",
          "text": [
            "Loading networks from \"gdrive:networks/stylegan2-ffhq-config-f.pkl\"...\n",
            "Downloading https://nvlabs-fi-cdn.nvidia.com/stylegan2/networks/stylegan2-ffhq-config-f.pkl ... done\n",
            "Setting up TensorFlow plugin \"fused_bias_act.cu\": Preprocessing... Compiling... Loading... Done.\n",
            "Setting up TensorFlow plugin \"upfirdn_2d.cu\": Preprocessing... Compiling... Loading... Done.\n",
            "---- Loaded ----\n"
          ]
        }
      ]
    },
    {
      "cell_type": "code",
      "metadata": {
        "colab": {
          "base_uri": "https://localhost:8080/"
        },
        "id": "Z3XnNfnyn1Ho",
        "outputId": "c306f568-6edb-4924-d988-823fee47c934"
      },
      "source": [
        "print(Gs.components.synthesis.vars.items())\n",
        "noise_vars = [var for name, var in Gs.components.synthesis.vars.items() if name.startswith('noise')]\n",
        "\n",
        "Gs_kwargs = dnnlib.EasyDict()\n",
        "Gs_kwargs.output_transform = dict(func=tflib.convert_images_to_uint8, nchw_to_nhwc=True)\n",
        "Gs_kwargs.randomize_noise = False\n",
        "if truncation_psi is not None:\n",
        "    Gs_kwargs.truncation_psi = truncation_psi\n",
        "\n",
        "print('Generating image for seed %d...' % (seed))\n",
        "rnd = np.random.RandomState(seed)\n",
        "z = rnd.randn(1, *Gs.input_shape[1:])\n",
        "\n",
        "print(\"Noise Vars: \",noise_vars)\n",
        "print(\"Input size: \",*Gs.input_shape[1:])\n",
        "print(\"Input: \\n\",z)\n",
        "tflib.set_vars({var: rnd.randn(*var.shape.as_list()) for var in noise_vars}) \n",
        "images = Gs.run(z, None, **Gs_kwargs)\n",
        "img=PIL.Image.fromarray(images[0], 'RGB')"
      ],
      "execution_count": null,
      "outputs": [
        {
          "output_type": "stream",
          "name": "stdout",
          "text": [
            "odict_items([('noise0', <tf.Variable 'G_synthesis_1/noise0:0' shape=(1, 1, 4, 4) dtype=float32_ref>), ('noise1', <tf.Variable 'G_synthesis_1/noise1:0' shape=(1, 1, 8, 8) dtype=float32_ref>), ('noise2', <tf.Variable 'G_synthesis_1/noise2:0' shape=(1, 1, 8, 8) dtype=float32_ref>), ('noise3', <tf.Variable 'G_synthesis_1/noise3:0' shape=(1, 1, 16, 16) dtype=float32_ref>), ('noise4', <tf.Variable 'G_synthesis_1/noise4:0' shape=(1, 1, 16, 16) dtype=float32_ref>), ('noise5', <tf.Variable 'G_synthesis_1/noise5:0' shape=(1, 1, 32, 32) dtype=float32_ref>), ('noise6', <tf.Variable 'G_synthesis_1/noise6:0' shape=(1, 1, 32, 32) dtype=float32_ref>), ('noise7', <tf.Variable 'G_synthesis_1/noise7:0' shape=(1, 1, 64, 64) dtype=float32_ref>), ('noise8', <tf.Variable 'G_synthesis_1/noise8:0' shape=(1, 1, 64, 64) dtype=float32_ref>), ('noise9', <tf.Variable 'G_synthesis_1/noise9:0' shape=(1, 1, 128, 128) dtype=float32_ref>), ('noise10', <tf.Variable 'G_synthesis_1/noise10:0' shape=(1, 1, 128, 128) dtype=float32_ref>), ('noise11', <tf.Variable 'G_synthesis_1/noise11:0' shape=(1, 1, 256, 256) dtype=float32_ref>), ('noise12', <tf.Variable 'G_synthesis_1/noise12:0' shape=(1, 1, 256, 256) dtype=float32_ref>), ('noise13', <tf.Variable 'G_synthesis_1/noise13:0' shape=(1, 1, 512, 512) dtype=float32_ref>), ('noise14', <tf.Variable 'G_synthesis_1/noise14:0' shape=(1, 1, 512, 512) dtype=float32_ref>), ('noise15', <tf.Variable 'G_synthesis_1/noise15:0' shape=(1, 1, 1024, 1024) dtype=float32_ref>), ('noise16', <tf.Variable 'G_synthesis_1/noise16:0' shape=(1, 1, 1024, 1024) dtype=float32_ref>), ('4x4/Const/const', <tf.Variable 'G_synthesis_1/4x4/Const/const:0' shape=(1, 512, 4, 4) dtype=float32_ref>), ('4x4/Conv/weight', <tf.Variable 'G_synthesis_1/4x4/Conv/weight:0' shape=(3, 3, 512, 512) dtype=float32_ref>), ('4x4/Conv/mod_weight', <tf.Variable 'G_synthesis_1/4x4/Conv/mod_weight:0' shape=(512, 512) dtype=float32_ref>), ('4x4/Conv/mod_bias', <tf.Variable 'G_synthesis_1/4x4/Conv/mod_bias:0' shape=(512,) dtype=float32_ref>), ('4x4/Conv/noise_strength', <tf.Variable 'G_synthesis_1/4x4/Conv/noise_strength:0' shape=() dtype=float32_ref>), ('4x4/Conv/bias', <tf.Variable 'G_synthesis_1/4x4/Conv/bias:0' shape=(512,) dtype=float32_ref>), ('4x4/ToRGB/weight', <tf.Variable 'G_synthesis_1/4x4/ToRGB/weight:0' shape=(1, 1, 512, 3) dtype=float32_ref>), ('4x4/ToRGB/mod_weight', <tf.Variable 'G_synthesis_1/4x4/ToRGB/mod_weight:0' shape=(512, 512) dtype=float32_ref>), ('4x4/ToRGB/mod_bias', <tf.Variable 'G_synthesis_1/4x4/ToRGB/mod_bias:0' shape=(512,) dtype=float32_ref>), ('4x4/ToRGB/bias', <tf.Variable 'G_synthesis_1/4x4/ToRGB/bias:0' shape=(3,) dtype=float32_ref>), ('8x8/Conv0_up/weight', <tf.Variable 'G_synthesis_1/8x8/Conv0_up/weight:0' shape=(3, 3, 512, 512) dtype=float32_ref>), ('8x8/Conv0_up/mod_weight', <tf.Variable 'G_synthesis_1/8x8/Conv0_up/mod_weight:0' shape=(512, 512) dtype=float32_ref>), ('8x8/Conv0_up/mod_bias', <tf.Variable 'G_synthesis_1/8x8/Conv0_up/mod_bias:0' shape=(512,) dtype=float32_ref>), ('8x8/Conv0_up/noise_strength', <tf.Variable 'G_synthesis_1/8x8/Conv0_up/noise_strength:0' shape=() dtype=float32_ref>), ('8x8/Conv0_up/bias', <tf.Variable 'G_synthesis_1/8x8/Conv0_up/bias:0' shape=(512,) dtype=float32_ref>), ('8x8/Conv1/weight', <tf.Variable 'G_synthesis_1/8x8/Conv1/weight:0' shape=(3, 3, 512, 512) dtype=float32_ref>), ('8x8/Conv1/mod_weight', <tf.Variable 'G_synthesis_1/8x8/Conv1/mod_weight:0' shape=(512, 512) dtype=float32_ref>), ('8x8/Conv1/mod_bias', <tf.Variable 'G_synthesis_1/8x8/Conv1/mod_bias:0' shape=(512,) dtype=float32_ref>), ('8x8/Conv1/noise_strength', <tf.Variable 'G_synthesis_1/8x8/Conv1/noise_strength:0' shape=() dtype=float32_ref>), ('8x8/Conv1/bias', <tf.Variable 'G_synthesis_1/8x8/Conv1/bias:0' shape=(512,) dtype=float32_ref>), ('8x8/ToRGB/weight', <tf.Variable 'G_synthesis_1/8x8/ToRGB/weight:0' shape=(1, 1, 512, 3) dtype=float32_ref>), ('8x8/ToRGB/mod_weight', <tf.Variable 'G_synthesis_1/8x8/ToRGB/mod_weight:0' shape=(512, 512) dtype=float32_ref>), ('8x8/ToRGB/mod_bias', <tf.Variable 'G_synthesis_1/8x8/ToRGB/mod_bias:0' shape=(512,) dtype=float32_ref>), ('8x8/ToRGB/bias', <tf.Variable 'G_synthesis_1/8x8/ToRGB/bias:0' shape=(3,) dtype=float32_ref>), ('16x16/Conv0_up/weight', <tf.Variable 'G_synthesis_1/16x16/Conv0_up/weight:0' shape=(3, 3, 512, 512) dtype=float32_ref>), ('16x16/Conv0_up/mod_weight', <tf.Variable 'G_synthesis_1/16x16/Conv0_up/mod_weight:0' shape=(512, 512) dtype=float32_ref>), ('16x16/Conv0_up/mod_bias', <tf.Variable 'G_synthesis_1/16x16/Conv0_up/mod_bias:0' shape=(512,) dtype=float32_ref>), ('16x16/Conv0_up/noise_strength', <tf.Variable 'G_synthesis_1/16x16/Conv0_up/noise_strength:0' shape=() dtype=float32_ref>), ('16x16/Conv0_up/bias', <tf.Variable 'G_synthesis_1/16x16/Conv0_up/bias:0' shape=(512,) dtype=float32_ref>), ('16x16/Conv1/weight', <tf.Variable 'G_synthesis_1/16x16/Conv1/weight:0' shape=(3, 3, 512, 512) dtype=float32_ref>), ('16x16/Conv1/mod_weight', <tf.Variable 'G_synthesis_1/16x16/Conv1/mod_weight:0' shape=(512, 512) dtype=float32_ref>), ('16x16/Conv1/mod_bias', <tf.Variable 'G_synthesis_1/16x16/Conv1/mod_bias:0' shape=(512,) dtype=float32_ref>), ('16x16/Conv1/noise_strength', <tf.Variable 'G_synthesis_1/16x16/Conv1/noise_strength:0' shape=() dtype=float32_ref>), ('16x16/Conv1/bias', <tf.Variable 'G_synthesis_1/16x16/Conv1/bias:0' shape=(512,) dtype=float32_ref>), ('16x16/ToRGB/weight', <tf.Variable 'G_synthesis_1/16x16/ToRGB/weight:0' shape=(1, 1, 512, 3) dtype=float32_ref>), ('16x16/ToRGB/mod_weight', <tf.Variable 'G_synthesis_1/16x16/ToRGB/mod_weight:0' shape=(512, 512) dtype=float32_ref>), ('16x16/ToRGB/mod_bias', <tf.Variable 'G_synthesis_1/16x16/ToRGB/mod_bias:0' shape=(512,) dtype=float32_ref>), ('16x16/ToRGB/bias', <tf.Variable 'G_synthesis_1/16x16/ToRGB/bias:0' shape=(3,) dtype=float32_ref>), ('32x32/Conv0_up/weight', <tf.Variable 'G_synthesis_1/32x32/Conv0_up/weight:0' shape=(3, 3, 512, 512) dtype=float32_ref>), ('32x32/Conv0_up/mod_weight', <tf.Variable 'G_synthesis_1/32x32/Conv0_up/mod_weight:0' shape=(512, 512) dtype=float32_ref>), ('32x32/Conv0_up/mod_bias', <tf.Variable 'G_synthesis_1/32x32/Conv0_up/mod_bias:0' shape=(512,) dtype=float32_ref>), ('32x32/Conv0_up/noise_strength', <tf.Variable 'G_synthesis_1/32x32/Conv0_up/noise_strength:0' shape=() dtype=float32_ref>), ('32x32/Conv0_up/bias', <tf.Variable 'G_synthesis_1/32x32/Conv0_up/bias:0' shape=(512,) dtype=float32_ref>), ('32x32/Conv1/weight', <tf.Variable 'G_synthesis_1/32x32/Conv1/weight:0' shape=(3, 3, 512, 512) dtype=float32_ref>), ('32x32/Conv1/mod_weight', <tf.Variable 'G_synthesis_1/32x32/Conv1/mod_weight:0' shape=(512, 512) dtype=float32_ref>), ('32x32/Conv1/mod_bias', <tf.Variable 'G_synthesis_1/32x32/Conv1/mod_bias:0' shape=(512,) dtype=float32_ref>), ('32x32/Conv1/noise_strength', <tf.Variable 'G_synthesis_1/32x32/Conv1/noise_strength:0' shape=() dtype=float32_ref>), ('32x32/Conv1/bias', <tf.Variable 'G_synthesis_1/32x32/Conv1/bias:0' shape=(512,) dtype=float32_ref>), ('32x32/ToRGB/weight', <tf.Variable 'G_synthesis_1/32x32/ToRGB/weight:0' shape=(1, 1, 512, 3) dtype=float32_ref>), ('32x32/ToRGB/mod_weight', <tf.Variable 'G_synthesis_1/32x32/ToRGB/mod_weight:0' shape=(512, 512) dtype=float32_ref>), ('32x32/ToRGB/mod_bias', <tf.Variable 'G_synthesis_1/32x32/ToRGB/mod_bias:0' shape=(512,) dtype=float32_ref>), ('32x32/ToRGB/bias', <tf.Variable 'G_synthesis_1/32x32/ToRGB/bias:0' shape=(3,) dtype=float32_ref>), ('64x64/Conv0_up/weight', <tf.Variable 'G_synthesis_1/64x64/Conv0_up/weight:0' shape=(3, 3, 512, 512) dtype=float32_ref>), ('64x64/Conv0_up/mod_weight', <tf.Variable 'G_synthesis_1/64x64/Conv0_up/mod_weight:0' shape=(512, 512) dtype=float32_ref>), ('64x64/Conv0_up/mod_bias', <tf.Variable 'G_synthesis_1/64x64/Conv0_up/mod_bias:0' shape=(512,) dtype=float32_ref>), ('64x64/Conv0_up/noise_strength', <tf.Variable 'G_synthesis_1/64x64/Conv0_up/noise_strength:0' shape=() dtype=float32_ref>), ('64x64/Conv0_up/bias', <tf.Variable 'G_synthesis_1/64x64/Conv0_up/bias:0' shape=(512,) dtype=float32_ref>), ('64x64/Conv1/weight', <tf.Variable 'G_synthesis_1/64x64/Conv1/weight:0' shape=(3, 3, 512, 512) dtype=float32_ref>), ('64x64/Conv1/mod_weight', <tf.Variable 'G_synthesis_1/64x64/Conv1/mod_weight:0' shape=(512, 512) dtype=float32_ref>), ('64x64/Conv1/mod_bias', <tf.Variable 'G_synthesis_1/64x64/Conv1/mod_bias:0' shape=(512,) dtype=float32_ref>), ('64x64/Conv1/noise_strength', <tf.Variable 'G_synthesis_1/64x64/Conv1/noise_strength:0' shape=() dtype=float32_ref>), ('64x64/Conv1/bias', <tf.Variable 'G_synthesis_1/64x64/Conv1/bias:0' shape=(512,) dtype=float32_ref>), ('64x64/ToRGB/weight', <tf.Variable 'G_synthesis_1/64x64/ToRGB/weight:0' shape=(1, 1, 512, 3) dtype=float32_ref>), ('64x64/ToRGB/mod_weight', <tf.Variable 'G_synthesis_1/64x64/ToRGB/mod_weight:0' shape=(512, 512) dtype=float32_ref>), ('64x64/ToRGB/mod_bias', <tf.Variable 'G_synthesis_1/64x64/ToRGB/mod_bias:0' shape=(512,) dtype=float32_ref>), ('64x64/ToRGB/bias', <tf.Variable 'G_synthesis_1/64x64/ToRGB/bias:0' shape=(3,) dtype=float32_ref>), ('128x128/Conv0_up/weight', <tf.Variable 'G_synthesis_1/128x128/Conv0_up/weight:0' shape=(3, 3, 512, 256) dtype=float32_ref>), ('128x128/Conv0_up/mod_weight', <tf.Variable 'G_synthesis_1/128x128/Conv0_up/mod_weight:0' shape=(512, 512) dtype=float32_ref>), ('128x128/Conv0_up/mod_bias', <tf.Variable 'G_synthesis_1/128x128/Conv0_up/mod_bias:0' shape=(512,) dtype=float32_ref>), ('128x128/Conv0_up/noise_strength', <tf.Variable 'G_synthesis_1/128x128/Conv0_up/noise_strength:0' shape=() dtype=float32_ref>), ('128x128/Conv0_up/bias', <tf.Variable 'G_synthesis_1/128x128/Conv0_up/bias:0' shape=(256,) dtype=float32_ref>), ('128x128/Conv1/weight', <tf.Variable 'G_synthesis_1/128x128/Conv1/weight:0' shape=(3, 3, 256, 256) dtype=float32_ref>), ('128x128/Conv1/mod_weight', <tf.Variable 'G_synthesis_1/128x128/Conv1/mod_weight:0' shape=(512, 256) dtype=float32_ref>), ('128x128/Conv1/mod_bias', <tf.Variable 'G_synthesis_1/128x128/Conv1/mod_bias:0' shape=(256,) dtype=float32_ref>), ('128x128/Conv1/noise_strength', <tf.Variable 'G_synthesis_1/128x128/Conv1/noise_strength:0' shape=() dtype=float32_ref>), ('128x128/Conv1/bias', <tf.Variable 'G_synthesis_1/128x128/Conv1/bias:0' shape=(256,) dtype=float32_ref>), ('128x128/ToRGB/weight', <tf.Variable 'G_synthesis_1/128x128/ToRGB/weight:0' shape=(1, 1, 256, 3) dtype=float32_ref>), ('128x128/ToRGB/mod_weight', <tf.Variable 'G_synthesis_1/128x128/ToRGB/mod_weight:0' shape=(512, 256) dtype=float32_ref>), ('128x128/ToRGB/mod_bias', <tf.Variable 'G_synthesis_1/128x128/ToRGB/mod_bias:0' shape=(256,) dtype=float32_ref>), ('128x128/ToRGB/bias', <tf.Variable 'G_synthesis_1/128x128/ToRGB/bias:0' shape=(3,) dtype=float32_ref>), ('256x256/Conv0_up/weight', <tf.Variable 'G_synthesis_1/256x256/Conv0_up/weight:0' shape=(3, 3, 256, 128) dtype=float32_ref>), ('256x256/Conv0_up/mod_weight', <tf.Variable 'G_synthesis_1/256x256/Conv0_up/mod_weight:0' shape=(512, 256) dtype=float32_ref>), ('256x256/Conv0_up/mod_bias', <tf.Variable 'G_synthesis_1/256x256/Conv0_up/mod_bias:0' shape=(256,) dtype=float32_ref>), ('256x256/Conv0_up/noise_strength', <tf.Variable 'G_synthesis_1/256x256/Conv0_up/noise_strength:0' shape=() dtype=float32_ref>), ('256x256/Conv0_up/bias', <tf.Variable 'G_synthesis_1/256x256/Conv0_up/bias:0' shape=(128,) dtype=float32_ref>), ('256x256/Conv1/weight', <tf.Variable 'G_synthesis_1/256x256/Conv1/weight:0' shape=(3, 3, 128, 128) dtype=float32_ref>), ('256x256/Conv1/mod_weight', <tf.Variable 'G_synthesis_1/256x256/Conv1/mod_weight:0' shape=(512, 128) dtype=float32_ref>), ('256x256/Conv1/mod_bias', <tf.Variable 'G_synthesis_1/256x256/Conv1/mod_bias:0' shape=(128,) dtype=float32_ref>), ('256x256/Conv1/noise_strength', <tf.Variable 'G_synthesis_1/256x256/Conv1/noise_strength:0' shape=() dtype=float32_ref>), ('256x256/Conv1/bias', <tf.Variable 'G_synthesis_1/256x256/Conv1/bias:0' shape=(128,) dtype=float32_ref>), ('256x256/ToRGB/weight', <tf.Variable 'G_synthesis_1/256x256/ToRGB/weight:0' shape=(1, 1, 128, 3) dtype=float32_ref>), ('256x256/ToRGB/mod_weight', <tf.Variable 'G_synthesis_1/256x256/ToRGB/mod_weight:0' shape=(512, 128) dtype=float32_ref>), ('256x256/ToRGB/mod_bias', <tf.Variable 'G_synthesis_1/256x256/ToRGB/mod_bias:0' shape=(128,) dtype=float32_ref>), ('256x256/ToRGB/bias', <tf.Variable 'G_synthesis_1/256x256/ToRGB/bias:0' shape=(3,) dtype=float32_ref>), ('512x512/Conv0_up/weight', <tf.Variable 'G_synthesis_1/512x512/Conv0_up/weight:0' shape=(3, 3, 128, 64) dtype=float32_ref>), ('512x512/Conv0_up/mod_weight', <tf.Variable 'G_synthesis_1/512x512/Conv0_up/mod_weight:0' shape=(512, 128) dtype=float32_ref>), ('512x512/Conv0_up/mod_bias', <tf.Variable 'G_synthesis_1/512x512/Conv0_up/mod_bias:0' shape=(128,) dtype=float32_ref>), ('512x512/Conv0_up/noise_strength', <tf.Variable 'G_synthesis_1/512x512/Conv0_up/noise_strength:0' shape=() dtype=float32_ref>), ('512x512/Conv0_up/bias', <tf.Variable 'G_synthesis_1/512x512/Conv0_up/bias:0' shape=(64,) dtype=float32_ref>), ('512x512/Conv1/weight', <tf.Variable 'G_synthesis_1/512x512/Conv1/weight:0' shape=(3, 3, 64, 64) dtype=float32_ref>), ('512x512/Conv1/mod_weight', <tf.Variable 'G_synthesis_1/512x512/Conv1/mod_weight:0' shape=(512, 64) dtype=float32_ref>), ('512x512/Conv1/mod_bias', <tf.Variable 'G_synthesis_1/512x512/Conv1/mod_bias:0' shape=(64,) dtype=float32_ref>), ('512x512/Conv1/noise_strength', <tf.Variable 'G_synthesis_1/512x512/Conv1/noise_strength:0' shape=() dtype=float32_ref>), ('512x512/Conv1/bias', <tf.Variable 'G_synthesis_1/512x512/Conv1/bias:0' shape=(64,) dtype=float32_ref>), ('512x512/ToRGB/weight', <tf.Variable 'G_synthesis_1/512x512/ToRGB/weight:0' shape=(1, 1, 64, 3) dtype=float32_ref>), ('512x512/ToRGB/mod_weight', <tf.Variable 'G_synthesis_1/512x512/ToRGB/mod_weight:0' shape=(512, 64) dtype=float32_ref>), ('512x512/ToRGB/mod_bias', <tf.Variable 'G_synthesis_1/512x512/ToRGB/mod_bias:0' shape=(64,) dtype=float32_ref>), ('512x512/ToRGB/bias', <tf.Variable 'G_synthesis_1/512x512/ToRGB/bias:0' shape=(3,) dtype=float32_ref>), ('1024x1024/Conv0_up/weight', <tf.Variable 'G_synthesis_1/1024x1024/Conv0_up/weight:0' shape=(3, 3, 64, 32) dtype=float32_ref>), ('1024x1024/Conv0_up/mod_weight', <tf.Variable 'G_synthesis_1/1024x1024/Conv0_up/mod_weight:0' shape=(512, 64) dtype=float32_ref>), ('1024x1024/Conv0_up/mod_bias', <tf.Variable 'G_synthesis_1/1024x1024/Conv0_up/mod_bias:0' shape=(64,) dtype=float32_ref>), ('1024x1024/Conv0_up/noise_strength', <tf.Variable 'G_synthesis_1/1024x1024/Conv0_up/noise_strength:0' shape=() dtype=float32_ref>), ('1024x1024/Conv0_up/bias', <tf.Variable 'G_synthesis_1/1024x1024/Conv0_up/bias:0' shape=(32,) dtype=float32_ref>), ('1024x1024/Conv1/weight', <tf.Variable 'G_synthesis_1/1024x1024/Conv1/weight:0' shape=(3, 3, 32, 32) dtype=float32_ref>), ('1024x1024/Conv1/mod_weight', <tf.Variable 'G_synthesis_1/1024x1024/Conv1/mod_weight:0' shape=(512, 32) dtype=float32_ref>), ('1024x1024/Conv1/mod_bias', <tf.Variable 'G_synthesis_1/1024x1024/Conv1/mod_bias:0' shape=(32,) dtype=float32_ref>), ('1024x1024/Conv1/noise_strength', <tf.Variable 'G_synthesis_1/1024x1024/Conv1/noise_strength:0' shape=() dtype=float32_ref>), ('1024x1024/Conv1/bias', <tf.Variable 'G_synthesis_1/1024x1024/Conv1/bias:0' shape=(32,) dtype=float32_ref>), ('1024x1024/ToRGB/weight', <tf.Variable 'G_synthesis_1/1024x1024/ToRGB/weight:0' shape=(1, 1, 32, 3) dtype=float32_ref>), ('1024x1024/ToRGB/mod_weight', <tf.Variable 'G_synthesis_1/1024x1024/ToRGB/mod_weight:0' shape=(512, 32) dtype=float32_ref>), ('1024x1024/ToRGB/mod_bias', <tf.Variable 'G_synthesis_1/1024x1024/ToRGB/mod_bias:0' shape=(32,) dtype=float32_ref>), ('1024x1024/ToRGB/bias', <tf.Variable 'G_synthesis_1/1024x1024/ToRGB/bias:0' shape=(3,) dtype=float32_ref>)])\n",
            "Generating image for seed 6000...\n",
            "Noise Vars:  [<tf.Variable 'G_synthesis_1/noise0:0' shape=(1, 1, 4, 4) dtype=float32_ref>, <tf.Variable 'G_synthesis_1/noise1:0' shape=(1, 1, 8, 8) dtype=float32_ref>, <tf.Variable 'G_synthesis_1/noise2:0' shape=(1, 1, 8, 8) dtype=float32_ref>, <tf.Variable 'G_synthesis_1/noise3:0' shape=(1, 1, 16, 16) dtype=float32_ref>, <tf.Variable 'G_synthesis_1/noise4:0' shape=(1, 1, 16, 16) dtype=float32_ref>, <tf.Variable 'G_synthesis_1/noise5:0' shape=(1, 1, 32, 32) dtype=float32_ref>, <tf.Variable 'G_synthesis_1/noise6:0' shape=(1, 1, 32, 32) dtype=float32_ref>, <tf.Variable 'G_synthesis_1/noise7:0' shape=(1, 1, 64, 64) dtype=float32_ref>, <tf.Variable 'G_synthesis_1/noise8:0' shape=(1, 1, 64, 64) dtype=float32_ref>, <tf.Variable 'G_synthesis_1/noise9:0' shape=(1, 1, 128, 128) dtype=float32_ref>, <tf.Variable 'G_synthesis_1/noise10:0' shape=(1, 1, 128, 128) dtype=float32_ref>, <tf.Variable 'G_synthesis_1/noise11:0' shape=(1, 1, 256, 256) dtype=float32_ref>, <tf.Variable 'G_synthesis_1/noise12:0' shape=(1, 1, 256, 256) dtype=float32_ref>, <tf.Variable 'G_synthesis_1/noise13:0' shape=(1, 1, 512, 512) dtype=float32_ref>, <tf.Variable 'G_synthesis_1/noise14:0' shape=(1, 1, 512, 512) dtype=float32_ref>, <tf.Variable 'G_synthesis_1/noise15:0' shape=(1, 1, 1024, 1024) dtype=float32_ref>, <tf.Variable 'G_synthesis_1/noise16:0' shape=(1, 1, 1024, 1024) dtype=float32_ref>]\n",
            "Input size:  512\n",
            "Input: \n",
            " [[-7.72544216e-01 -3.39929769e-01 -8.92330044e-01  6.60012693e-01\n",
            "   2.53679881e-01  1.57325757e+00 -5.78789855e-01 -1.55785612e+00\n",
            "   2.95479468e-01 -4.85479266e-01 -9.03350599e-01  1.66427851e+00\n",
            "   1.79986260e+00 -1.72902192e-01  9.33821253e-01  1.74738493e+00\n",
            "   3.71031162e-01  1.25702929e-02 -1.68681848e+00 -5.72063643e-01\n",
            "   2.58757592e+00  4.65444508e-01  2.02700468e+00 -1.11383862e-01\n",
            "   2.19222981e+00  2.97052881e-01  8.25193884e-02 -1.49783838e-01\n",
            "  -1.22151596e+00 -2.06999037e-01 -1.22745850e+00 -6.03719233e-01\n",
            "  -3.10550022e-01 -1.32110628e-01  1.80601649e-01  2.28241427e-01\n",
            "   2.27713044e+00  9.37930569e-01  1.07194477e-01 -1.29201888e+00\n",
            "   8.86636477e-01  3.47567772e-01 -3.02840637e-02  1.52717188e+00\n",
            "  -1.78813023e+00  2.29437173e-01  4.51785581e-01  3.17835306e-01\n",
            "  -2.64084182e-01 -2.61078729e+00  1.26779312e+00 -6.72769997e-01\n",
            "   1.40877504e+00 -1.10009129e-01  1.78900208e-01  1.38398645e+00\n",
            "  -9.15806780e-02 -1.01366118e+00 -6.85502592e-01  7.54458865e-01\n",
            "   2.12126125e-01  5.48806565e-01  5.32713975e-01  5.31343003e-01\n",
            "  -4.69773399e-02 -4.41484320e-01  1.13222787e+00 -3.51552402e-01\n",
            "  -4.37358899e-01 -8.37318444e-01 -1.70154465e+00 -1.21685729e+00\n",
            "   1.04084485e+00  9.10038595e-01  1.11522027e+00  2.25810064e-01\n",
            "  -4.09191884e-01  8.53896125e-01  1.51261132e+00 -1.56923027e-01\n",
            "   6.44519673e-01  1.19689482e+00  2.21773716e+00  1.12918624e+00\n",
            "  -9.04161348e-02 -5.95874984e-01  1.85938224e-02  4.32931948e-02\n",
            "  -7.26415991e-01  3.14426593e-01  4.63097307e-01  8.98224581e-02\n",
            "   7.79871022e-01 -9.91976615e-01  6.91027287e-01  6.37487236e-01\n",
            "  -1.23884754e+00  1.48654861e+00 -1.44159240e+00  9.14457567e-01\n",
            "   1.72496750e+00  1.14481966e-01 -4.25086754e-01  2.07177728e-01\n",
            "  -1.54312321e+00  5.76124180e-01  2.71096014e+00  1.47920883e+00\n",
            "   1.23276770e+00 -1.80240703e+00 -6.39236783e-01 -5.72830820e-01\n",
            "   1.35124506e+00  4.35382416e-01 -4.53655632e-01 -9.33280697e-01\n",
            "   3.07595394e-01  1.47368074e+00 -1.84925352e+00  2.07766393e+00\n",
            "  -7.26608923e-01  5.88002412e-02  1.04867364e+00  1.08774678e+00\n",
            "   1.67528865e+00  7.23294899e-01  5.75862775e-01 -1.63934368e+00\n",
            "   1.85641853e+00 -1.21528046e+00 -2.28616380e-01  1.74365469e+00\n",
            "   1.16422431e-01  5.00329159e-01 -1.40409653e+00  9.17046575e-01\n",
            "   4.48609697e-01  4.01554659e-01  4.33265866e-01 -2.20710779e-01\n",
            "   3.50840572e-01 -1.57297936e+00 -3.95681150e-01  7.28112510e-01\n",
            "   8.83450933e-01 -1.18180440e+00  5.49841699e-01 -7.94942146e-01\n",
            "  -3.99053379e-01 -1.19514962e-01  1.21856225e-01 -2.17195363e-01\n",
            "   1.79140442e+00  9.27116211e-01 -7.77341002e-01 -7.03342820e-01\n",
            "  -1.06904217e-01 -2.22505992e-01  1.14431249e+00 -1.62448583e+00\n",
            "  -3.62499676e-01  6.65048655e-01  1.82619725e-01 -6.34946059e-01\n",
            "   6.37490552e-01 -2.34623352e-01  7.09552495e-01  2.94501147e-01\n",
            "   1.39938468e+00  2.10728240e-01 -4.92438557e-01  4.88439502e-01\n",
            "   4.84684970e-01 -1.00074966e+00 -9.37805530e-01 -5.71437105e-01\n",
            "   9.71771743e-01 -6.62935437e-01 -3.48545756e-01  5.79427062e-01\n",
            "   5.99966754e-02  1.11581326e+00 -5.61516606e-01  3.21033697e+00\n",
            "   1.92180804e-01  4.86419313e-01  1.38421321e+00 -6.92652493e-01\n",
            "  -1.23914467e+00  4.70616534e-01  1.92346821e+00  7.13450956e-01\n",
            "   4.12267346e-02 -1.86794482e+00  1.55026398e-01  1.21792706e+00\n",
            "  -1.67897423e-01  2.91314863e-04 -3.72594474e-01  2.78086003e-01\n",
            "  -7.04339508e-02 -4.33840270e-01 -6.49252730e-01  1.43775129e+00\n",
            "   1.08603942e+00 -3.43488647e-02  6.64440965e-01 -2.00528227e+00\n",
            "  -4.04848717e-01 -1.06314212e-01  7.49120723e-01 -1.35018864e+00\n",
            "   3.18468590e-01  5.63620259e-01  7.48975460e-01  4.46186584e-01\n",
            "   4.11929183e-01  7.34371273e-01 -1.37014149e+00 -2.97660242e-01\n",
            "   4.08534233e-01  5.84278765e-01 -1.27046211e+00 -3.04640761e-02\n",
            "   2.12665140e+00  2.97698484e-02 -2.28544813e-01 -1.05155171e+00\n",
            "   3.44348040e-02 -4.56643543e-01 -2.04250008e+00 -8.64863935e-01\n",
            "   1.01132730e+00  7.98960720e-01 -9.03635922e-01  7.79709571e-01\n",
            "  -2.43316304e-01  1.50919428e+00  1.06651630e+00  9.18354758e-01\n",
            "  -1.48049349e+00  2.34234131e-01 -1.71921215e-01  3.36199940e-01\n",
            "   1.30992153e+00  5.85132339e-01 -7.91064499e-01 -1.66279170e+00\n",
            "  -1.67555234e+00 -1.21779146e+00 -6.70063911e-01 -1.00679556e+00\n",
            "  -7.68410058e-01 -1.43024918e+00  9.03145339e-01 -8.96920471e-02\n",
            "   3.14381555e-01 -1.01141305e+00  3.13037526e-01 -6.43806070e-01\n",
            "  -5.44403201e-01 -2.76865193e-01  1.00672913e+00  3.32049524e-01\n",
            "   1.36744021e+00  1.77410391e-01 -1.65432147e+00  2.46563416e-01\n",
            "   3.22353809e+00 -1.33806392e+00 -7.17633935e-01  1.20257580e-01\n",
            "  -8.35493084e-01 -5.73825885e-01 -1.34011464e+00 -1.10471658e+00\n",
            "   1.01709877e+00 -1.05738471e+00  1.19452136e-01 -1.08050996e+00\n",
            "  -4.36795311e-01 -2.82544881e-01 -1.28161012e+00  1.18384779e+00\n",
            "   5.46150492e-01 -1.04832012e-02  6.57634206e-01  1.54042297e+00\n",
            "   1.01561366e+00  7.56104544e-01  8.64890647e-01 -1.27812745e+00\n",
            "  -3.27380347e-01  9.92464918e-01  1.49993969e+00  1.02498293e+00\n",
            "  -1.12114034e+00  2.62396713e-01 -7.40293959e-01 -1.40406452e+00\n",
            "  -1.28355622e-01 -1.45743752e+00  2.08674248e-01  2.61856108e-01\n",
            "  -5.55019187e-01 -4.39492644e-01  5.84437756e-01 -7.00787379e-01\n",
            "   3.52410599e-01 -9.31202052e-01 -1.03050303e+00 -8.95817949e-02\n",
            "  -2.19530240e-01  4.03206703e-01 -6.38394450e-01 -2.78226885e-01\n",
            "   3.07409853e-01  1.33338153e+00 -5.26376253e-01  3.29063054e-01\n",
            "   9.57933271e-01  5.94801565e-02 -8.19382405e-01  2.22514519e-01\n",
            "   2.35767868e-02  1.20844087e+00  1.60542209e+00  2.25935367e-01\n",
            "   3.59039386e-01  4.22925350e-01 -6.70931538e-01  6.45165242e-02\n",
            "   6.16565910e-01 -6.81074155e-02  4.80671574e-01 -5.59202598e-01\n",
            "  -4.92572775e-01 -9.81040372e-01  2.36658257e+00 -4.34466827e-02\n",
            "  -1.95435229e+00  4.72758534e-01 -1.25827260e+00 -2.63931746e+00\n",
            "   2.47502272e+00 -2.91441224e-01  2.05858402e-01 -9.19647360e-02\n",
            "   8.44922448e-01  2.66314504e-01 -4.27154835e-01 -2.16215920e-01\n",
            "  -9.46188252e-01 -2.81468518e-01 -1.21104183e+00  2.69229397e-01\n",
            "  -7.18058318e-02  6.31482371e-01 -1.27738872e+00 -2.26621187e-01\n",
            "   2.96830766e-01  2.62637449e-01 -1.28231519e+00  8.38855569e-01\n",
            "  -2.07513798e-01  1.34560887e+00 -9.80877411e-01  2.60632615e+00\n",
            "   8.84399051e-01 -1.12805596e+00 -2.66149762e-01  2.16895491e-01\n",
            "  -2.41418200e-01  9.35073816e-02 -2.95980748e-01  2.17617120e+00\n",
            "  -3.25949433e+00  2.89105159e-01  9.55905472e-01  1.21179977e+00\n",
            "  -3.81162142e-01 -7.32833661e-01  2.87951585e-01  8.06491632e-01\n",
            "   8.14159251e-01 -7.76523102e-01  4.25417653e-01 -6.74859099e-01\n",
            "   1.56219170e+00 -6.21956740e-01  6.18653480e-01  2.65459199e-01\n",
            "   9.34103373e-02  3.54691571e-02  1.75456782e+00 -8.65578172e-01\n",
            "   8.47630467e-01 -2.10910005e-01  2.83083188e-01 -6.19136127e-01\n",
            "   5.38560809e-01 -1.96597529e+00  7.81340014e-01  1.01529542e+00\n",
            "   3.54364411e-01 -1.23186605e+00 -6.67590405e-02 -2.57709066e-01\n",
            "   2.34353036e-01 -1.24225656e+00 -1.56075878e-01 -2.17365262e+00\n",
            "   8.54508367e-01 -1.61635168e-02  2.00869397e+00  4.19258473e-01\n",
            "  -7.55692121e-01  1.01890460e+00 -6.51454296e-01  3.97806556e-01\n",
            "   9.08627308e-01  6.61918236e-01 -5.45097430e-02  9.19554779e-01\n",
            "   2.80495698e+00 -1.58630449e+00 -1.04075243e+00 -2.99236896e-01\n",
            "   6.05553637e-01  3.65105493e-01 -1.21749718e+00 -6.46608918e-01\n",
            "  -7.34922384e-01 -3.22171450e+00  7.59242458e-01  2.35926320e+00\n",
            "   4.82721488e-02 -8.68150145e-01  9.34038806e-01 -6.87175829e-01\n",
            "   8.82839865e-01 -3.84125642e-01  4.69951884e-01 -7.04025031e-01\n",
            "  -2.87562173e-01  6.22993469e-01 -1.85177973e-01 -1.69932597e+00\n",
            "   3.35950907e-01  5.58117788e-01  1.45201014e-01 -3.17379046e-01\n",
            "   2.22422911e+00 -8.25739925e-02 -1.53929615e+00  1.82635749e+00\n",
            "   4.40695720e-02  6.95737573e-01  8.65010902e-01  1.36359078e+00\n",
            "  -7.25847074e-01  6.05890651e-02 -1.98486238e-01 -3.08370122e-01\n",
            "  -9.94156342e-01 -1.30547859e-01  7.66648472e-02 -7.25178090e-01\n",
            "   3.05559206e-01 -1.45865792e-02  7.15866102e-01  1.08874311e+00\n",
            "  -2.24885542e-01  2.09260967e-01  8.22595144e-01 -6.21590465e-01\n",
            "  -7.75946239e-02  2.35701471e+00 -5.24949128e-02 -8.59519767e-01\n",
            "   1.70567264e+00  3.40741680e-01 -9.62863353e-01  7.03797461e-01\n",
            "  -4.64199250e-01  2.54778779e+00 -1.17689357e+00  2.41373103e-01\n",
            "  -3.64876168e-01 -1.44770566e-01 -1.31779287e-01 -7.60241500e-01\n",
            "   2.18399107e-01 -1.24982450e+00 -4.88884477e-01 -9.57049864e-01\n",
            "   6.61344102e-01  2.32803446e+00 -5.76893028e-02 -1.17576602e+00\n",
            "  -8.79196453e-01  2.20387927e+00 -8.76041968e-02 -7.31805128e-01\n",
            "  -1.95765184e-01 -7.96986396e-01 -1.30035391e+00  1.90040499e-01\n",
            "  -6.75429374e-01 -3.27591636e-01 -2.76386133e-02  3.03185512e-01]]\n"
          ]
        }
      ]
    },
    {
      "cell_type": "code",
      "metadata": {
        "colab": {
          "base_uri": "https://localhost:8080/",
          "height": 287
        },
        "id": "-RKFWz0ZuAqZ",
        "outputId": "e6768a9c-6159-4d29-bf4a-82aa9257240c"
      },
      "source": [
        "imshow(img)"
      ],
      "execution_count": null,
      "outputs": [
        {
          "output_type": "execute_result",
          "data": {
            "text/plain": [
              "<matplotlib.image.AxesImage at 0x7fb12d931750>"
            ]
          },
          "metadata": {},
          "execution_count": 6
        },
        {
          "output_type": "display_data",
          "data": {
            "image/png": "[encoded data removed]",
            "text/plain": [
              "<Figure size 432x288 with 1 Axes>"
            ]
          },
          "metadata": {
            "needs_background": "light"
          }
        }
      ]
    },
    {
      "cell_type": "code",
      "metadata": {
        "colab": {
          "base_uri": "https://localhost:8080/",
          "height": 174
        },
        "id": "nEHlHCv8oyAY",
        "outputId": "158dd6d1-3c2f-4651-bc31-44d1920474f1"
      },
      "source": [
        "print(img.shape())"
      ],
      "execution_count": null,
      "outputs": [
        {
          "output_type": "error",
          "ename": "AttributeError",
          "evalue": "ignored",
          "traceback": [
            "\u001b[0;31m---------------------------------------------------------------------------\u001b[0m",
            "\u001b[0;31mAttributeError\u001b[0m                            Traceback (most recent call last)",
            "\u001b[0;32m<ipython-input-8-44659529dabe>\u001b[0m in \u001b[0;36m<module>\u001b[0;34m()\u001b[0m\n\u001b[0;32m----> 1\u001b[0;31m \u001b[0mprint\u001b[0m\u001b[0;34m(\u001b[0m\u001b[0mimg\u001b[0m\u001b[0;34m.\u001b[0m\u001b[0mshape\u001b[0m\u001b[0;34m(\u001b[0m\u001b[0;34m)\u001b[0m\u001b[0;34m)\u001b[0m\u001b[0;34m\u001b[0m\u001b[0;34m\u001b[0m\u001b[0m\n\u001b[0m",
            "\u001b[0;31mAttributeError\u001b[0m: 'Image' object has no attribute 'shape'"
          ]
        }
      ]
    },
    {
      "cell_type": "code",
      "metadata": {
        "id": "ZbPlVF_xBF7h",
        "colab": {
          "base_uri": "https://localhost:8080/"
        },
        "outputId": "593ef36e-943d-4f5b-98b9-adb755d21781"
      },
      "source": [
        "!python run_generator.py generate-images --network=gdrive:networks/stylegan2-ffhq-config-f.pkl \\\n",
        "  --seeds=6600-6625 --truncation-psi=0.5"
      ],
      "execution_count": null,
      "outputs": [
        {
          "output_type": "stream",
          "name": "stdout",
          "text": [
            "Local submit - run_dir: results/00000-generate-images\n",
            "dnnlib: Running run_generator.generate_images() on localhost...\n",
            "Loading networks from \"gdrive:networks/stylegan2-ffhq-config-f.pkl\"...\n",
            "Downloading https://nvlabs-fi-cdn.nvidia.com/stylegan2/networks/stylegan2-ffhq-config-f.pkl ... done\n",
            "Setting up TensorFlow plugin \"fused_bias_act.cu\": Preprocessing... Compiling... Loading... Done.\n",
            "Setting up TensorFlow plugin \"upfirdn_2d.cu\": Preprocessing... Compiling... Loading... Done.\n",
            "Generating image for seed 6600 (0/26) ...\n",
            "Generating image for seed 6601 (1/26) ...\n",
            "Generating image for seed 6602 (2/26) ...\n",
            "Generating image for seed 6603 (3/26) ...\n",
            "Generating image for seed 6604 (4/26) ...\n",
            "Generating image for seed 6605 (5/26) ...\n",
            "Generating image for seed 6606 (6/26) ...\n",
            "Generating image for seed 6607 (7/26) ...\n",
            "Generating image for seed 6608 (8/26) ...\n",
            "Generating image for seed 6609 (9/26) ...\n",
            "Generating image for seed 6610 (10/26) ...\n",
            "Generating image for seed 6611 (11/26) ...\n",
            "Generating image for seed 6612 (12/26) ...\n",
            "Generating image for seed 6613 (13/26) ...\n",
            "Generating image for seed 6614 (14/26) ...\n",
            "Generating image for seed 6615 (15/26) ...\n",
            "Generating image for seed 6616 (16/26) ...\n",
            "Generating image for seed 6617 (17/26) ...\n",
            "Generating image for seed 6618 (18/26) ...\n",
            "Generating image for seed 6619 (19/26) ...\n",
            "Generating image for seed 6620 (20/26) ...\n",
            "Generating image for seed 6621 (21/26) ...\n",
            "Generating image for seed 6622 (22/26) ...\n",
            "Generating image for seed 6623 (23/26) ...\n",
            "Generating image for seed 6624 (24/26) ...\n",
            "Generating image for seed 6625 (25/26) ...\n",
            "dnnlib: Finished run_generator.generate_images() in 1m 31s.\n"
          ]
        }
      ]
    },
    {
      "cell_type": "code",
      "source": [
        "!pip install sentence-transformers"
      ],
      "metadata": {
        "colab": {
          "base_uri": "https://localhost:8080/",
          "height": 1000
        },
        "id": "9daaqH0JOH1A",
        "outputId": "3d865c41-c676-4e82-b273-f15db8c9c9a0"
      },
      "execution_count": null,
      "outputs": [
        {
          "output_type": "stream",
          "name": "stdout",
          "text": [
            "Collecting sentence-transformers\n",
            "  Downloading sentence-transformers-2.1.0.tar.gz (78 kB)\n",
            "\u001b[K     |████████████████████████████████| 78 kB 3.2 MB/s \n",
            "\u001b[?25hCollecting transformers<5.0.0,>=4.6.0\n",
            "  Downloading transformers-4.14.1-py3-none-any.whl (3.4 MB)\n",
            "\u001b[K     |████████████████████████████████| 3.4 MB 9.1 MB/s \n",
            "\u001b[?25hCollecting tokenizers>=0.10.3\n",
            "  Downloading tokenizers-0.10.3-cp37-cp37m-manylinux_2_5_x86_64.manylinux1_x86_64.manylinux_2_12_x86_64.manylinux2010_x86_64.whl (3.3 MB)\n",
            "\u001b[K     |████████████████████████████████| 3.3 MB 32.7 MB/s \n",
            "\u001b[?25hRequirement already satisfied: tqdm in /usr/local/lib/python3.7/dist-packages (from sentence-transformers) (4.62.3)\n",
            "Requirement already satisfied: torch>=1.6.0 in /usr/local/lib/python3.7/dist-packages (from sentence-transformers) (1.10.0+cu111)\n",
            "Requirement already satisfied: torchvision in /usr/local/lib/python3.7/dist-packages (from sentence-transformers) (0.11.1+cu111)\n",
            "Requirement already satisfied: numpy in /usr/local/lib/python3.7/dist-packages (from sentence-transformers) (1.19.5)\n",
            "Requirement already satisfied: scikit-learn in /usr/local/lib/python3.7/dist-packages (from sentence-transformers) (1.0.1)\n",
            "Requirement already satisfied: scipy in /usr/local/lib/python3.7/dist-packages (from sentence-transformers) (1.4.1)\n",
            "Requirement already satisfied: nltk in /usr/local/lib/python3.7/dist-packages (from sentence-transformers) (3.2.5)\n",
            "Collecting sentencepiece\n",
            "  Downloading sentencepiece-0.1.96-cp37-cp37m-manylinux_2_17_x86_64.manylinux2014_x86_64.whl (1.2 MB)\n",
            "\u001b[K     |████████████████████████████████| 1.2 MB 37.9 MB/s \n",
            "\u001b[?25hCollecting huggingface-hub\n",
            "  Downloading huggingface_hub-0.2.1-py3-none-any.whl (61 kB)\n",
            "\u001b[K     |████████████████████████████████| 61 kB 531 kB/s \n",
            "\u001b[?25hRequirement already satisfied: typing-extensions in /usr/local/lib/python3.7/dist-packages (from torch>=1.6.0->sentence-transformers) (3.10.0.2)\n",
            "Collecting pyyaml>=5.1\n",
            "  Downloading PyYAML-6.0-cp37-cp37m-manylinux_2_5_x86_64.manylinux1_x86_64.manylinux_2_12_x86_64.manylinux2010_x86_64.whl (596 kB)\n",
            "\u001b[K     |████████████████████████████████| 596 kB 50.0 MB/s \n",
            "\u001b[?25hRequirement already satisfied: packaging>=20.0 in /usr/local/lib/python3.7/dist-packages (from transformers<5.0.0,>=4.6.0->sentence-transformers) (21.3)\n",
            "Requirement already satisfied: filelock in /usr/local/lib/python3.7/dist-packages (from transformers<5.0.0,>=4.6.0->sentence-transformers) (3.4.0)\n",
            "Requirement already satisfied: importlib-metadata in /usr/local/lib/python3.7/dist-packages (from transformers<5.0.0,>=4.6.0->sentence-transformers) (4.8.2)\n",
            "Requirement already satisfied: regex!=2019.12.17 in /usr/local/lib/python3.7/dist-packages (from transformers<5.0.0,>=4.6.0->sentence-transformers) (2019.12.20)\n",
            "Requirement already satisfied: requests in /usr/local/lib/python3.7/dist-packages (from transformers<5.0.0,>=4.6.0->sentence-transformers) (2.23.0)\n",
            "Collecting sacremoses\n",
            "  Downloading sacremoses-0.0.46-py3-none-any.whl (895 kB)\n",
            "\u001b[K     |████████████████████████████████| 895 kB 48.5 MB/s \n",
            "\u001b[?25hRequirement already satisfied: pyparsing!=3.0.5,>=2.0.2 in /usr/local/lib/python3.7/dist-packages (from packaging>=20.0->transformers<5.0.0,>=4.6.0->sentence-transformers) (3.0.6)\n",
            "Requirement already satisfied: zipp>=0.5 in /usr/local/lib/python3.7/dist-packages (from importlib-metadata->transformers<5.0.0,>=4.6.0->sentence-transformers) (3.6.0)\n",
            "Requirement already satisfied: six in /usr/local/lib/python3.7/dist-packages (from nltk->sentence-transformers) (1.15.0)\n",
            "Requirement already satisfied: chardet<4,>=3.0.2 in /usr/local/lib/python3.7/dist-packages (from requests->transformers<5.0.0,>=4.6.0->sentence-transformers) (3.0.4)\n",
            "Requirement already satisfied: urllib3!=1.25.0,!=1.25.1,<1.26,>=1.21.1 in /usr/local/lib/python3.7/dist-packages (from requests->transformers<5.0.0,>=4.6.0->sentence-transformers) (1.24.3)\n",
            "Requirement already satisfied: certifi>=2017.4.17 in /usr/local/lib/python3.7/dist-packages (from requests->transformers<5.0.0,>=4.6.0->sentence-transformers) (2021.10.8)\n",
            "Requirement already satisfied: idna<3,>=2.5 in /usr/local/lib/python3.7/dist-packages (from requests->transformers<5.0.0,>=4.6.0->sentence-transformers) (2.10)\n",
            "Requirement already satisfied: click in /usr/local/lib/python3.7/dist-packages (from sacremoses->transformers<5.0.0,>=4.6.0->sentence-transformers) (7.1.2)\n",
            "Requirement already satisfied: joblib in /usr/local/lib/python3.7/dist-packages (from sacremoses->transformers<5.0.0,>=4.6.0->sentence-transformers) (1.1.0)\n",
            "Requirement already satisfied: threadpoolctl>=2.0.0 in /usr/local/lib/python3.7/dist-packages (from scikit-learn->sentence-transformers) (3.0.0)\n",
            "Requirement already satisfied: pillow!=8.3.0,>=5.3.0 in /usr/local/lib/python3.7/dist-packages (from torchvision->sentence-transformers) (7.1.2)\n",
            "Building wheels for collected packages: sentence-transformers\n",
            "  Building wheel for sentence-transformers (setup.py) ... \u001b[?25l\u001b[?25hdone\n",
            "  Created wheel for sentence-transformers: filename=sentence_transformers-2.1.0-py3-none-any.whl size=121000 sha256=8f4663cd127be5cad18442b4d7aa97aac2a31b611703de0c520cf9f8bc014f11\n",
            "  Stored in directory: /root/.cache/pip/wheels/90/f0/bb/ed1add84da70092ea526466eadc2bfb197c4bcb8d4fa5f7bad\n",
            "Successfully built sentence-transformers\n",
            "Installing collected packages: pyyaml, tokenizers, sacremoses, huggingface-hub, transformers, sentencepiece, sentence-transformers\n",
            "  Attempting uninstall: pyyaml\n",
            "    Found existing installation: PyYAML 3.13\n",
            "    Uninstalling PyYAML-3.13:\n",
            "      Successfully uninstalled PyYAML-3.13\n",
            "Successfully installed huggingface-hub-0.2.1 pyyaml-6.0 sacremoses-0.0.46 sentence-transformers-2.1.0 sentencepiece-0.1.96 tokenizers-0.10.3 transformers-4.14.1\n"
          ]
        },
        {
          "output_type": "display_data",
          "data": {
            "application/vnd.colab-display-data+json": {
              "pip_warning": {
                "packages": [
                  "yaml"
                ]
              }
            }
          },
          "metadata": {}
        }
      ]
    },
    {
      "cell_type": "code",
      "metadata": {
        "id": "VbfcO2Jo4k9A",
        "colab": {
          "base_uri": "https://localhost:8080/",
          "height": 270,
          "referenced_widgets": [
            "bae08ab0bc8c484fbccf9848e2fadeed",
            "7fc1a3bec55c4c5bac1bb7b9ccf6400f",
            "9e0b09e7e8574a688ebd01a9847cb262",
            "2d36af34b2c74c9e987a5673e7e251b1",
            "f92e2754b99c4e9685de0bc33112f6fb",
            "762d26ef69c04661941bd35209faa97f",
            "92e9c19545d74e378cd181ceb2e31d3e",
            "9b68d84abc5c498ebb23fc2f3dff54a4",
            "589f21cc2bd74d74bdd5a8fd7bb4ea9b",
            "776d7c90a155431b8ff9309964125bcb",
            "88050a4d7a974e14ae080ce00af9ca37",
            "20a14a0cb91244c5b17209f6fe5a7119",
            "9c432fcd5462461ebe5b6aaec7d1d82f",
            "5dc2b042cca9441387063462e63d1871",
            "95720b56edbe40358c5724779f3603ff",
            "471f7b6ca9724ec59fb373b0fa49c132",
            "5882ad013dc8496e907711c6e9d13309",
            "831e0fe13b384d27914302accef44a31",
            "47161f26037a46d68b0098358bf33373",
            "1374eec80bdf4783a4321662940feb36",
            "30683f1031ff440881ef2145c66b9fa8",
            "a34f7797abf74551936310f9d6f1b394",
            "44c178ca9a9941d8928d1f9f2014c2cd",
            "4aff5f843c0f4ba39d83ea1a04725079",
            "bc0d49f930a04d8bab44489f6dffac32",
            "4f9a68482add4fec9f43c9fadb573bc5",
            "44ac09ec05d7474d8673ab17fe0fd672",
            "3a3c44ead7c74620b4f37c58c2573303",
            "ffd6c7dd121d4150b1c77b5dfd239ded",
            "d3872372054b48339fe8057a57345047",
            "5e6efd1b2dac467a885a84ba66f74df0",
            "6342663f5a1944a1baa71af598c4bba3",
            "749457b5c98e4525b82bf6b9fcc077c2",
            "a864a8356f414c2fbab7e7c11e1f6ce9",
            "ecb1bbaa5c1f48849d5faf4adedcdc38",
            "a3e0d428ea6a4cdfb0995bf2a13297d8",
            "337649727ba04f79a88a05dcb699756f",
            "014e8cdac864410f93a9186ef346d897",
            "180ad7f7ac1e4099afcce6a924f4d31c",
            "6e406c07bb5d42c9a2ff47230f696472",
            "5dc47a8c97b240e49c6d22381d426b76",
            "e3361b4201054a7f8aa2e80bdcce56c5",
            "fba05cc4d8b5447d892c420c2708cf1f",
            "b4a11ba2ba364abfb4ac1118c67792ac",
            "f6500c60a2f4462785917bd2f2f166b4",
            "0a67430df4b6403fae406efcdfa8138d",
            "e44c15749a64478da841fef2239f65dd",
            "c8fff185a12e45c688d7c80ae1f0d224",
            "aec0c36381e8441cb6a673c458ae1cb5",
            "bed3790b7a7a4b6f93306cbdffd78eb6",
            "1a72eb5d8f7948c7a0546f82329c64e9",
            "617a66971ee2469386cc3d0bc12095de",
            "0bf2f5ceaa64474eb8d9c34c1ab20292",
            "4cc80e8c8e014098a2d221734965fe7b",
            "6d10de49078146c285513fec45036e5e"
          ]
        },
        "outputId": "e0db4ab1-f9cb-4b8e-d49f-79d8f8ee904c"
      },
      "source": [
        "from sentence_transformers import SentenceTransformer, models\n",
        "from torch import nn\n",
        "\n",
        "word_embedding_model = models.Transformer('bert-base-uncased', max_seq_length=256)\n",
        "pooling_model = models.Pooling(word_embedding_model.get_word_embedding_dimension())\n",
        "dense_model = models.Dense(in_features=pooling_model.get_sentence_embedding_dimension(), out_features=512, activation_function=nn.Tanh())\n",
        "\n",
        "model = SentenceTransformer(modules=[word_embedding_model, pooling_model, dense_model])\n",
        "model.encode('hello world').shape"
      ],
      "execution_count": null,
      "outputs": [
        {
          "output_type": "display_data",
          "data": {
            "application/vnd.jupyter.widget-view+json": {
              "model_id": "bae08ab0bc8c484fbccf9848e2fadeed",
              "version_minor": 0,
              "version_major": 2
            },
            "text/plain": [
              "Downloading:   0%|          | 0.00/570 [00:00<?, ?B/s]"
            ]
          },
          "metadata": {}
        },
        {
          "output_type": "display_data",
          "data": {
            "application/vnd.jupyter.widget-view+json": {
              "model_id": "20a14a0cb91244c5b17209f6fe5a7119",
              "version_minor": 0,
              "version_major": 2
            },
            "text/plain": [
              "Downloading:   0%|          | 0.00/420M [00:00<?, ?B/s]"
            ]
          },
          "metadata": {}
        },
        {
          "output_type": "stream",
          "name": "stderr",
          "text": [
            "Some weights of the model checkpoint at bert-base-uncased were not used when initializing BertModel: ['cls.predictions.transform.LayerNorm.weight', 'cls.seq_relationship.weight', 'cls.predictions.decoder.weight', 'cls.predictions.transform.LayerNorm.bias', 'cls.seq_relationship.bias', 'cls.predictions.bias', 'cls.predictions.transform.dense.weight', 'cls.predictions.transform.dense.bias']\n",
            "- This IS expected if you are initializing BertModel from the checkpoint of a model trained on another task or with another architecture (e.g. initializing a BertForSequenceClassification model from a BertForPreTraining model).\n",
            "- This IS NOT expected if you are initializing BertModel from the checkpoint of a model that you expect to be exactly identical (initializing a BertForSequenceClassification model from a BertForSequenceClassification model).\n"
          ]
        },
        {
          "output_type": "display_data",
          "data": {
            "application/vnd.jupyter.widget-view+json": {
              "model_id": "44c178ca9a9941d8928d1f9f2014c2cd",
              "version_minor": 0,
              "version_major": 2
            },
            "text/plain": [
              "Downloading:   0%|          | 0.00/28.0 [00:00<?, ?B/s]"
            ]
          },
          "metadata": {}
        },
        {
          "output_type": "display_data",
          "data": {
            "application/vnd.jupyter.widget-view+json": {
              "model_id": "a864a8356f414c2fbab7e7c11e1f6ce9",
              "version_minor": 0,
              "version_major": 2
            },
            "text/plain": [
              "Downloading:   0%|          | 0.00/226k [00:00<?, ?B/s]"
            ]
          },
          "metadata": {}
        },
        {
          "output_type": "display_data",
          "data": {
            "application/vnd.jupyter.widget-view+json": {
              "model_id": "f6500c60a2f4462785917bd2f2f166b4",
              "version_minor": 0,
              "version_major": 2
            },
            "text/plain": [
              "Downloading:   0%|          | 0.00/455k [00:00<?, ?B/s]"
            ]
          },
          "metadata": {}
        },
        {
          "output_type": "execute_result",
          "data": {
            "text/plain": [
              "(512,)"
            ]
          },
          "metadata": {},
          "execution_count": 11
        }
      ]
    },
    {
      "cell_type": "code",
      "source": [
        "nlp_output=model.encode('woman with round face black eyes and straight hair')"
      ],
      "metadata": {
        "id": "D0dHTzjROlvC"
      },
      "execution_count": null,
      "outputs": []
    },
    {
      "cell_type": "code",
      "source": [
        "print(nlp_output)"
      ],
      "metadata": {
        "colab": {
          "base_uri": "https://localhost:8080/"
        },
        "id": "S4vms1uoPE78",
        "outputId": "5e5a797b-3d83-4693-ba68-e9b25d0f579f"
      },
      "execution_count": null,
      "outputs": [
        {
          "output_type": "stream",
          "name": "stdout",
          "text": [
            "[ 0.05730598 -0.3661793   0.11117875  0.07159594 -0.02561141  0.35104316\n",
            " -0.12081416  0.2981415  -0.40084365  0.12882657 -0.19789502 -0.09795176\n",
            "  0.01041013  0.15945283  0.26846683 -0.5481049   0.01616927  0.10958285\n",
            "  0.15422532 -0.02480106  0.1677736  -0.45751595 -0.07674269 -0.0884428\n",
            "  0.07117007  0.08674361  0.17988898 -0.3319339   0.28128013  0.10367899\n",
            "  0.0610156  -0.08282582 -0.07381303  0.05610047 -0.03357284 -0.23654902\n",
            "  0.00327224  0.10731772  0.15460378 -0.17478557 -0.2748229  -0.35547078\n",
            " -0.2129274   0.23427285 -0.02243351 -0.01398507  0.40312338  0.00419897\n",
            " -0.34894103 -0.25420904 -0.1868177   0.21570057  0.14274977 -0.17313857\n",
            "  0.11002807 -0.3546491   0.52889794  0.05112638 -0.2385998   0.10221793\n",
            " -0.05635982  0.33525756 -0.46447384 -0.02600628 -0.05217336 -0.01185456\n",
            " -0.00407432 -0.19485624  0.2195341   0.2079835  -0.2879079  -0.32551023\n",
            "  0.12739989  0.17670678 -0.28637046 -0.10764088 -0.1250802   0.1816752\n",
            "  0.06260799 -0.18286933  0.29497188 -0.0875685  -0.01789788  0.19085078\n",
            "  0.05129449 -0.29362103 -0.15229248 -0.28614315  0.09493285 -0.61938465\n",
            " -0.00344202  0.24012204  0.19201303 -0.03838456  0.01821103 -0.06383954\n",
            "  0.10331725  0.33054882 -0.01983339  0.05816749  0.18518467  0.14997807\n",
            "  0.14846468  0.34176105 -0.02864839  0.317558   -0.01450059  0.02263167\n",
            "  0.30266982 -0.49051014 -0.11112303  0.03039451  0.08976709  0.10466549\n",
            "  0.00738235 -0.5924274  -0.17942257  0.08678677 -0.27910683 -0.20563325\n",
            "  0.08309722 -0.01875794  0.11828388  0.26248297 -0.0780007  -0.41455692\n",
            "  0.02494307 -0.12569699  0.08272121 -0.12296216  0.4439763   0.18900084\n",
            " -0.00146517 -0.36077088  0.04618292 -0.21186526  0.02953565 -0.25391927\n",
            " -0.02418156  0.08231227 -0.00956075  0.09561054 -0.13566604  0.26104355\n",
            "  0.09368724 -0.08133566 -0.1880494   0.02129    -0.10580753 -0.19228128\n",
            " -0.43552223  0.50848854  0.33178896  0.29635486  0.264042   -0.3088401\n",
            "  0.19388372  0.420627   -0.40491334 -0.20121825 -0.0719623  -0.08737682\n",
            " -0.23314723  0.24886039  0.086098    0.02660045  0.26884025  0.29464138\n",
            " -0.50948125  0.22257958 -0.3104998   0.39229542 -0.10695785  0.11103322\n",
            " -0.35617062  0.1748669  -0.02423888  0.11049166 -0.14565942 -0.09106363\n",
            " -0.07418213  0.23799244  0.33610487  0.0102031  -0.03345436  0.14062291\n",
            "  0.17611538 -0.13232306 -0.00459254 -0.21543528 -0.0294981  -0.02603381\n",
            "  0.06480284 -0.2319251   0.3094954  -0.24930954 -0.12046586  0.12574068\n",
            " -0.27510393 -0.49367923  0.02326323  0.05097306 -0.33585066  0.12253655\n",
            " -0.02767294  0.15429564 -0.26123658 -0.46209273 -0.3461018  -0.00333861\n",
            " -0.15033343 -0.16923754  0.19405118  0.1307775  -0.1094585  -0.05442442\n",
            "  0.5004395  -0.2201896  -0.39740077 -0.46145982 -0.3580749  -0.13023153\n",
            " -0.23863469 -0.127388    0.17118242  0.14733815  0.03494402 -0.10934093\n",
            " -0.06922878 -0.17109196  0.7133752   0.135349    0.24095254 -0.20734279\n",
            "  0.2216411  -0.04133606 -0.37612945  0.06703898  0.17342627  0.03429584\n",
            " -0.3197453   0.12979726 -0.47141758  0.2191845  -0.48240277  0.26264587\n",
            "  0.0228822  -0.03555356  0.34719446 -0.19184293 -0.194839   -0.02215239\n",
            " -0.0143261   0.15631302 -0.08377527 -0.1312402   0.3787319  -0.35383525\n",
            "  0.16921353 -0.15001102  0.40135548 -0.00298435 -0.20457673 -0.01704564\n",
            "  0.20066957 -0.37690583  0.07262111 -0.0294158  -0.17275777 -0.31392553\n",
            " -0.14313518  0.48093414  0.3578795   0.13964938  0.08671132 -0.05603863\n",
            "  0.39529768  0.18089943 -0.10629857  0.40026057 -0.28459936  0.25119227\n",
            " -0.6615823  -0.32315904  0.11539228  0.0223194  -0.3109538   0.1511282\n",
            "  0.08448877  0.2704751   0.16999644  0.30641457 -0.18058625  0.3976481\n",
            " -0.21555522  0.01771339  0.00235165 -0.20467654 -0.13950704 -0.17884484\n",
            " -0.00709981  0.08723503 -0.18935136  0.2530418  -0.06941444 -0.18720528\n",
            "  0.18871453  0.2699922   0.38200313  0.02094696 -0.3963435   0.20712566\n",
            "  0.22229904  0.08522091  0.08182441  0.2187324   0.31695142  0.14795877\n",
            "  0.07456159 -0.08679623  0.01547382 -0.11618339  0.08931837 -0.09157691\n",
            "  0.10898224  0.15458353 -0.193025   -0.21723755 -0.02205443 -0.12699853\n",
            " -0.35677248  0.17669931  0.3290621   0.07213673 -0.3713425   0.32333702\n",
            "  0.01303554  0.38378617  0.44896594  0.58654237 -0.14218229 -0.05405127\n",
            "  0.1277376  -0.17708267 -0.21927655 -0.08401968 -0.07068811  0.15549225\n",
            " -0.1054523  -0.1308709  -0.24970384 -0.2425247   0.3038299  -0.23383464\n",
            " -0.4170662   0.15990078  0.10481863  0.25326744 -0.24447031 -0.3204483\n",
            " -0.27717522  0.0225159   0.08988327 -0.4269061  -0.09105925  0.42806578\n",
            "  0.23480354  0.05465836  0.30292416 -0.4168987   0.155429   -0.1105915\n",
            " -0.13964652 -0.21597476  0.37632772 -0.13296896  0.18765974 -0.15201798\n",
            " -0.2285952   0.5384953   0.3174974  -0.20105045 -0.1260935   0.3626901\n",
            "  0.16526596  0.1644161  -0.15272352  0.04300923  0.09128089 -0.16191947\n",
            "  0.03022157 -0.16611457  0.1447211  -0.40808532 -0.2989731  -0.4079269\n",
            " -0.03131349 -0.00308608 -0.34542406  0.44038197  0.1970007  -0.00514648\n",
            "  0.16609696  0.09211426 -0.18067516  0.3421233   0.02803696 -0.03031337\n",
            "  0.32991406 -0.02207333  0.03344385  0.48725417  0.08611454 -0.2766137\n",
            " -0.1527286   0.12529945  0.15376489 -0.20831427 -0.09191982 -0.11656082\n",
            " -0.4064937   0.2998829  -0.15508682  0.08172117  0.02693789  0.1339205\n",
            "  0.31197205 -0.1434863   0.1691152  -0.03559683 -0.04390883  0.47048676\n",
            " -0.00089678  0.10150077 -0.11731055 -0.07213446 -0.13333079 -0.03807571\n",
            " -0.19925915  0.08970282  0.27971384  0.23019113 -0.18287307 -0.07172953\n",
            " -0.31124052 -0.04789111  0.08620854 -0.05551788 -0.21240307  0.3101532\n",
            " -0.2724438   0.2563674  -0.19019578  0.34685525 -0.22666557 -0.00765412\n",
            " -0.04828353 -0.09938736  0.00725248 -0.2402412   0.07314274 -0.09627346\n",
            " -0.1364098   0.00159193  0.2659313  -0.6190775   0.17817473 -0.14167345\n",
            " -0.12952456 -0.43081522  0.16933075 -0.0436513   0.02963721  0.3534193\n",
            " -0.05537463 -0.06387573  0.13752261 -0.25341195  0.12701865 -0.17120203\n",
            "  0.14664233 -0.06558526  0.09969319 -0.23023652  0.19334145  0.1996466\n",
            "  0.13863131 -0.20217957  0.01228966  0.03130329  0.25633946  0.01420893\n",
            " -0.41619092  0.04103757 -0.12968494 -0.08365346 -0.3522625   0.27122173\n",
            "  0.03244498  0.14062816 -0.19553709 -0.1043919   0.0849112   0.20497328\n",
            " -0.03048481 -0.63886607  0.22887793  0.16204612  0.25335708 -0.04379493\n",
            " -0.32234323  0.37326774]\n"
          ]
        }
      ]
    },
    {
      "cell_type": "code",
      "source": [
        "import pretrained_networks\n",
        "from dnnlib import tflib as tflib\n",
        "import numpy as np\n",
        "import PIL.Image\n",
        "import dnnlib\n",
        "from matplotlib.pyplot import imshow\n",
        "%matplotlib inline\n",
        "\n",
        "network_pkl=\"gdrive:networks/stylegan2-ffhq-config-f.pkl\"\n",
        "truncation_psi=1.0\n",
        "seed=6000\n",
        "print('Loading networks from \"%s\"...' % network_pkl)\n",
        "_G, _D, Gs = pretrained_networks.load_networks(network_pkl)\n",
        "print('---- Loaded ----')"
      ],
      "metadata": {
        "colab": {
          "base_uri": "https://localhost:8080/"
        },
        "id": "0vnx_CEbOFK9",
        "outputId": "e3b867eb-16eb-4e4d-ea0b-77a90283546b"
      },
      "execution_count": null,
      "outputs": [
        {
          "output_type": "stream",
          "name": "stdout",
          "text": [
            "Loading networks from \"gdrive:networks/stylegan2-ffhq-config-f.pkl\"...\n",
            "---- Loaded ----\n"
          ]
        }
      ]
    },
    {
      "cell_type": "code",
      "source": [
        "print(Gs.components.synthesis.vars.items())\n",
        "noise_vars = [var for name, var in Gs.components.synthesis.vars.items() if name.startswith('noise')]\n",
        "\n",
        "Gs_kwargs = dnnlib.EasyDict()\n",
        "Gs_kwargs.output_transform = dict(func=tflib.convert_images_to_uint8, nchw_to_nhwc=True)\n",
        "Gs_kwargs.randomize_noise = False\n",
        "if truncation_psi is not None:\n",
        "    Gs_kwargs.truncation_psi = truncation_psi\n",
        "\n",
        "print('Generating image for seed %d...' % (seed))\n",
        "z = np.array([nlp_output])\n",
        "\n",
        "print(\"Noise Vars: \",noise_vars)\n",
        "print(\"Input size: \",*Gs.input_shape[1:])\n",
        "print(\"Input: \\n\",z)\n",
        "tflib.set_vars({var: rnd.randn(*var.shape.as_list()) for var in noise_vars}) \n",
        "images = Gs.run(z, None, **Gs_kwargs)\n",
        "img=PIL.Image.fromarray(images[0], 'RGB')"
      ],
      "metadata": {
        "colab": {
          "base_uri": "https://localhost:8080/"
        },
        "id": "TcAyPFLKOhsf",
        "outputId": "cf7bf9f7-fc42-403e-b164-cd1671e855ee"
      },
      "execution_count": null,
      "outputs": [
        {
          "output_type": "stream",
          "name": "stdout",
          "text": [
            "odict_items([('noise0', <tf.Variable 'G_synthesis_1/noise0:0' shape=(1, 1, 4, 4) dtype=float32_ref>), ('noise1', <tf.Variable 'G_synthesis_1/noise1:0' shape=(1, 1, 8, 8) dtype=float32_ref>), ('noise2', <tf.Variable 'G_synthesis_1/noise2:0' shape=(1, 1, 8, 8) dtype=float32_ref>), ('noise3', <tf.Variable 'G_synthesis_1/noise3:0' shape=(1, 1, 16, 16) dtype=float32_ref>), ('noise4', <tf.Variable 'G_synthesis_1/noise4:0' shape=(1, 1, 16, 16) dtype=float32_ref>), ('noise5', <tf.Variable 'G_synthesis_1/noise5:0' shape=(1, 1, 32, 32) dtype=float32_ref>), ('noise6', <tf.Variable 'G_synthesis_1/noise6:0' shape=(1, 1, 32, 32) dtype=float32_ref>), ('noise7', <tf.Variable 'G_synthesis_1/noise7:0' shape=(1, 1, 64, 64) dtype=float32_ref>), ('noise8', <tf.Variable 'G_synthesis_1/noise8:0' shape=(1, 1, 64, 64) dtype=float32_ref>), ('noise9', <tf.Variable 'G_synthesis_1/noise9:0' shape=(1, 1, 128, 128) dtype=float32_ref>), ('noise10', <tf.Variable 'G_synthesis_1/noise10:0' shape=(1, 1, 128, 128) dtype=float32_ref>), ('noise11', <tf.Variable 'G_synthesis_1/noise11:0' shape=(1, 1, 256, 256) dtype=float32_ref>), ('noise12', <tf.Variable 'G_synthesis_1/noise12:0' shape=(1, 1, 256, 256) dtype=float32_ref>), ('noise13', <tf.Variable 'G_synthesis_1/noise13:0' shape=(1, 1, 512, 512) dtype=float32_ref>), ('noise14', <tf.Variable 'G_synthesis_1/noise14:0' shape=(1, 1, 512, 512) dtype=float32_ref>), ('noise15', <tf.Variable 'G_synthesis_1/noise15:0' shape=(1, 1, 1024, 1024) dtype=float32_ref>), ('noise16', <tf.Variable 'G_synthesis_1/noise16:0' shape=(1, 1, 1024, 1024) dtype=float32_ref>), ('4x4/Const/const', <tf.Variable 'G_synthesis_1/4x4/Const/const:0' shape=(1, 512, 4, 4) dtype=float32_ref>), ('4x4/Conv/weight', <tf.Variable 'G_synthesis_1/4x4/Conv/weight:0' shape=(3, 3, 512, 512) dtype=float32_ref>), ('4x4/Conv/mod_weight', <tf.Variable 'G_synthesis_1/4x4/Conv/mod_weight:0' shape=(512, 512) dtype=float32_ref>), ('4x4/Conv/mod_bias', <tf.Variable 'G_synthesis_1/4x4/Conv/mod_bias:0' shape=(512,) dtype=float32_ref>), ('4x4/Conv/noise_strength', <tf.Variable 'G_synthesis_1/4x4/Conv/noise_strength:0' shape=() dtype=float32_ref>), ('4x4/Conv/bias', <tf.Variable 'G_synthesis_1/4x4/Conv/bias:0' shape=(512,) dtype=float32_ref>), ('4x4/ToRGB/weight', <tf.Variable 'G_synthesis_1/4x4/ToRGB/weight:0' shape=(1, 1, 512, 3) dtype=float32_ref>), ('4x4/ToRGB/mod_weight', <tf.Variable 'G_synthesis_1/4x4/ToRGB/mod_weight:0' shape=(512, 512) dtype=float32_ref>), ('4x4/ToRGB/mod_bias', <tf.Variable 'G_synthesis_1/4x4/ToRGB/mod_bias:0' shape=(512,) dtype=float32_ref>), ('4x4/ToRGB/bias', <tf.Variable 'G_synthesis_1/4x4/ToRGB/bias:0' shape=(3,) dtype=float32_ref>), ('8x8/Conv0_up/weight', <tf.Variable 'G_synthesis_1/8x8/Conv0_up/weight:0' shape=(3, 3, 512, 512) dtype=float32_ref>), ('8x8/Conv0_up/mod_weight', <tf.Variable 'G_synthesis_1/8x8/Conv0_up/mod_weight:0' shape=(512, 512) dtype=float32_ref>), ('8x8/Conv0_up/mod_bias', <tf.Variable 'G_synthesis_1/8x8/Conv0_up/mod_bias:0' shape=(512,) dtype=float32_ref>), ('8x8/Conv0_up/noise_strength', <tf.Variable 'G_synthesis_1/8x8/Conv0_up/noise_strength:0' shape=() dtype=float32_ref>), ('8x8/Conv0_up/bias', <tf.Variable 'G_synthesis_1/8x8/Conv0_up/bias:0' shape=(512,) dtype=float32_ref>), ('8x8/Conv1/weight', <tf.Variable 'G_synthesis_1/8x8/Conv1/weight:0' shape=(3, 3, 512, 512) dtype=float32_ref>), ('8x8/Conv1/mod_weight', <tf.Variable 'G_synthesis_1/8x8/Conv1/mod_weight:0' shape=(512, 512) dtype=float32_ref>), ('8x8/Conv1/mod_bias', <tf.Variable 'G_synthesis_1/8x8/Conv1/mod_bias:0' shape=(512,) dtype=float32_ref>), ('8x8/Conv1/noise_strength', <tf.Variable 'G_synthesis_1/8x8/Conv1/noise_strength:0' shape=() dtype=float32_ref>), ('8x8/Conv1/bias', <tf.Variable 'G_synthesis_1/8x8/Conv1/bias:0' shape=(512,) dtype=float32_ref>), ('8x8/ToRGB/weight', <tf.Variable 'G_synthesis_1/8x8/ToRGB/weight:0' shape=(1, 1, 512, 3) dtype=float32_ref>), ('8x8/ToRGB/mod_weight', <tf.Variable 'G_synthesis_1/8x8/ToRGB/mod_weight:0' shape=(512, 512) dtype=float32_ref>), ('8x8/ToRGB/mod_bias', <tf.Variable 'G_synthesis_1/8x8/ToRGB/mod_bias:0' shape=(512,) dtype=float32_ref>), ('8x8/ToRGB/bias', <tf.Variable 'G_synthesis_1/8x8/ToRGB/bias:0' shape=(3,) dtype=float32_ref>), ('16x16/Conv0_up/weight', <tf.Variable 'G_synthesis_1/16x16/Conv0_up/weight:0' shape=(3, 3, 512, 512) dtype=float32_ref>), ('16x16/Conv0_up/mod_weight', <tf.Variable 'G_synthesis_1/16x16/Conv0_up/mod_weight:0' shape=(512, 512) dtype=float32_ref>), ('16x16/Conv0_up/mod_bias', <tf.Variable 'G_synthesis_1/16x16/Conv0_up/mod_bias:0' shape=(512,) dtype=float32_ref>), ('16x16/Conv0_up/noise_strength', <tf.Variable 'G_synthesis_1/16x16/Conv0_up/noise_strength:0' shape=() dtype=float32_ref>), ('16x16/Conv0_up/bias', <tf.Variable 'G_synthesis_1/16x16/Conv0_up/bias:0' shape=(512,) dtype=float32_ref>), ('16x16/Conv1/weight', <tf.Variable 'G_synthesis_1/16x16/Conv1/weight:0' shape=(3, 3, 512, 512) dtype=float32_ref>), ('16x16/Conv1/mod_weight', <tf.Variable 'G_synthesis_1/16x16/Conv1/mod_weight:0' shape=(512, 512) dtype=float32_ref>), ('16x16/Conv1/mod_bias', <tf.Variable 'G_synthesis_1/16x16/Conv1/mod_bias:0' shape=(512,) dtype=float32_ref>), ('16x16/Conv1/noise_strength', <tf.Variable 'G_synthesis_1/16x16/Conv1/noise_strength:0' shape=() dtype=float32_ref>), ('16x16/Conv1/bias', <tf.Variable 'G_synthesis_1/16x16/Conv1/bias:0' shape=(512,) dtype=float32_ref>), ('16x16/ToRGB/weight', <tf.Variable 'G_synthesis_1/16x16/ToRGB/weight:0' shape=(1, 1, 512, 3) dtype=float32_ref>), ('16x16/ToRGB/mod_weight', <tf.Variable 'G_synthesis_1/16x16/ToRGB/mod_weight:0' shape=(512, 512) dtype=float32_ref>), ('16x16/ToRGB/mod_bias', <tf.Variable 'G_synthesis_1/16x16/ToRGB/mod_bias:0' shape=(512,) dtype=float32_ref>), ('16x16/ToRGB/bias', <tf.Variable 'G_synthesis_1/16x16/ToRGB/bias:0' shape=(3,) dtype=float32_ref>), ('32x32/Conv0_up/weight', <tf.Variable 'G_synthesis_1/32x32/Conv0_up/weight:0' shape=(3, 3, 512, 512) dtype=float32_ref>), ('32x32/Conv0_up/mod_weight', <tf.Variable 'G_synthesis_1/32x32/Conv0_up/mod_weight:0' shape=(512, 512) dtype=float32_ref>), ('32x32/Conv0_up/mod_bias', <tf.Variable 'G_synthesis_1/32x32/Conv0_up/mod_bias:0' shape=(512,) dtype=float32_ref>), ('32x32/Conv0_up/noise_strength', <tf.Variable 'G_synthesis_1/32x32/Conv0_up/noise_strength:0' shape=() dtype=float32_ref>), ('32x32/Conv0_up/bias', <tf.Variable 'G_synthesis_1/32x32/Conv0_up/bias:0' shape=(512,) dtype=float32_ref>), ('32x32/Conv1/weight', <tf.Variable 'G_synthesis_1/32x32/Conv1/weight:0' shape=(3, 3, 512, 512) dtype=float32_ref>), ('32x32/Conv1/mod_weight', <tf.Variable 'G_synthesis_1/32x32/Conv1/mod_weight:0' shape=(512, 512) dtype=float32_ref>), ('32x32/Conv1/mod_bias', <tf.Variable 'G_synthesis_1/32x32/Conv1/mod_bias:0' shape=(512,) dtype=float32_ref>), ('32x32/Conv1/noise_strength', <tf.Variable 'G_synthesis_1/32x32/Conv1/noise_strength:0' shape=() dtype=float32_ref>), ('32x32/Conv1/bias', <tf.Variable 'G_synthesis_1/32x32/Conv1/bias:0' shape=(512,) dtype=float32_ref>), ('32x32/ToRGB/weight', <tf.Variable 'G_synthesis_1/32x32/ToRGB/weight:0' shape=(1, 1, 512, 3) dtype=float32_ref>), ('32x32/ToRGB/mod_weight', <tf.Variable 'G_synthesis_1/32x32/ToRGB/mod_weight:0' shape=(512, 512) dtype=float32_ref>), ('32x32/ToRGB/mod_bias', <tf.Variable 'G_synthesis_1/32x32/ToRGB/mod_bias:0' shape=(512,) dtype=float32_ref>), ('32x32/ToRGB/bias', <tf.Variable 'G_synthesis_1/32x32/ToRGB/bias:0' shape=(3,) dtype=float32_ref>), ('64x64/Conv0_up/weight', <tf.Variable 'G_synthesis_1/64x64/Conv0_up/weight:0' shape=(3, 3, 512, 512) dtype=float32_ref>), ('64x64/Conv0_up/mod_weight', <tf.Variable 'G_synthesis_1/64x64/Conv0_up/mod_weight:0' shape=(512, 512) dtype=float32_ref>), ('64x64/Conv0_up/mod_bias', <tf.Variable 'G_synthesis_1/64x64/Conv0_up/mod_bias:0' shape=(512,) dtype=float32_ref>), ('64x64/Conv0_up/noise_strength', <tf.Variable 'G_synthesis_1/64x64/Conv0_up/noise_strength:0' shape=() dtype=float32_ref>), ('64x64/Conv0_up/bias', <tf.Variable 'G_synthesis_1/64x64/Conv0_up/bias:0' shape=(512,) dtype=float32_ref>), ('64x64/Conv1/weight', <tf.Variable 'G_synthesis_1/64x64/Conv1/weight:0' shape=(3, 3, 512, 512) dtype=float32_ref>), ('64x64/Conv1/mod_weight', <tf.Variable 'G_synthesis_1/64x64/Conv1/mod_weight:0' shape=(512, 512) dtype=float32_ref>), ('64x64/Conv1/mod_bias', <tf.Variable 'G_synthesis_1/64x64/Conv1/mod_bias:0' shape=(512,) dtype=float32_ref>), ('64x64/Conv1/noise_strength', <tf.Variable 'G_synthesis_1/64x64/Conv1/noise_strength:0' shape=() dtype=float32_ref>), ('64x64/Conv1/bias', <tf.Variable 'G_synthesis_1/64x64/Conv1/bias:0' shape=(512,) dtype=float32_ref>), ('64x64/ToRGB/weight', <tf.Variable 'G_synthesis_1/64x64/ToRGB/weight:0' shape=(1, 1, 512, 3) dtype=float32_ref>), ('64x64/ToRGB/mod_weight', <tf.Variable 'G_synthesis_1/64x64/ToRGB/mod_weight:0' shape=(512, 512) dtype=float32_ref>), ('64x64/ToRGB/mod_bias', <tf.Variable 'G_synthesis_1/64x64/ToRGB/mod_bias:0' shape=(512,) dtype=float32_ref>), ('64x64/ToRGB/bias', <tf.Variable 'G_synthesis_1/64x64/ToRGB/bias:0' shape=(3,) dtype=float32_ref>), ('128x128/Conv0_up/weight', <tf.Variable 'G_synthesis_1/128x128/Conv0_up/weight:0' shape=(3, 3, 512, 256) dtype=float32_ref>), ('128x128/Conv0_up/mod_weight', <tf.Variable 'G_synthesis_1/128x128/Conv0_up/mod_weight:0' shape=(512, 512) dtype=float32_ref>), ('128x128/Conv0_up/mod_bias', <tf.Variable 'G_synthesis_1/128x128/Conv0_up/mod_bias:0' shape=(512,) dtype=float32_ref>), ('128x128/Conv0_up/noise_strength', <tf.Variable 'G_synthesis_1/128x128/Conv0_up/noise_strength:0' shape=() dtype=float32_ref>), ('128x128/Conv0_up/bias', <tf.Variable 'G_synthesis_1/128x128/Conv0_up/bias:0' shape=(256,) dtype=float32_ref>), ('128x128/Conv1/weight', <tf.Variable 'G_synthesis_1/128x128/Conv1/weight:0' shape=(3, 3, 256, 256) dtype=float32_ref>), ('128x128/Conv1/mod_weight', <tf.Variable 'G_synthesis_1/128x128/Conv1/mod_weight:0' shape=(512, 256) dtype=float32_ref>), ('128x128/Conv1/mod_bias', <tf.Variable 'G_synthesis_1/128x128/Conv1/mod_bias:0' shape=(256,) dtype=float32_ref>), ('128x128/Conv1/noise_strength', <tf.Variable 'G_synthesis_1/128x128/Conv1/noise_strength:0' shape=() dtype=float32_ref>), ('128x128/Conv1/bias', <tf.Variable 'G_synthesis_1/128x128/Conv1/bias:0' shape=(256,) dtype=float32_ref>), ('128x128/ToRGB/weight', <tf.Variable 'G_synthesis_1/128x128/ToRGB/weight:0' shape=(1, 1, 256, 3) dtype=float32_ref>), ('128x128/ToRGB/mod_weight', <tf.Variable 'G_synthesis_1/128x128/ToRGB/mod_weight:0' shape=(512, 256) dtype=float32_ref>), ('128x128/ToRGB/mod_bias', <tf.Variable 'G_synthesis_1/128x128/ToRGB/mod_bias:0' shape=(256,) dtype=float32_ref>), ('128x128/ToRGB/bias', <tf.Variable 'G_synthesis_1/128x128/ToRGB/bias:0' shape=(3,) dtype=float32_ref>), ('256x256/Conv0_up/weight', <tf.Variable 'G_synthesis_1/256x256/Conv0_up/weight:0' shape=(3, 3, 256, 128) dtype=float32_ref>), ('256x256/Conv0_up/mod_weight', <tf.Variable 'G_synthesis_1/256x256/Conv0_up/mod_weight:0' shape=(512, 256) dtype=float32_ref>), ('256x256/Conv0_up/mod_bias', <tf.Variable 'G_synthesis_1/256x256/Conv0_up/mod_bias:0' shape=(256,) dtype=float32_ref>), ('256x256/Conv0_up/noise_strength', <tf.Variable 'G_synthesis_1/256x256/Conv0_up/noise_strength:0' shape=() dtype=float32_ref>), ('256x256/Conv0_up/bias', <tf.Variable 'G_synthesis_1/256x256/Conv0_up/bias:0' shape=(128,) dtype=float32_ref>), ('256x256/Conv1/weight', <tf.Variable 'G_synthesis_1/256x256/Conv1/weight:0' shape=(3, 3, 128, 128) dtype=float32_ref>), ('256x256/Conv1/mod_weight', <tf.Variable 'G_synthesis_1/256x256/Conv1/mod_weight:0' shape=(512, 128) dtype=float32_ref>), ('256x256/Conv1/mod_bias', <tf.Variable 'G_synthesis_1/256x256/Conv1/mod_bias:0' shape=(128,) dtype=float32_ref>), ('256x256/Conv1/noise_strength', <tf.Variable 'G_synthesis_1/256x256/Conv1/noise_strength:0' shape=() dtype=float32_ref>), ('256x256/Conv1/bias', <tf.Variable 'G_synthesis_1/256x256/Conv1/bias:0' shape=(128,) dtype=float32_ref>), ('256x256/ToRGB/weight', <tf.Variable 'G_synthesis_1/256x256/ToRGB/weight:0' shape=(1, 1, 128, 3) dtype=float32_ref>), ('256x256/ToRGB/mod_weight', <tf.Variable 'G_synthesis_1/256x256/ToRGB/mod_weight:0' shape=(512, 128) dtype=float32_ref>), ('256x256/ToRGB/mod_bias', <tf.Variable 'G_synthesis_1/256x256/ToRGB/mod_bias:0' shape=(128,) dtype=float32_ref>), ('256x256/ToRGB/bias', <tf.Variable 'G_synthesis_1/256x256/ToRGB/bias:0' shape=(3,) dtype=float32_ref>), ('512x512/Conv0_up/weight', <tf.Variable 'G_synthesis_1/512x512/Conv0_up/weight:0' shape=(3, 3, 128, 64) dtype=float32_ref>), ('512x512/Conv0_up/mod_weight', <tf.Variable 'G_synthesis_1/512x512/Conv0_up/mod_weight:0' shape=(512, 128) dtype=float32_ref>), ('512x512/Conv0_up/mod_bias', <tf.Variable 'G_synthesis_1/512x512/Conv0_up/mod_bias:0' shape=(128,) dtype=float32_ref>), ('512x512/Conv0_up/noise_strength', <tf.Variable 'G_synthesis_1/512x512/Conv0_up/noise_strength:0' shape=() dtype=float32_ref>), ('512x512/Conv0_up/bias', <tf.Variable 'G_synthesis_1/512x512/Conv0_up/bias:0' shape=(64,) dtype=float32_ref>), ('512x512/Conv1/weight', <tf.Variable 'G_synthesis_1/512x512/Conv1/weight:0' shape=(3, 3, 64, 64) dtype=float32_ref>), ('512x512/Conv1/mod_weight', <tf.Variable 'G_synthesis_1/512x512/Conv1/mod_weight:0' shape=(512, 64) dtype=float32_ref>), ('512x512/Conv1/mod_bias', <tf.Variable 'G_synthesis_1/512x512/Conv1/mod_bias:0' shape=(64,) dtype=float32_ref>), ('512x512/Conv1/noise_strength', <tf.Variable 'G_synthesis_1/512x512/Conv1/noise_strength:0' shape=() dtype=float32_ref>), ('512x512/Conv1/bias', <tf.Variable 'G_synthesis_1/512x512/Conv1/bias:0' shape=(64,) dtype=float32_ref>), ('512x512/ToRGB/weight', <tf.Variable 'G_synthesis_1/512x512/ToRGB/weight:0' shape=(1, 1, 64, 3) dtype=float32_ref>), ('512x512/ToRGB/mod_weight', <tf.Variable 'G_synthesis_1/512x512/ToRGB/mod_weight:0' shape=(512, 64) dtype=float32_ref>), ('512x512/ToRGB/mod_bias', <tf.Variable 'G_synthesis_1/512x512/ToRGB/mod_bias:0' shape=(64,) dtype=float32_ref>), ('512x512/ToRGB/bias', <tf.Variable 'G_synthesis_1/512x512/ToRGB/bias:0' shape=(3,) dtype=float32_ref>), ('1024x1024/Conv0_up/weight', <tf.Variable 'G_synthesis_1/1024x1024/Conv0_up/weight:0' shape=(3, 3, 64, 32) dtype=float32_ref>), ('1024x1024/Conv0_up/mod_weight', <tf.Variable 'G_synthesis_1/1024x1024/Conv0_up/mod_weight:0' shape=(512, 64) dtype=float32_ref>), ('1024x1024/Conv0_up/mod_bias', <tf.Variable 'G_synthesis_1/1024x1024/Conv0_up/mod_bias:0' shape=(64,) dtype=float32_ref>), ('1024x1024/Conv0_up/noise_strength', <tf.Variable 'G_synthesis_1/1024x1024/Conv0_up/noise_strength:0' shape=() dtype=float32_ref>), ('1024x1024/Conv0_up/bias', <tf.Variable 'G_synthesis_1/1024x1024/Conv0_up/bias:0' shape=(32,) dtype=float32_ref>), ('1024x1024/Conv1/weight', <tf.Variable 'G_synthesis_1/1024x1024/Conv1/weight:0' shape=(3, 3, 32, 32) dtype=float32_ref>), ('1024x1024/Conv1/mod_weight', <tf.Variable 'G_synthesis_1/1024x1024/Conv1/mod_weight:0' shape=(512, 32) dtype=float32_ref>), ('1024x1024/Conv1/mod_bias', <tf.Variable 'G_synthesis_1/1024x1024/Conv1/mod_bias:0' shape=(32,) dtype=float32_ref>), ('1024x1024/Conv1/noise_strength', <tf.Variable 'G_synthesis_1/1024x1024/Conv1/noise_strength:0' shape=() dtype=float32_ref>), ('1024x1024/Conv1/bias', <tf.Variable 'G_synthesis_1/1024x1024/Conv1/bias:0' shape=(32,) dtype=float32_ref>), ('1024x1024/ToRGB/weight', <tf.Variable 'G_synthesis_1/1024x1024/ToRGB/weight:0' shape=(1, 1, 32, 3) dtype=float32_ref>), ('1024x1024/ToRGB/mod_weight', <tf.Variable 'G_synthesis_1/1024x1024/ToRGB/mod_weight:0' shape=(512, 32) dtype=float32_ref>), ('1024x1024/ToRGB/mod_bias', <tf.Variable 'G_synthesis_1/1024x1024/ToRGB/mod_bias:0' shape=(32,) dtype=float32_ref>), ('1024x1024/ToRGB/bias', <tf.Variable 'G_synthesis_1/1024x1024/ToRGB/bias:0' shape=(3,) dtype=float32_ref>)])\n",
            "Generating image for seed 6000...\n",
            "Noise Vars:  [<tf.Variable 'G_synthesis_1/noise0:0' shape=(1, 1, 4, 4) dtype=float32_ref>, <tf.Variable 'G_synthesis_1/noise1:0' shape=(1, 1, 8, 8) dtype=float32_ref>, <tf.Variable 'G_synthesis_1/noise2:0' shape=(1, 1, 8, 8) dtype=float32_ref>, <tf.Variable 'G_synthesis_1/noise3:0' shape=(1, 1, 16, 16) dtype=float32_ref>, <tf.Variable 'G_synthesis_1/noise4:0' shape=(1, 1, 16, 16) dtype=float32_ref>, <tf.Variable 'G_synthesis_1/noise5:0' shape=(1, 1, 32, 32) dtype=float32_ref>, <tf.Variable 'G_synthesis_1/noise6:0' shape=(1, 1, 32, 32) dtype=float32_ref>, <tf.Variable 'G_synthesis_1/noise7:0' shape=(1, 1, 64, 64) dtype=float32_ref>, <tf.Variable 'G_synthesis_1/noise8:0' shape=(1, 1, 64, 64) dtype=float32_ref>, <tf.Variable 'G_synthesis_1/noise9:0' shape=(1, 1, 128, 128) dtype=float32_ref>, <tf.Variable 'G_synthesis_1/noise10:0' shape=(1, 1, 128, 128) dtype=float32_ref>, <tf.Variable 'G_synthesis_1/noise11:0' shape=(1, 1, 256, 256) dtype=float32_ref>, <tf.Variable 'G_synthesis_1/noise12:0' shape=(1, 1, 256, 256) dtype=float32_ref>, <tf.Variable 'G_synthesis_1/noise13:0' shape=(1, 1, 512, 512) dtype=float32_ref>, <tf.Variable 'G_synthesis_1/noise14:0' shape=(1, 1, 512, 512) dtype=float32_ref>, <tf.Variable 'G_synthesis_1/noise15:0' shape=(1, 1, 1024, 1024) dtype=float32_ref>, <tf.Variable 'G_synthesis_1/noise16:0' shape=(1, 1, 1024, 1024) dtype=float32_ref>]\n",
            "Input size:  512\n",
            "Input: \n",
            " [[ 0.05730598 -0.3661793   0.11117875  0.07159594 -0.02561141  0.35104316\n",
            "  -0.12081416  0.2981415  -0.40084365  0.12882657 -0.19789502 -0.09795176\n",
            "   0.01041013  0.15945283  0.26846683 -0.5481049   0.01616927  0.10958285\n",
            "   0.15422532 -0.02480106  0.1677736  -0.45751595 -0.07674269 -0.0884428\n",
            "   0.07117007  0.08674361  0.17988898 -0.3319339   0.28128013  0.10367899\n",
            "   0.0610156  -0.08282582 -0.07381303  0.05610047 -0.03357284 -0.23654902\n",
            "   0.00327224  0.10731772  0.15460378 -0.17478557 -0.2748229  -0.35547078\n",
            "  -0.2129274   0.23427285 -0.02243351 -0.01398507  0.40312338  0.00419897\n",
            "  -0.34894103 -0.25420904 -0.1868177   0.21570057  0.14274977 -0.17313857\n",
            "   0.11002807 -0.3546491   0.52889794  0.05112638 -0.2385998   0.10221793\n",
            "  -0.05635982  0.33525756 -0.46447384 -0.02600628 -0.05217336 -0.01185456\n",
            "  -0.00407432 -0.19485624  0.2195341   0.2079835  -0.2879079  -0.32551023\n",
            "   0.12739989  0.17670678 -0.28637046 -0.10764088 -0.1250802   0.1816752\n",
            "   0.06260799 -0.18286933  0.29497188 -0.0875685  -0.01789788  0.19085078\n",
            "   0.05129449 -0.29362103 -0.15229248 -0.28614315  0.09493285 -0.61938465\n",
            "  -0.00344202  0.24012204  0.19201303 -0.03838456  0.01821103 -0.06383954\n",
            "   0.10331725  0.33054882 -0.01983339  0.05816749  0.18518467  0.14997807\n",
            "   0.14846468  0.34176105 -0.02864839  0.317558   -0.01450059  0.02263167\n",
            "   0.30266982 -0.49051014 -0.11112303  0.03039451  0.08976709  0.10466549\n",
            "   0.00738235 -0.5924274  -0.17942257  0.08678677 -0.27910683 -0.20563325\n",
            "   0.08309722 -0.01875794  0.11828388  0.26248297 -0.0780007  -0.41455692\n",
            "   0.02494307 -0.12569699  0.08272121 -0.12296216  0.4439763   0.18900084\n",
            "  -0.00146517 -0.36077088  0.04618292 -0.21186526  0.02953565 -0.25391927\n",
            "  -0.02418156  0.08231227 -0.00956075  0.09561054 -0.13566604  0.26104355\n",
            "   0.09368724 -0.08133566 -0.1880494   0.02129    -0.10580753 -0.19228128\n",
            "  -0.43552223  0.50848854  0.33178896  0.29635486  0.264042   -0.3088401\n",
            "   0.19388372  0.420627   -0.40491334 -0.20121825 -0.0719623  -0.08737682\n",
            "  -0.23314723  0.24886039  0.086098    0.02660045  0.26884025  0.29464138\n",
            "  -0.50948125  0.22257958 -0.3104998   0.39229542 -0.10695785  0.11103322\n",
            "  -0.35617062  0.1748669  -0.02423888  0.11049166 -0.14565942 -0.09106363\n",
            "  -0.07418213  0.23799244  0.33610487  0.0102031  -0.03345436  0.14062291\n",
            "   0.17611538 -0.13232306 -0.00459254 -0.21543528 -0.0294981  -0.02603381\n",
            "   0.06480284 -0.2319251   0.3094954  -0.24930954 -0.12046586  0.12574068\n",
            "  -0.27510393 -0.49367923  0.02326323  0.05097306 -0.33585066  0.12253655\n",
            "  -0.02767294  0.15429564 -0.26123658 -0.46209273 -0.3461018  -0.00333861\n",
            "  -0.15033343 -0.16923754  0.19405118  0.1307775  -0.1094585  -0.05442442\n",
            "   0.5004395  -0.2201896  -0.39740077 -0.46145982 -0.3580749  -0.13023153\n",
            "  -0.23863469 -0.127388    0.17118242  0.14733815  0.03494402 -0.10934093\n",
            "  -0.06922878 -0.17109196  0.7133752   0.135349    0.24095254 -0.20734279\n",
            "   0.2216411  -0.04133606 -0.37612945  0.06703898  0.17342627  0.03429584\n",
            "  -0.3197453   0.12979726 -0.47141758  0.2191845  -0.48240277  0.26264587\n",
            "   0.0228822  -0.03555356  0.34719446 -0.19184293 -0.194839   -0.02215239\n",
            "  -0.0143261   0.15631302 -0.08377527 -0.1312402   0.3787319  -0.35383525\n",
            "   0.16921353 -0.15001102  0.40135548 -0.00298435 -0.20457673 -0.01704564\n",
            "   0.20066957 -0.37690583  0.07262111 -0.0294158  -0.17275777 -0.31392553\n",
            "  -0.14313518  0.48093414  0.3578795   0.13964938  0.08671132 -0.05603863\n",
            "   0.39529768  0.18089943 -0.10629857  0.40026057 -0.28459936  0.25119227\n",
            "  -0.6615823  -0.32315904  0.11539228  0.0223194  -0.3109538   0.1511282\n",
            "   0.08448877  0.2704751   0.16999644  0.30641457 -0.18058625  0.3976481\n",
            "  -0.21555522  0.01771339  0.00235165 -0.20467654 -0.13950704 -0.17884484\n",
            "  -0.00709981  0.08723503 -0.18935136  0.2530418  -0.06941444 -0.18720528\n",
            "   0.18871453  0.2699922   0.38200313  0.02094696 -0.3963435   0.20712566\n",
            "   0.22229904  0.08522091  0.08182441  0.2187324   0.31695142  0.14795877\n",
            "   0.07456159 -0.08679623  0.01547382 -0.11618339  0.08931837 -0.09157691\n",
            "   0.10898224  0.15458353 -0.193025   -0.21723755 -0.02205443 -0.12699853\n",
            "  -0.35677248  0.17669931  0.3290621   0.07213673 -0.3713425   0.32333702\n",
            "   0.01303554  0.38378617  0.44896594  0.58654237 -0.14218229 -0.05405127\n",
            "   0.1277376  -0.17708267 -0.21927655 -0.08401968 -0.07068811  0.15549225\n",
            "  -0.1054523  -0.1308709  -0.24970384 -0.2425247   0.3038299  -0.23383464\n",
            "  -0.4170662   0.15990078  0.10481863  0.25326744 -0.24447031 -0.3204483\n",
            "  -0.27717522  0.0225159   0.08988327 -0.4269061  -0.09105925  0.42806578\n",
            "   0.23480354  0.05465836  0.30292416 -0.4168987   0.155429   -0.1105915\n",
            "  -0.13964652 -0.21597476  0.37632772 -0.13296896  0.18765974 -0.15201798\n",
            "  -0.2285952   0.5384953   0.3174974  -0.20105045 -0.1260935   0.3626901\n",
            "   0.16526596  0.1644161  -0.15272352  0.04300923  0.09128089 -0.16191947\n",
            "   0.03022157 -0.16611457  0.1447211  -0.40808532 -0.2989731  -0.4079269\n",
            "  -0.03131349 -0.00308608 -0.34542406  0.44038197  0.1970007  -0.00514648\n",
            "   0.16609696  0.09211426 -0.18067516  0.3421233   0.02803696 -0.03031337\n",
            "   0.32991406 -0.02207333  0.03344385  0.48725417  0.08611454 -0.2766137\n",
            "  -0.1527286   0.12529945  0.15376489 -0.20831427 -0.09191982 -0.11656082\n",
            "  -0.4064937   0.2998829  -0.15508682  0.08172117  0.02693789  0.1339205\n",
            "   0.31197205 -0.1434863   0.1691152  -0.03559683 -0.04390883  0.47048676\n",
            "  -0.00089678  0.10150077 -0.11731055 -0.07213446 -0.13333079 -0.03807571\n",
            "  -0.19925915  0.08970282  0.27971384  0.23019113 -0.18287307 -0.07172953\n",
            "  -0.31124052 -0.04789111  0.08620854 -0.05551788 -0.21240307  0.3101532\n",
            "  -0.2724438   0.2563674  -0.19019578  0.34685525 -0.22666557 -0.00765412\n",
            "  -0.04828353 -0.09938736  0.00725248 -0.2402412   0.07314274 -0.09627346\n",
            "  -0.1364098   0.00159193  0.2659313  -0.6190775   0.17817473 -0.14167345\n",
            "  -0.12952456 -0.43081522  0.16933075 -0.0436513   0.02963721  0.3534193\n",
            "  -0.05537463 -0.06387573  0.13752261 -0.25341195  0.12701865 -0.17120203\n",
            "   0.14664233 -0.06558526  0.09969319 -0.23023652  0.19334145  0.1996466\n",
            "   0.13863131 -0.20217957  0.01228966  0.03130329  0.25633946  0.01420893\n",
            "  -0.41619092  0.04103757 -0.12968494 -0.08365346 -0.3522625   0.27122173\n",
            "   0.03244498  0.14062816 -0.19553709 -0.1043919   0.0849112   0.20497328\n",
            "  -0.03048481 -0.63886607  0.22887793  0.16204612  0.25335708 -0.04379493\n",
            "  -0.32234323  0.37326774]]\n"
          ]
        }
      ]
    },
    {
      "cell_type": "code",
      "source": [
        "imshow(img)"
      ],
      "metadata": {
        "colab": {
          "base_uri": "https://localhost:8080/",
          "height": 287
        },
        "id": "vL4m2rAZPz-9",
        "outputId": "f65f7af9-a06d-458e-ea45-ed3fa345b566"
      },
      "execution_count": null,
      "outputs": [
        {
          "output_type": "execute_result",
          "data": {
            "text/plain": [
              "<matplotlib.image.AxesImage at 0x7fb01526f1d0>"
            ]
          },
          "metadata": {},
          "execution_count": 24
        },
        {
          "output_type": "display_data",
          "data": {
            "image/png": "[encoded data removed]",
            "text/plain": [
              "<Figure size 432x288 with 1 Axes>"
            ]
          },
          "metadata": {
            "needs_background": "light"
          }
        }
      ]
    },
    {
      "cell_type": "code",
      "source": [
        ""
      ],
      "metadata": {
        "id": "vQtW4wsVP-AB"
      },
      "execution_count": null,
      "outputs": []
    }
  ]
}