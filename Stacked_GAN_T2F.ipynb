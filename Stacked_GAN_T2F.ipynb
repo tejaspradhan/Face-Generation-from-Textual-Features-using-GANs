{
  "nbformat": 4,
  "nbformat_minor": 0,
  "metadata": {
    "colab": {
      "name": "Stacked_GAN_T2F.ipynb",
      "provenance": [],
      "authorship_tag": "ABX9TyOSWajaWMxsca1wszvFSNpw",
      "include_colab_link": true
    },
    "kernelspec": {
      "name": "python3",
      "display_name": "Python 3"
    },
    "language_info": {
      "name": "python"
    },
    "accelerator": "GPU"
  },
  "cells": [
    {
      "cell_type": "markdown",
      "metadata": {
        "id": "view-in-github",
        "colab_type": "text"
      },
      "source": [
        "<a href=\"https://colab.research.google.com/github/tejaspradhan/Face-Generation-from-Textual-Features-using-GANs/blob/main/Stacked_GAN_T2F.ipynb\" target=\"_parent\"><img src=\"https://colab.research.google.com/assets/colab-badge.svg\" alt=\"Open In Colab\"/></a>"
      ]
    },
    {
      "cell_type": "code",
      "source": [
        "import pandas as pd\n",
        "import numpy as np\n",
        "import matplotlib.pyplot as plt\n",
        "import cv2\n",
        "import sys\n",
        "sys.path.insert(0, '/content/stylegan2')\n",
        "import pretrained_networks\n",
        "from dnnlib import tflib as tflib\n",
        "import numpy as np\n",
        "import PIL.Image\n",
        "import dnnlib\n",
        "from matplotlib.pyplot import imshow\n",
        "%matplotlib inline"
      ],
      "metadata": {
        "id": "Tl0Cl8JyotQ1"
      },
      "execution_count": 61,
      "outputs": []
    },
    {
      "cell_type": "markdown",
      "source": [
        "## Custom Methods"
      ],
      "metadata": {
        "id": "D9DrjhKSnWP2"
      }
    },
    {
      "cell_type": "code",
      "source": [
        "!git clone https://github.com/NVlabs/stylegan2.git"
      ],
      "metadata": {
        "id": "6FQuqs1msLdb"
      },
      "execution_count": null,
      "outputs": []
    },
    {
      "cell_type": "code",
      "source": [
        "def resize_image(img):\n",
        "  mywidth = 1024\n",
        "  wpercent = (mywidth/float(img.size[0]))\n",
        "  hsize = int((float(img.size[1])*float(wpercent)))\n",
        "  img = img.resize((mywidth,hsize), PIL.Image.ANTIALIAS)\n",
        "  return img"
      ],
      "metadata": {
        "id": "13T2Tj5_vdQ3"
      },
      "execution_count": 114,
      "outputs": []
    },
    {
      "cell_type": "code",
      "source": [
        "def stylegan_generate_image(latent_vector):\n",
        "  %tensorflow_version 1.x\n",
        "  network_pkl=\"gdrive:networks/stylegan2-ffhq-config-f.pkl\"\n",
        "  truncation_psi=1.0\n",
        "  seed=np.random.randint(10000)\n",
        "  print('Loading networks from \"%s\"...' % network_pkl)\n",
        "  _G, _D, Gs = pretrained_networks.load_networks(network_pkl)\n",
        "  print('---- Loaded ----')\n",
        "  noise_vars = [var for name, var in Gs.components.synthesis.vars.items() if name.startswith('noise')]\n",
        "  Gs_kwargs = dnnlib.EasyDict()\n",
        "  Gs_kwargs.output_transform = dict(func=tflib.convert_images_to_uint8, nchw_to_nhwc=True)\n",
        "  Gs_kwargs.randomize_noise = False\n",
        "  if truncation_psi is not None:\n",
        "      Gs_kwargs.truncation_psi = truncation_psi\n",
        "\n",
        "  print('Generating image for seed %d...' % (seed))\n",
        "  rnd = np.random.RandomState(seed)\n",
        "  z = np.array([latent_vector])\n",
        "  print(\"Noise Vars: \",noise_vars)\n",
        "  print(\"Input size: \",*Gs.input_shape[1:])\n",
        "  # print(\"Input: \\n\",latent_vector)\n",
        "  tflib.set_vars({var: rnd.randn(*var.shape.as_list()) for var in noise_vars}) \n",
        "  images = Gs.run(z, None, **Gs_kwargs)\n",
        "  img=PIL.Image.fromarray(images[0], 'RGB')\n",
        "  return img "
      ],
      "metadata": {
        "id": "mUuff2wCnZLI"
      },
      "execution_count": 87,
      "outputs": []
    },
    {
      "cell_type": "markdown",
      "source": [
        "## Loading Data"
      ],
      "metadata": {
        "id": "ADhARXEByaJS"
      }
    },
    {
      "cell_type": "code",
      "source": [
        "! pip install kaggle\n",
        "! mkdir ~/.kaggle\n",
        "! cp kaggle.json ~/.kaggle/\n",
        "! chmod 600 ~/.kaggle/kaggle.json"
      ],
      "metadata": {
        "colab": {
          "base_uri": "https://localhost:8080/"
        },
        "id": "OtCOaHwRMMd9",
        "outputId": "3b1fb63a-9fa6-4ce2-d59f-20d8ee2b0fe5"
      },
      "execution_count": 19,
      "outputs": [
        {
          "output_type": "stream",
          "name": "stdout",
          "text": [
            "Requirement already satisfied: kaggle in /usr/local/lib/python3.7/dist-packages (1.5.12)\n",
            "Requirement already satisfied: requests in /usr/local/lib/python3.7/dist-packages (from kaggle) (2.23.0)\n",
            "Requirement already satisfied: tqdm in /usr/local/lib/python3.7/dist-packages (from kaggle) (4.62.3)\n",
            "Requirement already satisfied: python-slugify in /usr/local/lib/python3.7/dist-packages (from kaggle) (5.0.2)\n",
            "Requirement already satisfied: urllib3 in /usr/local/lib/python3.7/dist-packages (from kaggle) (1.24.3)\n",
            "Requirement already satisfied: certifi in /usr/local/lib/python3.7/dist-packages (from kaggle) (2021.10.8)\n",
            "Requirement already satisfied: six>=1.10 in /usr/local/lib/python3.7/dist-packages (from kaggle) (1.15.0)\n",
            "Requirement already satisfied: python-dateutil in /usr/local/lib/python3.7/dist-packages (from kaggle) (2.8.2)\n",
            "Requirement already satisfied: text-unidecode>=1.3 in /usr/local/lib/python3.7/dist-packages (from python-slugify->kaggle) (1.3)\n",
            "Requirement already satisfied: chardet<4,>=3.0.2 in /usr/local/lib/python3.7/dist-packages (from requests->kaggle) (3.0.4)\n",
            "Requirement already satisfied: idna<3,>=2.5 in /usr/local/lib/python3.7/dist-packages (from requests->kaggle) (2.10)\n"
          ]
        }
      ]
    },
    {
      "cell_type": "code",
      "source": [
        "! kaggle datasets download -d jessicali9530/celeba-dataset"
      ],
      "metadata": {
        "colab": {
          "base_uri": "https://localhost:8080/"
        },
        "id": "tCGl-GwiMMsv",
        "outputId": "a1389977-8c10-4195-c938-dad1bc8753f7"
      },
      "execution_count": 20,
      "outputs": [
        {
          "output_type": "stream",
          "name": "stdout",
          "text": [
            "Downloading celeba-dataset.zip to /content\n",
            "100% 1.32G/1.33G [00:43<00:00, 31.7MB/s]\n",
            "100% 1.33G/1.33G [00:43<00:00, 33.0MB/s]\n"
          ]
        }
      ]
    },
    {
      "cell_type": "code",
      "source": [
        "!unzip \"/content/celeba-dataset.zip\" -d \"/content/data\""
      ],
      "metadata": {
        "id": "QuXOLllFOA5z"
      },
      "execution_count": null,
      "outputs": []
    },
    {
      "cell_type": "code",
      "source": [
        "embeddings = np.load('/content/embeddings_37k.npz')['arr_0']"
      ],
      "metadata": {
        "id": "xE3-w1HxypQs"
      },
      "execution_count": 119,
      "outputs": []
    },
    {
      "cell_type": "code",
      "source": [
        "embeddings.shape"
      ],
      "metadata": {
        "id": "LB2NhAJiyxzk",
        "outputId": "e7dbeecf-593e-48e0-8d6d-6938a9d5e28e",
        "colab": {
          "base_uri": "https://localhost:8080/"
        }
      },
      "execution_count": 120,
      "outputs": [
        {
          "output_type": "execute_result",
          "data": {
            "text/plain": [
              "(37370, 512)"
            ]
          },
          "metadata": {},
          "execution_count": 120
        }
      ]
    },
    {
      "cell_type": "code",
      "source": [
        "face_data = pd.read_csv('/content/face_features_preprocessed.csv')"
      ],
      "metadata": {
        "id": "1pKpDd5Pyym3"
      },
      "execution_count": 121,
      "outputs": []
    },
    {
      "cell_type": "code",
      "source": [
        "face_ids=face_data['image_id']"
      ],
      "metadata": {
        "id": "DVpBAQHCy2p0"
      },
      "execution_count": 122,
      "outputs": []
    },
    {
      "cell_type": "markdown",
      "source": [
        "## Training "
      ],
      "metadata": {
        "id": "6vKRFROyzMC_"
      }
    },
    {
      "cell_type": "code",
      "source": [
        "#generated_vector = model.predict(embedding)\n",
        "#gen_image = stylegan_generate_image(generated_vector)\n",
        "# loss = loss(gen_image,real_images[ith])\n"
      ],
      "metadata": {
        "id": "4ibHyFp5zPEo"
      },
      "execution_count": null,
      "outputs": []
    }
  ]
}