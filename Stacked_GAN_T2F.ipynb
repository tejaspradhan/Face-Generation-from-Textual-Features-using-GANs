{
  "nbformat": 4,
  "nbformat_minor": 0,
  "metadata": {
    "colab": {
      "name": "Stacked_GAN_T2F.ipynb",
      "provenance": [],
      "authorship_tag": "ABX9TyNeGgqXCFeeDhqNYxNMSk5I",
      "include_colab_link": true
    },
    "kernelspec": {
      "name": "python3",
      "display_name": "Python 3"
    },
    "language_info": {
      "name": "python"
    },
    "accelerator": "GPU"
  },
  "cells": [
    {
      "cell_type": "markdown",
      "metadata": {
        "id": "view-in-github",
        "colab_type": "text"
      },
      "source": [
        "<a href=\"https://colab.research.google.com/github/tejaspradhan/Face-Generation-from-Textual-Features-using-GANs/blob/main/Stacked_GAN_T2F.ipynb\" target=\"_parent\"><img src=\"https://colab.research.google.com/assets/colab-badge.svg\" alt=\"Open In Colab\"/></a>"
      ]
    },
    {
      "cell_type": "code",
      "source": [
        "import pandas as pd\n",
        "import numpy as np\n",
        "import matplotlib.pyplot as plt\n",
        "import cv2\n",
        "import sys\n",
        "sys.path.insert(0, '/content/stylegan2')\n",
        "import pretrained_networks\n",
        "from dnnlib import tflib as tflib\n",
        "import numpy as np\n",
        "import PIL.Image\n",
        "import dnnlib\n",
        "from matplotlib.pyplot import imshow\n",
        "import tensorflow as tf\n",
        "from tensorflow.keras.layers import Conv1D, MaxPool1D, Dense, Flatten\n",
        "%matplotlib inline"
      ],
      "metadata": {
        "id": "Tl0Cl8JyotQ1"
      },
      "execution_count": 58,
      "outputs": []
    },
    {
      "cell_type": "code",
      "source": [
        "%tensorflow_version 1.x"
      ],
      "metadata": {
        "id": "eWJu2WZYH4MJ"
      },
      "execution_count": 3,
      "outputs": []
    },
    {
      "cell_type": "code",
      "source": [
        "%tensorflow_version 1.x\n",
        "network_pkl=\"gdrive:networks/stylegan2-ffhq-config-f.pkl\"\n",
        "truncation_psi=1.0\n",
        "seed=np.random.randint(10000)\n",
        "print('Loading networks from \"%s\"...' % network_pkl)\n",
        "_G, _D, Gs = pretrained_networks.load_networks(network_pkl)\n",
        "print('---- Loaded ----')\n",
        "noise_vars = [var for name, var in Gs.components.synthesis.vars.items() if name.startswith('noise')]\n",
        "Gs_kwargs = dnnlib.EasyDict()\n",
        "Gs_kwargs.output_transform = dict(func=tflib.convert_images_to_uint8, nchw_to_nhwc=True)\n",
        "Gs_kwargs.randomize_noise = False\n",
        "if truncation_psi is not None:\n",
        "    Gs_kwargs.truncation_psi = truncation_psi"
      ],
      "metadata": {
        "id": "YpKZziojKidL",
        "outputId": "f234febe-adbc-458c-a60f-c0e0de8a8ca6",
        "colab": {
          "base_uri": "https://localhost:8080/"
        }
      },
      "execution_count": 80,
      "outputs": [
        {
          "output_type": "stream",
          "name": "stdout",
          "text": [
            "Loading networks from \"gdrive:networks/stylegan2-ffhq-config-f.pkl\"...\n",
            "---- Loaded ----\n"
          ]
        }
      ]
    },
    {
      "cell_type": "markdown",
      "source": [
        "## Custom Methods"
      ],
      "metadata": {
        "id": "D9DrjhKSnWP2"
      }
    },
    {
      "cell_type": "code",
      "source": [
        "!git clone https://github.com/NVlabs/stylegan2.git"
      ],
      "metadata": {
        "id": "6FQuqs1msLdb"
      },
      "execution_count": null,
      "outputs": []
    },
    {
      "cell_type": "code",
      "source": [
        "def resize_image(img):\n",
        "  mywidth = 1024\n",
        "  wpercent = (mywidth/float(img.size[0]))\n",
        "  hsize = int((float(img.size[1])*float(wpercent)))\n",
        "  img = img.resize((mywidth,hsize), PIL.Image.ANTIALIAS)\n",
        "  return img"
      ],
      "metadata": {
        "id": "13T2Tj5_vdQ3"
      },
      "execution_count": 27,
      "outputs": []
    },
    {
      "cell_type": "code",
      "source": [
        "def reconstruction_loss(real_images, generated_images):\n",
        "  loss = []\n",
        "  for real_image, fake_image in zip(real_images,generated_images):\n",
        "    loss.append(0.5)\n",
        "  return tf.convert_to_tensor(loss,dtype=tf.float32)"
      ],
      "metadata": {
        "id": "4ibHyFp5zPEo"
      },
      "execution_count": 98,
      "outputs": []
    },
    {
      "cell_type": "code",
      "source": [
        "def stylegan_generate_image(latent_vector):\n",
        "  print('Generating image for seed %d...' % (seed))\n",
        "  rnd = np.random.RandomState(seed)\n",
        "  z = np.array([latent_vector])\n",
        "  print(\"Noise Vars: \",noise_vars)\n",
        "  print(\"Input size: \",*Gs.input_shape[1:])\n",
        "  # print(\"Input: \\n\",latent_vector)\n",
        "  tflib.set_vars({var: rnd.randn(*var.shape.as_list()) for var in noise_vars}) \n",
        "  images = Gs.run(z, None, **Gs_kwargs)\n",
        "  img=PIL.Image.fromarray(images[0], 'RGB')\n",
        "  return np.array(img)"
      ],
      "metadata": {
        "id": "mUuff2wCnZLI"
      },
      "execution_count": 89,
      "outputs": []
    },
    {
      "cell_type": "markdown",
      "source": [
        "## Loading Data"
      ],
      "metadata": {
        "id": "ADhARXEByaJS"
      }
    },
    {
      "cell_type": "code",
      "source": [
        "! pip install kaggle\n",
        "! mkdir ~/.kaggle\n",
        "! cp kaggle.json ~/.kaggle/\n",
        "! chmod 600 ~/.kaggle/kaggle.json"
      ],
      "metadata": {
        "id": "OtCOaHwRMMd9"
      },
      "execution_count": null,
      "outputs": []
    },
    {
      "cell_type": "code",
      "source": [
        "! kaggle datasets download -d jessicali9530/celeba-dataset"
      ],
      "metadata": {
        "id": "tCGl-GwiMMsv"
      },
      "execution_count": null,
      "outputs": []
    },
    {
      "cell_type": "code",
      "source": [
        "!unzip \"/content/celeba-dataset.zip\" -d \"/content/data\""
      ],
      "metadata": {
        "id": "QuXOLllFOA5z"
      },
      "execution_count": null,
      "outputs": []
    },
    {
      "cell_type": "code",
      "source": [
        "embeddings = np.load('/content/embeddings_37k.npz')['arr_0']"
      ],
      "metadata": {
        "id": "xE3-w1HxypQs"
      },
      "execution_count": 61,
      "outputs": []
    },
    {
      "cell_type": "code",
      "source": [
        "embeddings.shape"
      ],
      "metadata": {
        "colab": {
          "base_uri": "https://localhost:8080/"
        },
        "id": "LB2NhAJiyxzk",
        "outputId": "9df72d77-9da1-4842-9b21-16d801779e3f"
      },
      "execution_count": 62,
      "outputs": [
        {
          "output_type": "execute_result",
          "data": {
            "text/plain": [
              "(37370, 512)"
            ]
          },
          "metadata": {},
          "execution_count": 62
        }
      ]
    },
    {
      "cell_type": "code",
      "source": [
        "face_data = pd.read_csv('/content/face_features_preprocessed.csv')"
      ],
      "metadata": {
        "id": "1pKpDd5Pyym3"
      },
      "execution_count": 8,
      "outputs": []
    },
    {
      "cell_type": "code",
      "source": [
        "face_ids=face_data['image_id']"
      ],
      "metadata": {
        "id": "DVpBAQHCy2p0"
      },
      "execution_count": 9,
      "outputs": []
    },
    {
      "cell_type": "markdown",
      "source": [
        "## Training "
      ],
      "metadata": {
        "id": "6vKRFROyzMC_"
      }
    },
    {
      "cell_type": "code",
      "source": [
        "r1 = Image.open('/content/data/img_align_celeba/img_align_celeba/' + face_ids[0])\n",
        "r2 = Image.open('/content/data/img_align_celeba/img_align_celeba/' + face_ids[1])\n",
        "f1 = np.array(stylegan_generate_image(embeddings[0]))\n",
        "f2 = np.array(stylegan_generate_image(embeddings[1]))"
      ],
      "metadata": {
        "id": "IJfAHGDq5rxB"
      },
      "execution_count": null,
      "outputs": []
    },
    {
      "cell_type": "code",
      "source": [
        "real_images.shape"
      ],
      "metadata": {
        "id": "v2dLxD7t5ryk"
      },
      "execution_count": null,
      "outputs": []
    },
    {
      "cell_type": "code",
      "source": [
        "fake_images.shape"
      ],
      "metadata": {
        "id": "RxPWxWJP8ac6"
      },
      "execution_count": null,
      "outputs": []
    },
    {
      "cell_type": "code",
      "source": [
        "r1_resized = np.array(resize_image(r1))"
      ],
      "metadata": {
        "id": "pKzJbP8f8bfG"
      },
      "execution_count": null,
      "outputs": []
    },
    {
      "cell_type": "code",
      "source": [
        "r1_resized.shape"
      ],
      "metadata": {
        "id": "VtyEtv2H9Hv3"
      },
      "execution_count": null,
      "outputs": []
    },
    {
      "cell_type": "code",
      "source": [
        "#face_ids => image_ids\n",
        "#embeddings => text_embeddings"
      ],
      "metadata": {
        "id": "vHMCBRLG_els"
      },
      "execution_count": null,
      "outputs": []
    },
    {
      "cell_type": "code",
      "source": [
        "BATCH_SIZE =32"
      ],
      "metadata": {
        "id": "SATin_r2Aig1"
      },
      "execution_count": 22,
      "outputs": []
    },
    {
      "cell_type": "code",
      "source": [
        ""
      ],
      "metadata": {
        "id": "SzifAHrRCE3u"
      },
      "execution_count": null,
      "outputs": []
    },
    {
      "cell_type": "code",
      "source": [
        "def get_images(face_ids):\n",
        "  images=[]\n",
        "  for id in face_ids:\n",
        "    print(id)\n",
        "    img = cv2.imread('/content/data/img_align_celeba/img_align_celeba/'+id)\n",
        "    images.append(img)\n",
        "  images= np.array(images)\n",
        "  return images"
      ],
      "metadata": {
        "id": "rYtUbZiABX65"
      },
      "execution_count": 20,
      "outputs": []
    },
    {
      "cell_type": "code",
      "source": [
        "train_images = []\n",
        "train_embeddings = []\n",
        "index = 0\n",
        "while(index< BATCH_SIZE*4):\n",
        "    images_batch = get_images(face_ids[index:index+BATCH_SIZE])\n",
        "    embeddings_batch = embeddings[index:index+BATCH_SIZE]\n",
        "    train_images.append(images_batch)\n",
        "    train_embeddings.append(embeddings_batch)\n",
        "    index+=BATCH_SIZE\n",
        "    print(\"BATCH DONE\")\n",
        "train_images = np.array(train_images)\n",
        "train_embeddings = np.array(train_embeddings)"
      ],
      "metadata": {
        "id": "fbbG4PY_A5vi",
        "outputId": "f3389674-8c3f-4cef-8224-e210abff144d",
        "colab": {
          "base_uri": "https://localhost:8080/"
        }
      },
      "execution_count": 82,
      "outputs": [
        {
          "output_type": "stream",
          "name": "stdout",
          "text": [
            "000001.jpg\n",
            "000002.jpg\n",
            "000003.jpg\n",
            "000004.jpg\n",
            "000005.jpg\n",
            "000006.jpg\n",
            "000007.jpg\n",
            "000008.jpg\n",
            "000009.jpg\n",
            "000010.jpg\n",
            "000011.jpg\n",
            "000012.jpg\n",
            "000013.jpg\n",
            "000014.jpg\n",
            "000015.jpg\n",
            "000016.jpg\n",
            "000017.jpg\n",
            "000018.jpg\n",
            "000019.jpg\n",
            "000020.jpg\n",
            "000021.jpg\n",
            "000022.jpg\n",
            "000023.jpg\n",
            "000024.jpg\n",
            "000025.jpg\n",
            "000026.jpg\n",
            "000027.jpg\n",
            "000028.jpg\n",
            "000029.jpg\n",
            "000030.jpg\n",
            "000031.jpg\n",
            "000032.jpg\n",
            "BATCH DONE\n",
            "000033.jpg\n",
            "000034.jpg\n",
            "000035.jpg\n",
            "000036.jpg\n",
            "000037.jpg\n",
            "000038.jpg\n",
            "000039.jpg\n",
            "000040.jpg\n",
            "000041.jpg\n",
            "000042.jpg\n",
            "000043.jpg\n",
            "000044.jpg\n",
            "000045.jpg\n",
            "000046.jpg\n",
            "000047.jpg\n",
            "000048.jpg\n",
            "000049.jpg\n",
            "000050.jpg\n",
            "000051.jpg\n",
            "000052.jpg\n",
            "000053.jpg\n",
            "000054.jpg\n",
            "000055.jpg\n",
            "000056.jpg\n",
            "000057.jpg\n",
            "000058.jpg\n",
            "000059.jpg\n",
            "000060.jpg\n",
            "000061.jpg\n",
            "000062.jpg\n",
            "000063.jpg\n",
            "000064.jpg\n",
            "BATCH DONE\n",
            "000065.jpg\n",
            "000066.jpg\n",
            "000067.jpg\n",
            "000068.jpg\n",
            "000069.jpg\n",
            "000070.jpg\n",
            "000071.jpg\n",
            "000072.jpg\n",
            "000073.jpg\n",
            "000074.jpg\n",
            "000075.jpg\n",
            "000076.jpg\n",
            "000077.jpg\n",
            "000078.jpg\n",
            "000079.jpg\n",
            "000080.jpg\n",
            "000081.jpg\n",
            "000082.jpg\n",
            "000083.jpg\n",
            "000084.jpg\n",
            "000085.jpg\n",
            "000086.jpg\n",
            "000087.jpg\n",
            "000088.jpg\n",
            "000089.jpg\n",
            "000090.jpg\n",
            "000091.jpg\n",
            "000092.jpg\n",
            "000093.jpg\n",
            "000094.jpg\n",
            "000095.jpg\n",
            "000096.jpg\n",
            "BATCH DONE\n",
            "000097.jpg\n",
            "000098.jpg\n",
            "000099.jpg\n",
            "000100.jpg\n",
            "000101.jpg\n",
            "000102.jpg\n",
            "000103.jpg\n",
            "000104.jpg\n",
            "000105.jpg\n",
            "000106.jpg\n",
            "000107.jpg\n",
            "000108.jpg\n",
            "000109.jpg\n",
            "000110.jpg\n",
            "000111.jpg\n",
            "000112.jpg\n",
            "000113.jpg\n",
            "000114.jpg\n",
            "000115.jpg\n",
            "000116.jpg\n",
            "000117.jpg\n",
            "000118.jpg\n",
            "000119.jpg\n",
            "000120.jpg\n",
            "000121.jpg\n",
            "000122.jpg\n",
            "000123.jpg\n",
            "000124.jpg\n",
            "000125.jpg\n",
            "000126.jpg\n",
            "000127.jpg\n",
            "000128.jpg\n",
            "BATCH DONE\n"
          ]
        }
      ]
    },
    {
      "cell_type": "code",
      "source": [
        "print(train_images.shape) \n",
        "print(train_embeddings.shape)"
      ],
      "metadata": {
        "id": "iUhgNBZS9Ivj",
        "outputId": "d147423b-7744-4bb4-e8fa-f3413054308c",
        "colab": {
          "base_uri": "https://localhost:8080/"
        }
      },
      "execution_count": 83,
      "outputs": [
        {
          "output_type": "stream",
          "name": "stdout",
          "text": [
            "(4, 32, 218, 178, 3)\n",
            "(4, 32, 512, 1)\n"
          ]
        }
      ]
    },
    {
      "cell_type": "markdown",
      "source": [
        "## Defining Intermediate Trainable Model"
      ],
      "metadata": {
        "id": "5J7Rl7TLD1yW"
      }
    },
    {
      "cell_type": "code",
      "source": [
        "model = tf.keras.models.Sequential()\n",
        "model.add(Conv1D(64,3, input_shape =(512,1)))\n",
        "model.add(MaxPool1D(2))\n",
        "model.add(Flatten())\n",
        "model.add(Dense(512,activation='relu'))"
      ],
      "metadata": {
        "id": "Hk25rDP2D62J"
      },
      "execution_count": 71,
      "outputs": []
    },
    {
      "cell_type": "code",
      "source": [
        "optimizer = tf.keras.optimizers.Adam(lr=0.001)"
      ],
      "metadata": {
        "id": "ktV65ENYJ7Cb"
      },
      "execution_count": 60,
      "outputs": []
    },
    {
      "cell_type": "code",
      "source": [
        "embeddings = embeddings.reshape(embeddings.shape[0],512,1)"
      ],
      "metadata": {
        "id": "fghEpwJWFMVh"
      },
      "execution_count": 66,
      "outputs": []
    },
    {
      "cell_type": "code",
      "source": [
        "model.summary()"
      ],
      "metadata": {
        "id": "lamLw8MSL5RA",
        "outputId": "32aa80be-18cb-475d-b83a-dbebc386bc56",
        "colab": {
          "base_uri": "https://localhost:8080/"
        }
      },
      "execution_count": 63,
      "outputs": [
        {
          "output_type": "stream",
          "name": "stdout",
          "text": [
            "Model: \"sequential_5\"\n",
            "_________________________________________________________________\n",
            "Layer (type)                 Output Shape              Param #   \n",
            "=================================================================\n",
            "conv1d_5 (Conv1D)            (None, 510, 64)           256       \n",
            "_________________________________________________________________\n",
            "max_pooling1d_5 (MaxPooling1 (None, 255, 64)           0         \n",
            "_________________________________________________________________\n",
            "flatten (Flatten)            (None, 16320)             0         \n",
            "_________________________________________________________________\n",
            "dense_4 (Dense)              (None, 512)               8356352   \n",
            "=================================================================\n",
            "Total params: 8,356,608\n",
            "Trainable params: 8,356,608\n",
            "Non-trainable params: 0\n",
            "_________________________________________________________________\n"
          ]
        }
      ]
    },
    {
      "cell_type": "code",
      "source": [
        "# example\n",
        "model(np.array([embeddings[0]]))"
      ],
      "metadata": {
        "id": "2fcAkkjJM4Am",
        "outputId": "6e60c535-7d1d-40a4-cff8-2e9d61269503",
        "colab": {
          "base_uri": "https://localhost:8080/"
        }
      },
      "execution_count": 85,
      "outputs": [
        {
          "output_type": "execute_result",
          "data": {
            "text/plain": [
              "<tf.Tensor 'sequential_7/dense_5/Relu:0' shape=(1, 512) dtype=float32>"
            ]
          },
          "metadata": {},
          "execution_count": 85
        }
      ]
    },
    {
      "cell_type": "code",
      "source": [
        "def train(train_images, train_embeddings, epochs):\n",
        "  for i in range(epochs):\n",
        "    for train_image_batch, train_embedding_batch in zip(train_images,train_embeddings):\n",
        "      train_step(train_image_batch, train_embedding_batch)"
      ],
      "metadata": {
        "id": "Jjj30--ODakK"
      },
      "execution_count": 86,
      "outputs": []
    },
    {
      "cell_type": "code",
      "source": [
        "def train_step(image_batch,embedding_batch):\n",
        "  # batchwise training \n",
        "  with tf.GradientTape() as tape:\n",
        "        # Create latent vectors\n",
        "        latent_vector_batch = model.predict(embedding_batch)\n",
        "\n",
        "        # generate faces using stylegan\n",
        "        generated_images = []\n",
        "        for vector in latent_vector_batch:\n",
        "          generated_images.append(stylegan_generate_image(vector))\n",
        "        generated_images = np.array(generated_images)\n",
        "\n",
        "        # calculate individual losses\n",
        "        loss = reconstruction_loss(image_batch,generated_images)\n",
        "\n",
        "        # Calculate gradients of loss functions\n",
        "        gradients= tape.gradient(loss,model.trainable_variables)\n",
        "        \n",
        "        # Optimise\n",
        "        optimizer.apply_gradients(zip(gradients,model.trainable_variables))\n",
        "        \n",
        "        print(\"Generator Loss: \",np.mean(gen_loss))"
      ],
      "metadata": {
        "id": "dFwFQh8dDshH"
      },
      "execution_count": 87,
      "outputs": []
    },
    {
      "cell_type": "code",
      "source": [
        "train(train_images, train_embeddings,1)"
      ],
      "metadata": {
        "id": "WmkxqBJ4KP9E",
        "outputId": "b0005459-3e04-4798-b63f-76acfe26e27e",
        "colab": {
          "base_uri": "https://localhost:8080/",
          "height": 1000
        }
      },
      "execution_count": 99,
      "outputs": [
        {
          "output_type": "stream",
          "name": "stdout",
          "text": [
            "Generating image for seed 2978...\n",
            "Noise Vars:  [<tf.Variable 'G_synthesis_1/noise0:0' shape=(1, 1, 4, 4) dtype=float32_ref>, <tf.Variable 'G_synthesis_1/noise1:0' shape=(1, 1, 8, 8) dtype=float32_ref>, <tf.Variable 'G_synthesis_1/noise2:0' shape=(1, 1, 8, 8) dtype=float32_ref>, <tf.Variable 'G_synthesis_1/noise3:0' shape=(1, 1, 16, 16) dtype=float32_ref>, <tf.Variable 'G_synthesis_1/noise4:0' shape=(1, 1, 16, 16) dtype=float32_ref>, <tf.Variable 'G_synthesis_1/noise5:0' shape=(1, 1, 32, 32) dtype=float32_ref>, <tf.Variable 'G_synthesis_1/noise6:0' shape=(1, 1, 32, 32) dtype=float32_ref>, <tf.Variable 'G_synthesis_1/noise7:0' shape=(1, 1, 64, 64) dtype=float32_ref>, <tf.Variable 'G_synthesis_1/noise8:0' shape=(1, 1, 64, 64) dtype=float32_ref>, <tf.Variable 'G_synthesis_1/noise9:0' shape=(1, 1, 128, 128) dtype=float32_ref>, <tf.Variable 'G_synthesis_1/noise10:0' shape=(1, 1, 128, 128) dtype=float32_ref>, <tf.Variable 'G_synthesis_1/noise11:0' shape=(1, 1, 256, 256) dtype=float32_ref>, <tf.Variable 'G_synthesis_1/noise12:0' shape=(1, 1, 256, 256) dtype=float32_ref>, <tf.Variable 'G_synthesis_1/noise13:0' shape=(1, 1, 512, 512) dtype=float32_ref>, <tf.Variable 'G_synthesis_1/noise14:0' shape=(1, 1, 512, 512) dtype=float32_ref>, <tf.Variable 'G_synthesis_1/noise15:0' shape=(1, 1, 1024, 1024) dtype=float32_ref>, <tf.Variable 'G_synthesis_1/noise16:0' shape=(1, 1, 1024, 1024) dtype=float32_ref>]\n",
            "Input size:  512\n",
            "Generating image for seed 2978...\n",
            "Noise Vars:  [<tf.Variable 'G_synthesis_1/noise0:0' shape=(1, 1, 4, 4) dtype=float32_ref>, <tf.Variable 'G_synthesis_1/noise1:0' shape=(1, 1, 8, 8) dtype=float32_ref>, <tf.Variable 'G_synthesis_1/noise2:0' shape=(1, 1, 8, 8) dtype=float32_ref>, <tf.Variable 'G_synthesis_1/noise3:0' shape=(1, 1, 16, 16) dtype=float32_ref>, <tf.Variable 'G_synthesis_1/noise4:0' shape=(1, 1, 16, 16) dtype=float32_ref>, <tf.Variable 'G_synthesis_1/noise5:0' shape=(1, 1, 32, 32) dtype=float32_ref>, <tf.Variable 'G_synthesis_1/noise6:0' shape=(1, 1, 32, 32) dtype=float32_ref>, <tf.Variable 'G_synthesis_1/noise7:0' shape=(1, 1, 64, 64) dtype=float32_ref>, <tf.Variable 'G_synthesis_1/noise8:0' shape=(1, 1, 64, 64) dtype=float32_ref>, <tf.Variable 'G_synthesis_1/noise9:0' shape=(1, 1, 128, 128) dtype=float32_ref>, <tf.Variable 'G_synthesis_1/noise10:0' shape=(1, 1, 128, 128) dtype=float32_ref>, <tf.Variable 'G_synthesis_1/noise11:0' shape=(1, 1, 256, 256) dtype=float32_ref>, <tf.Variable 'G_synthesis_1/noise12:0' shape=(1, 1, 256, 256) dtype=float32_ref>, <tf.Variable 'G_synthesis_1/noise13:0' shape=(1, 1, 512, 512) dtype=float32_ref>, <tf.Variable 'G_synthesis_1/noise14:0' shape=(1, 1, 512, 512) dtype=float32_ref>, <tf.Variable 'G_synthesis_1/noise15:0' shape=(1, 1, 1024, 1024) dtype=float32_ref>, <tf.Variable 'G_synthesis_1/noise16:0' shape=(1, 1, 1024, 1024) dtype=float32_ref>]\n",
            "Input size:  512\n",
            "Generating image for seed 2978...\n",
            "Noise Vars:  [<tf.Variable 'G_synthesis_1/noise0:0' shape=(1, 1, 4, 4) dtype=float32_ref>, <tf.Variable 'G_synthesis_1/noise1:0' shape=(1, 1, 8, 8) dtype=float32_ref>, <tf.Variable 'G_synthesis_1/noise2:0' shape=(1, 1, 8, 8) dtype=float32_ref>, <tf.Variable 'G_synthesis_1/noise3:0' shape=(1, 1, 16, 16) dtype=float32_ref>, <tf.Variable 'G_synthesis_1/noise4:0' shape=(1, 1, 16, 16) dtype=float32_ref>, <tf.Variable 'G_synthesis_1/noise5:0' shape=(1, 1, 32, 32) dtype=float32_ref>, <tf.Variable 'G_synthesis_1/noise6:0' shape=(1, 1, 32, 32) dtype=float32_ref>, <tf.Variable 'G_synthesis_1/noise7:0' shape=(1, 1, 64, 64) dtype=float32_ref>, <tf.Variable 'G_synthesis_1/noise8:0' shape=(1, 1, 64, 64) dtype=float32_ref>, <tf.Variable 'G_synthesis_1/noise9:0' shape=(1, 1, 128, 128) dtype=float32_ref>, <tf.Variable 'G_synthesis_1/noise10:0' shape=(1, 1, 128, 128) dtype=float32_ref>, <tf.Variable 'G_synthesis_1/noise11:0' shape=(1, 1, 256, 256) dtype=float32_ref>, <tf.Variable 'G_synthesis_1/noise12:0' shape=(1, 1, 256, 256) dtype=float32_ref>, <tf.Variable 'G_synthesis_1/noise13:0' shape=(1, 1, 512, 512) dtype=float32_ref>, <tf.Variable 'G_synthesis_1/noise14:0' shape=(1, 1, 512, 512) dtype=float32_ref>, <tf.Variable 'G_synthesis_1/noise15:0' shape=(1, 1, 1024, 1024) dtype=float32_ref>, <tf.Variable 'G_synthesis_1/noise16:0' shape=(1, 1, 1024, 1024) dtype=float32_ref>]\n",
            "Input size:  512\n",
            "Generating image for seed 2978...\n",
            "Noise Vars:  [<tf.Variable 'G_synthesis_1/noise0:0' shape=(1, 1, 4, 4) dtype=float32_ref>, <tf.Variable 'G_synthesis_1/noise1:0' shape=(1, 1, 8, 8) dtype=float32_ref>, <tf.Variable 'G_synthesis_1/noise2:0' shape=(1, 1, 8, 8) dtype=float32_ref>, <tf.Variable 'G_synthesis_1/noise3:0' shape=(1, 1, 16, 16) dtype=float32_ref>, <tf.Variable 'G_synthesis_1/noise4:0' shape=(1, 1, 16, 16) dtype=float32_ref>, <tf.Variable 'G_synthesis_1/noise5:0' shape=(1, 1, 32, 32) dtype=float32_ref>, <tf.Variable 'G_synthesis_1/noise6:0' shape=(1, 1, 32, 32) dtype=float32_ref>, <tf.Variable 'G_synthesis_1/noise7:0' shape=(1, 1, 64, 64) dtype=float32_ref>, <tf.Variable 'G_synthesis_1/noise8:0' shape=(1, 1, 64, 64) dtype=float32_ref>, <tf.Variable 'G_synthesis_1/noise9:0' shape=(1, 1, 128, 128) dtype=float32_ref>, <tf.Variable 'G_synthesis_1/noise10:0' shape=(1, 1, 128, 128) dtype=float32_ref>, <tf.Variable 'G_synthesis_1/noise11:0' shape=(1, 1, 256, 256) dtype=float32_ref>, <tf.Variable 'G_synthesis_1/noise12:0' shape=(1, 1, 256, 256) dtype=float32_ref>, <tf.Variable 'G_synthesis_1/noise13:0' shape=(1, 1, 512, 512) dtype=float32_ref>, <tf.Variable 'G_synthesis_1/noise14:0' shape=(1, 1, 512, 512) dtype=float32_ref>, <tf.Variable 'G_synthesis_1/noise15:0' shape=(1, 1, 1024, 1024) dtype=float32_ref>, <tf.Variable 'G_synthesis_1/noise16:0' shape=(1, 1, 1024, 1024) dtype=float32_ref>]\n",
            "Input size:  512\n",
            "Generating image for seed 2978...\n",
            "Noise Vars:  [<tf.Variable 'G_synthesis_1/noise0:0' shape=(1, 1, 4, 4) dtype=float32_ref>, <tf.Variable 'G_synthesis_1/noise1:0' shape=(1, 1, 8, 8) dtype=float32_ref>, <tf.Variable 'G_synthesis_1/noise2:0' shape=(1, 1, 8, 8) dtype=float32_ref>, <tf.Variable 'G_synthesis_1/noise3:0' shape=(1, 1, 16, 16) dtype=float32_ref>, <tf.Variable 'G_synthesis_1/noise4:0' shape=(1, 1, 16, 16) dtype=float32_ref>, <tf.Variable 'G_synthesis_1/noise5:0' shape=(1, 1, 32, 32) dtype=float32_ref>, <tf.Variable 'G_synthesis_1/noise6:0' shape=(1, 1, 32, 32) dtype=float32_ref>, <tf.Variable 'G_synthesis_1/noise7:0' shape=(1, 1, 64, 64) dtype=float32_ref>, <tf.Variable 'G_synthesis_1/noise8:0' shape=(1, 1, 64, 64) dtype=float32_ref>, <tf.Variable 'G_synthesis_1/noise9:0' shape=(1, 1, 128, 128) dtype=float32_ref>, <tf.Variable 'G_synthesis_1/noise10:0' shape=(1, 1, 128, 128) dtype=float32_ref>, <tf.Variable 'G_synthesis_1/noise11:0' shape=(1, 1, 256, 256) dtype=float32_ref>, <tf.Variable 'G_synthesis_1/noise12:0' shape=(1, 1, 256, 256) dtype=float32_ref>, <tf.Variable 'G_synthesis_1/noise13:0' shape=(1, 1, 512, 512) dtype=float32_ref>, <tf.Variable 'G_synthesis_1/noise14:0' shape=(1, 1, 512, 512) dtype=float32_ref>, <tf.Variable 'G_synthesis_1/noise15:0' shape=(1, 1, 1024, 1024) dtype=float32_ref>, <tf.Variable 'G_synthesis_1/noise16:0' shape=(1, 1, 1024, 1024) dtype=float32_ref>]\n",
            "Input size:  512\n",
            "Generating image for seed 2978...\n",
            "Noise Vars:  [<tf.Variable 'G_synthesis_1/noise0:0' shape=(1, 1, 4, 4) dtype=float32_ref>, <tf.Variable 'G_synthesis_1/noise1:0' shape=(1, 1, 8, 8) dtype=float32_ref>, <tf.Variable 'G_synthesis_1/noise2:0' shape=(1, 1, 8, 8) dtype=float32_ref>, <tf.Variable 'G_synthesis_1/noise3:0' shape=(1, 1, 16, 16) dtype=float32_ref>, <tf.Variable 'G_synthesis_1/noise4:0' shape=(1, 1, 16, 16) dtype=float32_ref>, <tf.Variable 'G_synthesis_1/noise5:0' shape=(1, 1, 32, 32) dtype=float32_ref>, <tf.Variable 'G_synthesis_1/noise6:0' shape=(1, 1, 32, 32) dtype=float32_ref>, <tf.Variable 'G_synthesis_1/noise7:0' shape=(1, 1, 64, 64) dtype=float32_ref>, <tf.Variable 'G_synthesis_1/noise8:0' shape=(1, 1, 64, 64) dtype=float32_ref>, <tf.Variable 'G_synthesis_1/noise9:0' shape=(1, 1, 128, 128) dtype=float32_ref>, <tf.Variable 'G_synthesis_1/noise10:0' shape=(1, 1, 128, 128) dtype=float32_ref>, <tf.Variable 'G_synthesis_1/noise11:0' shape=(1, 1, 256, 256) dtype=float32_ref>, <tf.Variable 'G_synthesis_1/noise12:0' shape=(1, 1, 256, 256) dtype=float32_ref>, <tf.Variable 'G_synthesis_1/noise13:0' shape=(1, 1, 512, 512) dtype=float32_ref>, <tf.Variable 'G_synthesis_1/noise14:0' shape=(1, 1, 512, 512) dtype=float32_ref>, <tf.Variable 'G_synthesis_1/noise15:0' shape=(1, 1, 1024, 1024) dtype=float32_ref>, <tf.Variable 'G_synthesis_1/noise16:0' shape=(1, 1, 1024, 1024) dtype=float32_ref>]\n",
            "Input size:  512\n",
            "Generating image for seed 2978...\n",
            "Noise Vars:  [<tf.Variable 'G_synthesis_1/noise0:0' shape=(1, 1, 4, 4) dtype=float32_ref>, <tf.Variable 'G_synthesis_1/noise1:0' shape=(1, 1, 8, 8) dtype=float32_ref>, <tf.Variable 'G_synthesis_1/noise2:0' shape=(1, 1, 8, 8) dtype=float32_ref>, <tf.Variable 'G_synthesis_1/noise3:0' shape=(1, 1, 16, 16) dtype=float32_ref>, <tf.Variable 'G_synthesis_1/noise4:0' shape=(1, 1, 16, 16) dtype=float32_ref>, <tf.Variable 'G_synthesis_1/noise5:0' shape=(1, 1, 32, 32) dtype=float32_ref>, <tf.Variable 'G_synthesis_1/noise6:0' shape=(1, 1, 32, 32) dtype=float32_ref>, <tf.Variable 'G_synthesis_1/noise7:0' shape=(1, 1, 64, 64) dtype=float32_ref>, <tf.Variable 'G_synthesis_1/noise8:0' shape=(1, 1, 64, 64) dtype=float32_ref>, <tf.Variable 'G_synthesis_1/noise9:0' shape=(1, 1, 128, 128) dtype=float32_ref>, <tf.Variable 'G_synthesis_1/noise10:0' shape=(1, 1, 128, 128) dtype=float32_ref>, <tf.Variable 'G_synthesis_1/noise11:0' shape=(1, 1, 256, 256) dtype=float32_ref>, <tf.Variable 'G_synthesis_1/noise12:0' shape=(1, 1, 256, 256) dtype=float32_ref>, <tf.Variable 'G_synthesis_1/noise13:0' shape=(1, 1, 512, 512) dtype=float32_ref>, <tf.Variable 'G_synthesis_1/noise14:0' shape=(1, 1, 512, 512) dtype=float32_ref>, <tf.Variable 'G_synthesis_1/noise15:0' shape=(1, 1, 1024, 1024) dtype=float32_ref>, <tf.Variable 'G_synthesis_1/noise16:0' shape=(1, 1, 1024, 1024) dtype=float32_ref>]\n",
            "Input size:  512\n",
            "Generating image for seed 2978...\n",
            "Noise Vars:  [<tf.Variable 'G_synthesis_1/noise0:0' shape=(1, 1, 4, 4) dtype=float32_ref>, <tf.Variable 'G_synthesis_1/noise1:0' shape=(1, 1, 8, 8) dtype=float32_ref>, <tf.Variable 'G_synthesis_1/noise2:0' shape=(1, 1, 8, 8) dtype=float32_ref>, <tf.Variable 'G_synthesis_1/noise3:0' shape=(1, 1, 16, 16) dtype=float32_ref>, <tf.Variable 'G_synthesis_1/noise4:0' shape=(1, 1, 16, 16) dtype=float32_ref>, <tf.Variable 'G_synthesis_1/noise5:0' shape=(1, 1, 32, 32) dtype=float32_ref>, <tf.Variable 'G_synthesis_1/noise6:0' shape=(1, 1, 32, 32) dtype=float32_ref>, <tf.Variable 'G_synthesis_1/noise7:0' shape=(1, 1, 64, 64) dtype=float32_ref>, <tf.Variable 'G_synthesis_1/noise8:0' shape=(1, 1, 64, 64) dtype=float32_ref>, <tf.Variable 'G_synthesis_1/noise9:0' shape=(1, 1, 128, 128) dtype=float32_ref>, <tf.Variable 'G_synthesis_1/noise10:0' shape=(1, 1, 128, 128) dtype=float32_ref>, <tf.Variable 'G_synthesis_1/noise11:0' shape=(1, 1, 256, 256) dtype=float32_ref>, <tf.Variable 'G_synthesis_1/noise12:0' shape=(1, 1, 256, 256) dtype=float32_ref>, <tf.Variable 'G_synthesis_1/noise13:0' shape=(1, 1, 512, 512) dtype=float32_ref>, <tf.Variable 'G_synthesis_1/noise14:0' shape=(1, 1, 512, 512) dtype=float32_ref>, <tf.Variable 'G_synthesis_1/noise15:0' shape=(1, 1, 1024, 1024) dtype=float32_ref>, <tf.Variable 'G_synthesis_1/noise16:0' shape=(1, 1, 1024, 1024) dtype=float32_ref>]\n",
            "Input size:  512\n",
            "Generating image for seed 2978...\n",
            "Noise Vars:  [<tf.Variable 'G_synthesis_1/noise0:0' shape=(1, 1, 4, 4) dtype=float32_ref>, <tf.Variable 'G_synthesis_1/noise1:0' shape=(1, 1, 8, 8) dtype=float32_ref>, <tf.Variable 'G_synthesis_1/noise2:0' shape=(1, 1, 8, 8) dtype=float32_ref>, <tf.Variable 'G_synthesis_1/noise3:0' shape=(1, 1, 16, 16) dtype=float32_ref>, <tf.Variable 'G_synthesis_1/noise4:0' shape=(1, 1, 16, 16) dtype=float32_ref>, <tf.Variable 'G_synthesis_1/noise5:0' shape=(1, 1, 32, 32) dtype=float32_ref>, <tf.Variable 'G_synthesis_1/noise6:0' shape=(1, 1, 32, 32) dtype=float32_ref>, <tf.Variable 'G_synthesis_1/noise7:0' shape=(1, 1, 64, 64) dtype=float32_ref>, <tf.Variable 'G_synthesis_1/noise8:0' shape=(1, 1, 64, 64) dtype=float32_ref>, <tf.Variable 'G_synthesis_1/noise9:0' shape=(1, 1, 128, 128) dtype=float32_ref>, <tf.Variable 'G_synthesis_1/noise10:0' shape=(1, 1, 128, 128) dtype=float32_ref>, <tf.Variable 'G_synthesis_1/noise11:0' shape=(1, 1, 256, 256) dtype=float32_ref>, <tf.Variable 'G_synthesis_1/noise12:0' shape=(1, 1, 256, 256) dtype=float32_ref>, <tf.Variable 'G_synthesis_1/noise13:0' shape=(1, 1, 512, 512) dtype=float32_ref>, <tf.Variable 'G_synthesis_1/noise14:0' shape=(1, 1, 512, 512) dtype=float32_ref>, <tf.Variable 'G_synthesis_1/noise15:0' shape=(1, 1, 1024, 1024) dtype=float32_ref>, <tf.Variable 'G_synthesis_1/noise16:0' shape=(1, 1, 1024, 1024) dtype=float32_ref>]\n",
            "Input size:  512\n",
            "Generating image for seed 2978...\n",
            "Noise Vars:  [<tf.Variable 'G_synthesis_1/noise0:0' shape=(1, 1, 4, 4) dtype=float32_ref>, <tf.Variable 'G_synthesis_1/noise1:0' shape=(1, 1, 8, 8) dtype=float32_ref>, <tf.Variable 'G_synthesis_1/noise2:0' shape=(1, 1, 8, 8) dtype=float32_ref>, <tf.Variable 'G_synthesis_1/noise3:0' shape=(1, 1, 16, 16) dtype=float32_ref>, <tf.Variable 'G_synthesis_1/noise4:0' shape=(1, 1, 16, 16) dtype=float32_ref>, <tf.Variable 'G_synthesis_1/noise5:0' shape=(1, 1, 32, 32) dtype=float32_ref>, <tf.Variable 'G_synthesis_1/noise6:0' shape=(1, 1, 32, 32) dtype=float32_ref>, <tf.Variable 'G_synthesis_1/noise7:0' shape=(1, 1, 64, 64) dtype=float32_ref>, <tf.Variable 'G_synthesis_1/noise8:0' shape=(1, 1, 64, 64) dtype=float32_ref>, <tf.Variable 'G_synthesis_1/noise9:0' shape=(1, 1, 128, 128) dtype=float32_ref>, <tf.Variable 'G_synthesis_1/noise10:0' shape=(1, 1, 128, 128) dtype=float32_ref>, <tf.Variable 'G_synthesis_1/noise11:0' shape=(1, 1, 256, 256) dtype=float32_ref>, <tf.Variable 'G_synthesis_1/noise12:0' shape=(1, 1, 256, 256) dtype=float32_ref>, <tf.Variable 'G_synthesis_1/noise13:0' shape=(1, 1, 512, 512) dtype=float32_ref>, <tf.Variable 'G_synthesis_1/noise14:0' shape=(1, 1, 512, 512) dtype=float32_ref>, <tf.Variable 'G_synthesis_1/noise15:0' shape=(1, 1, 1024, 1024) dtype=float32_ref>, <tf.Variable 'G_synthesis_1/noise16:0' shape=(1, 1, 1024, 1024) dtype=float32_ref>]\n",
            "Input size:  512\n",
            "Generating image for seed 2978...\n",
            "Noise Vars:  [<tf.Variable 'G_synthesis_1/noise0:0' shape=(1, 1, 4, 4) dtype=float32_ref>, <tf.Variable 'G_synthesis_1/noise1:0' shape=(1, 1, 8, 8) dtype=float32_ref>, <tf.Variable 'G_synthesis_1/noise2:0' shape=(1, 1, 8, 8) dtype=float32_ref>, <tf.Variable 'G_synthesis_1/noise3:0' shape=(1, 1, 16, 16) dtype=float32_ref>, <tf.Variable 'G_synthesis_1/noise4:0' shape=(1, 1, 16, 16) dtype=float32_ref>, <tf.Variable 'G_synthesis_1/noise5:0' shape=(1, 1, 32, 32) dtype=float32_ref>, <tf.Variable 'G_synthesis_1/noise6:0' shape=(1, 1, 32, 32) dtype=float32_ref>, <tf.Variable 'G_synthesis_1/noise7:0' shape=(1, 1, 64, 64) dtype=float32_ref>, <tf.Variable 'G_synthesis_1/noise8:0' shape=(1, 1, 64, 64) dtype=float32_ref>, <tf.Variable 'G_synthesis_1/noise9:0' shape=(1, 1, 128, 128) dtype=float32_ref>, <tf.Variable 'G_synthesis_1/noise10:0' shape=(1, 1, 128, 128) dtype=float32_ref>, <tf.Variable 'G_synthesis_1/noise11:0' shape=(1, 1, 256, 256) dtype=float32_ref>, <tf.Variable 'G_synthesis_1/noise12:0' shape=(1, 1, 256, 256) dtype=float32_ref>, <tf.Variable 'G_synthesis_1/noise13:0' shape=(1, 1, 512, 512) dtype=float32_ref>, <tf.Variable 'G_synthesis_1/noise14:0' shape=(1, 1, 512, 512) dtype=float32_ref>, <tf.Variable 'G_synthesis_1/noise15:0' shape=(1, 1, 1024, 1024) dtype=float32_ref>, <tf.Variable 'G_synthesis_1/noise16:0' shape=(1, 1, 1024, 1024) dtype=float32_ref>]\n",
            "Input size:  512\n",
            "Generating image for seed 2978...\n",
            "Noise Vars:  [<tf.Variable 'G_synthesis_1/noise0:0' shape=(1, 1, 4, 4) dtype=float32_ref>, <tf.Variable 'G_synthesis_1/noise1:0' shape=(1, 1, 8, 8) dtype=float32_ref>, <tf.Variable 'G_synthesis_1/noise2:0' shape=(1, 1, 8, 8) dtype=float32_ref>, <tf.Variable 'G_synthesis_1/noise3:0' shape=(1, 1, 16, 16) dtype=float32_ref>, <tf.Variable 'G_synthesis_1/noise4:0' shape=(1, 1, 16, 16) dtype=float32_ref>, <tf.Variable 'G_synthesis_1/noise5:0' shape=(1, 1, 32, 32) dtype=float32_ref>, <tf.Variable 'G_synthesis_1/noise6:0' shape=(1, 1, 32, 32) dtype=float32_ref>, <tf.Variable 'G_synthesis_1/noise7:0' shape=(1, 1, 64, 64) dtype=float32_ref>, <tf.Variable 'G_synthesis_1/noise8:0' shape=(1, 1, 64, 64) dtype=float32_ref>, <tf.Variable 'G_synthesis_1/noise9:0' shape=(1, 1, 128, 128) dtype=float32_ref>, <tf.Variable 'G_synthesis_1/noise10:0' shape=(1, 1, 128, 128) dtype=float32_ref>, <tf.Variable 'G_synthesis_1/noise11:0' shape=(1, 1, 256, 256) dtype=float32_ref>, <tf.Variable 'G_synthesis_1/noise12:0' shape=(1, 1, 256, 256) dtype=float32_ref>, <tf.Variable 'G_synthesis_1/noise13:0' shape=(1, 1, 512, 512) dtype=float32_ref>, <tf.Variable 'G_synthesis_1/noise14:0' shape=(1, 1, 512, 512) dtype=float32_ref>, <tf.Variable 'G_synthesis_1/noise15:0' shape=(1, 1, 1024, 1024) dtype=float32_ref>, <tf.Variable 'G_synthesis_1/noise16:0' shape=(1, 1, 1024, 1024) dtype=float32_ref>]\n",
            "Input size:  512\n",
            "Generating image for seed 2978...\n",
            "Noise Vars:  [<tf.Variable 'G_synthesis_1/noise0:0' shape=(1, 1, 4, 4) dtype=float32_ref>, <tf.Variable 'G_synthesis_1/noise1:0' shape=(1, 1, 8, 8) dtype=float32_ref>, <tf.Variable 'G_synthesis_1/noise2:0' shape=(1, 1, 8, 8) dtype=float32_ref>, <tf.Variable 'G_synthesis_1/noise3:0' shape=(1, 1, 16, 16) dtype=float32_ref>, <tf.Variable 'G_synthesis_1/noise4:0' shape=(1, 1, 16, 16) dtype=float32_ref>, <tf.Variable 'G_synthesis_1/noise5:0' shape=(1, 1, 32, 32) dtype=float32_ref>, <tf.Variable 'G_synthesis_1/noise6:0' shape=(1, 1, 32, 32) dtype=float32_ref>, <tf.Variable 'G_synthesis_1/noise7:0' shape=(1, 1, 64, 64) dtype=float32_ref>, <tf.Variable 'G_synthesis_1/noise8:0' shape=(1, 1, 64, 64) dtype=float32_ref>, <tf.Variable 'G_synthesis_1/noise9:0' shape=(1, 1, 128, 128) dtype=float32_ref>, <tf.Variable 'G_synthesis_1/noise10:0' shape=(1, 1, 128, 128) dtype=float32_ref>, <tf.Variable 'G_synthesis_1/noise11:0' shape=(1, 1, 256, 256) dtype=float32_ref>, <tf.Variable 'G_synthesis_1/noise12:0' shape=(1, 1, 256, 256) dtype=float32_ref>, <tf.Variable 'G_synthesis_1/noise13:0' shape=(1, 1, 512, 512) dtype=float32_ref>, <tf.Variable 'G_synthesis_1/noise14:0' shape=(1, 1, 512, 512) dtype=float32_ref>, <tf.Variable 'G_synthesis_1/noise15:0' shape=(1, 1, 1024, 1024) dtype=float32_ref>, <tf.Variable 'G_synthesis_1/noise16:0' shape=(1, 1, 1024, 1024) dtype=float32_ref>]\n",
            "Input size:  512\n",
            "Generating image for seed 2978...\n",
            "Noise Vars:  [<tf.Variable 'G_synthesis_1/noise0:0' shape=(1, 1, 4, 4) dtype=float32_ref>, <tf.Variable 'G_synthesis_1/noise1:0' shape=(1, 1, 8, 8) dtype=float32_ref>, <tf.Variable 'G_synthesis_1/noise2:0' shape=(1, 1, 8, 8) dtype=float32_ref>, <tf.Variable 'G_synthesis_1/noise3:0' shape=(1, 1, 16, 16) dtype=float32_ref>, <tf.Variable 'G_synthesis_1/noise4:0' shape=(1, 1, 16, 16) dtype=float32_ref>, <tf.Variable 'G_synthesis_1/noise5:0' shape=(1, 1, 32, 32) dtype=float32_ref>, <tf.Variable 'G_synthesis_1/noise6:0' shape=(1, 1, 32, 32) dtype=float32_ref>, <tf.Variable 'G_synthesis_1/noise7:0' shape=(1, 1, 64, 64) dtype=float32_ref>, <tf.Variable 'G_synthesis_1/noise8:0' shape=(1, 1, 64, 64) dtype=float32_ref>, <tf.Variable 'G_synthesis_1/noise9:0' shape=(1, 1, 128, 128) dtype=float32_ref>, <tf.Variable 'G_synthesis_1/noise10:0' shape=(1, 1, 128, 128) dtype=float32_ref>, <tf.Variable 'G_synthesis_1/noise11:0' shape=(1, 1, 256, 256) dtype=float32_ref>, <tf.Variable 'G_synthesis_1/noise12:0' shape=(1, 1, 256, 256) dtype=float32_ref>, <tf.Variable 'G_synthesis_1/noise13:0' shape=(1, 1, 512, 512) dtype=float32_ref>, <tf.Variable 'G_synthesis_1/noise14:0' shape=(1, 1, 512, 512) dtype=float32_ref>, <tf.Variable 'G_synthesis_1/noise15:0' shape=(1, 1, 1024, 1024) dtype=float32_ref>, <tf.Variable 'G_synthesis_1/noise16:0' shape=(1, 1, 1024, 1024) dtype=float32_ref>]\n",
            "Input size:  512\n",
            "Generating image for seed 2978...\n",
            "Noise Vars:  [<tf.Variable 'G_synthesis_1/noise0:0' shape=(1, 1, 4, 4) dtype=float32_ref>, <tf.Variable 'G_synthesis_1/noise1:0' shape=(1, 1, 8, 8) dtype=float32_ref>, <tf.Variable 'G_synthesis_1/noise2:0' shape=(1, 1, 8, 8) dtype=float32_ref>, <tf.Variable 'G_synthesis_1/noise3:0' shape=(1, 1, 16, 16) dtype=float32_ref>, <tf.Variable 'G_synthesis_1/noise4:0' shape=(1, 1, 16, 16) dtype=float32_ref>, <tf.Variable 'G_synthesis_1/noise5:0' shape=(1, 1, 32, 32) dtype=float32_ref>, <tf.Variable 'G_synthesis_1/noise6:0' shape=(1, 1, 32, 32) dtype=float32_ref>, <tf.Variable 'G_synthesis_1/noise7:0' shape=(1, 1, 64, 64) dtype=float32_ref>, <tf.Variable 'G_synthesis_1/noise8:0' shape=(1, 1, 64, 64) dtype=float32_ref>, <tf.Variable 'G_synthesis_1/noise9:0' shape=(1, 1, 128, 128) dtype=float32_ref>, <tf.Variable 'G_synthesis_1/noise10:0' shape=(1, 1, 128, 128) dtype=float32_ref>, <tf.Variable 'G_synthesis_1/noise11:0' shape=(1, 1, 256, 256) dtype=float32_ref>, <tf.Variable 'G_synthesis_1/noise12:0' shape=(1, 1, 256, 256) dtype=float32_ref>, <tf.Variable 'G_synthesis_1/noise13:0' shape=(1, 1, 512, 512) dtype=float32_ref>, <tf.Variable 'G_synthesis_1/noise14:0' shape=(1, 1, 512, 512) dtype=float32_ref>, <tf.Variable 'G_synthesis_1/noise15:0' shape=(1, 1, 1024, 1024) dtype=float32_ref>, <tf.Variable 'G_synthesis_1/noise16:0' shape=(1, 1, 1024, 1024) dtype=float32_ref>]\n",
            "Input size:  512\n",
            "Generating image for seed 2978...\n",
            "Noise Vars:  [<tf.Variable 'G_synthesis_1/noise0:0' shape=(1, 1, 4, 4) dtype=float32_ref>, <tf.Variable 'G_synthesis_1/noise1:0' shape=(1, 1, 8, 8) dtype=float32_ref>, <tf.Variable 'G_synthesis_1/noise2:0' shape=(1, 1, 8, 8) dtype=float32_ref>, <tf.Variable 'G_synthesis_1/noise3:0' shape=(1, 1, 16, 16) dtype=float32_ref>, <tf.Variable 'G_synthesis_1/noise4:0' shape=(1, 1, 16, 16) dtype=float32_ref>, <tf.Variable 'G_synthesis_1/noise5:0' shape=(1, 1, 32, 32) dtype=float32_ref>, <tf.Variable 'G_synthesis_1/noise6:0' shape=(1, 1, 32, 32) dtype=float32_ref>, <tf.Variable 'G_synthesis_1/noise7:0' shape=(1, 1, 64, 64) dtype=float32_ref>, <tf.Variable 'G_synthesis_1/noise8:0' shape=(1, 1, 64, 64) dtype=float32_ref>, <tf.Variable 'G_synthesis_1/noise9:0' shape=(1, 1, 128, 128) dtype=float32_ref>, <tf.Variable 'G_synthesis_1/noise10:0' shape=(1, 1, 128, 128) dtype=float32_ref>, <tf.Variable 'G_synthesis_1/noise11:0' shape=(1, 1, 256, 256) dtype=float32_ref>, <tf.Variable 'G_synthesis_1/noise12:0' shape=(1, 1, 256, 256) dtype=float32_ref>, <tf.Variable 'G_synthesis_1/noise13:0' shape=(1, 1, 512, 512) dtype=float32_ref>, <tf.Variable 'G_synthesis_1/noise14:0' shape=(1, 1, 512, 512) dtype=float32_ref>, <tf.Variable 'G_synthesis_1/noise15:0' shape=(1, 1, 1024, 1024) dtype=float32_ref>, <tf.Variable 'G_synthesis_1/noise16:0' shape=(1, 1, 1024, 1024) dtype=float32_ref>]\n",
            "Input size:  512\n",
            "Generating image for seed 2978...\n",
            "Noise Vars:  [<tf.Variable 'G_synthesis_1/noise0:0' shape=(1, 1, 4, 4) dtype=float32_ref>, <tf.Variable 'G_synthesis_1/noise1:0' shape=(1, 1, 8, 8) dtype=float32_ref>, <tf.Variable 'G_synthesis_1/noise2:0' shape=(1, 1, 8, 8) dtype=float32_ref>, <tf.Variable 'G_synthesis_1/noise3:0' shape=(1, 1, 16, 16) dtype=float32_ref>, <tf.Variable 'G_synthesis_1/noise4:0' shape=(1, 1, 16, 16) dtype=float32_ref>, <tf.Variable 'G_synthesis_1/noise5:0' shape=(1, 1, 32, 32) dtype=float32_ref>, <tf.Variable 'G_synthesis_1/noise6:0' shape=(1, 1, 32, 32) dtype=float32_ref>, <tf.Variable 'G_synthesis_1/noise7:0' shape=(1, 1, 64, 64) dtype=float32_ref>, <tf.Variable 'G_synthesis_1/noise8:0' shape=(1, 1, 64, 64) dtype=float32_ref>, <tf.Variable 'G_synthesis_1/noise9:0' shape=(1, 1, 128, 128) dtype=float32_ref>, <tf.Variable 'G_synthesis_1/noise10:0' shape=(1, 1, 128, 128) dtype=float32_ref>, <tf.Variable 'G_synthesis_1/noise11:0' shape=(1, 1, 256, 256) dtype=float32_ref>, <tf.Variable 'G_synthesis_1/noise12:0' shape=(1, 1, 256, 256) dtype=float32_ref>, <tf.Variable 'G_synthesis_1/noise13:0' shape=(1, 1, 512, 512) dtype=float32_ref>, <tf.Variable 'G_synthesis_1/noise14:0' shape=(1, 1, 512, 512) dtype=float32_ref>, <tf.Variable 'G_synthesis_1/noise15:0' shape=(1, 1, 1024, 1024) dtype=float32_ref>, <tf.Variable 'G_synthesis_1/noise16:0' shape=(1, 1, 1024, 1024) dtype=float32_ref>]\n",
            "Input size:  512\n",
            "Generating image for seed 2978...\n",
            "Noise Vars:  [<tf.Variable 'G_synthesis_1/noise0:0' shape=(1, 1, 4, 4) dtype=float32_ref>, <tf.Variable 'G_synthesis_1/noise1:0' shape=(1, 1, 8, 8) dtype=float32_ref>, <tf.Variable 'G_synthesis_1/noise2:0' shape=(1, 1, 8, 8) dtype=float32_ref>, <tf.Variable 'G_synthesis_1/noise3:0' shape=(1, 1, 16, 16) dtype=float32_ref>, <tf.Variable 'G_synthesis_1/noise4:0' shape=(1, 1, 16, 16) dtype=float32_ref>, <tf.Variable 'G_synthesis_1/noise5:0' shape=(1, 1, 32, 32) dtype=float32_ref>, <tf.Variable 'G_synthesis_1/noise6:0' shape=(1, 1, 32, 32) dtype=float32_ref>, <tf.Variable 'G_synthesis_1/noise7:0' shape=(1, 1, 64, 64) dtype=float32_ref>, <tf.Variable 'G_synthesis_1/noise8:0' shape=(1, 1, 64, 64) dtype=float32_ref>, <tf.Variable 'G_synthesis_1/noise9:0' shape=(1, 1, 128, 128) dtype=float32_ref>, <tf.Variable 'G_synthesis_1/noise10:0' shape=(1, 1, 128, 128) dtype=float32_ref>, <tf.Variable 'G_synthesis_1/noise11:0' shape=(1, 1, 256, 256) dtype=float32_ref>, <tf.Variable 'G_synthesis_1/noise12:0' shape=(1, 1, 256, 256) dtype=float32_ref>, <tf.Variable 'G_synthesis_1/noise13:0' shape=(1, 1, 512, 512) dtype=float32_ref>, <tf.Variable 'G_synthesis_1/noise14:0' shape=(1, 1, 512, 512) dtype=float32_ref>, <tf.Variable 'G_synthesis_1/noise15:0' shape=(1, 1, 1024, 1024) dtype=float32_ref>, <tf.Variable 'G_synthesis_1/noise16:0' shape=(1, 1, 1024, 1024) dtype=float32_ref>]\n",
            "Input size:  512\n",
            "Generating image for seed 2978...\n",
            "Noise Vars:  [<tf.Variable 'G_synthesis_1/noise0:0' shape=(1, 1, 4, 4) dtype=float32_ref>, <tf.Variable 'G_synthesis_1/noise1:0' shape=(1, 1, 8, 8) dtype=float32_ref>, <tf.Variable 'G_synthesis_1/noise2:0' shape=(1, 1, 8, 8) dtype=float32_ref>, <tf.Variable 'G_synthesis_1/noise3:0' shape=(1, 1, 16, 16) dtype=float32_ref>, <tf.Variable 'G_synthesis_1/noise4:0' shape=(1, 1, 16, 16) dtype=float32_ref>, <tf.Variable 'G_synthesis_1/noise5:0' shape=(1, 1, 32, 32) dtype=float32_ref>, <tf.Variable 'G_synthesis_1/noise6:0' shape=(1, 1, 32, 32) dtype=float32_ref>, <tf.Variable 'G_synthesis_1/noise7:0' shape=(1, 1, 64, 64) dtype=float32_ref>, <tf.Variable 'G_synthesis_1/noise8:0' shape=(1, 1, 64, 64) dtype=float32_ref>, <tf.Variable 'G_synthesis_1/noise9:0' shape=(1, 1, 128, 128) dtype=float32_ref>, <tf.Variable 'G_synthesis_1/noise10:0' shape=(1, 1, 128, 128) dtype=float32_ref>, <tf.Variable 'G_synthesis_1/noise11:0' shape=(1, 1, 256, 256) dtype=float32_ref>, <tf.Variable 'G_synthesis_1/noise12:0' shape=(1, 1, 256, 256) dtype=float32_ref>, <tf.Variable 'G_synthesis_1/noise13:0' shape=(1, 1, 512, 512) dtype=float32_ref>, <tf.Variable 'G_synthesis_1/noise14:0' shape=(1, 1, 512, 512) dtype=float32_ref>, <tf.Variable 'G_synthesis_1/noise15:0' shape=(1, 1, 1024, 1024) dtype=float32_ref>, <tf.Variable 'G_synthesis_1/noise16:0' shape=(1, 1, 1024, 1024) dtype=float32_ref>]\n",
            "Input size:  512\n",
            "Generating image for seed 2978...\n",
            "Noise Vars:  [<tf.Variable 'G_synthesis_1/noise0:0' shape=(1, 1, 4, 4) dtype=float32_ref>, <tf.Variable 'G_synthesis_1/noise1:0' shape=(1, 1, 8, 8) dtype=float32_ref>, <tf.Variable 'G_synthesis_1/noise2:0' shape=(1, 1, 8, 8) dtype=float32_ref>, <tf.Variable 'G_synthesis_1/noise3:0' shape=(1, 1, 16, 16) dtype=float32_ref>, <tf.Variable 'G_synthesis_1/noise4:0' shape=(1, 1, 16, 16) dtype=float32_ref>, <tf.Variable 'G_synthesis_1/noise5:0' shape=(1, 1, 32, 32) dtype=float32_ref>, <tf.Variable 'G_synthesis_1/noise6:0' shape=(1, 1, 32, 32) dtype=float32_ref>, <tf.Variable 'G_synthesis_1/noise7:0' shape=(1, 1, 64, 64) dtype=float32_ref>, <tf.Variable 'G_synthesis_1/noise8:0' shape=(1, 1, 64, 64) dtype=float32_ref>, <tf.Variable 'G_synthesis_1/noise9:0' shape=(1, 1, 128, 128) dtype=float32_ref>, <tf.Variable 'G_synthesis_1/noise10:0' shape=(1, 1, 128, 128) dtype=float32_ref>, <tf.Variable 'G_synthesis_1/noise11:0' shape=(1, 1, 256, 256) dtype=float32_ref>, <tf.Variable 'G_synthesis_1/noise12:0' shape=(1, 1, 256, 256) dtype=float32_ref>, <tf.Variable 'G_synthesis_1/noise13:0' shape=(1, 1, 512, 512) dtype=float32_ref>, <tf.Variable 'G_synthesis_1/noise14:0' shape=(1, 1, 512, 512) dtype=float32_ref>, <tf.Variable 'G_synthesis_1/noise15:0' shape=(1, 1, 1024, 1024) dtype=float32_ref>, <tf.Variable 'G_synthesis_1/noise16:0' shape=(1, 1, 1024, 1024) dtype=float32_ref>]\n",
            "Input size:  512\n",
            "Generating image for seed 2978...\n",
            "Noise Vars:  [<tf.Variable 'G_synthesis_1/noise0:0' shape=(1, 1, 4, 4) dtype=float32_ref>, <tf.Variable 'G_synthesis_1/noise1:0' shape=(1, 1, 8, 8) dtype=float32_ref>, <tf.Variable 'G_synthesis_1/noise2:0' shape=(1, 1, 8, 8) dtype=float32_ref>, <tf.Variable 'G_synthesis_1/noise3:0' shape=(1, 1, 16, 16) dtype=float32_ref>, <tf.Variable 'G_synthesis_1/noise4:0' shape=(1, 1, 16, 16) dtype=float32_ref>, <tf.Variable 'G_synthesis_1/noise5:0' shape=(1, 1, 32, 32) dtype=float32_ref>, <tf.Variable 'G_synthesis_1/noise6:0' shape=(1, 1, 32, 32) dtype=float32_ref>, <tf.Variable 'G_synthesis_1/noise7:0' shape=(1, 1, 64, 64) dtype=float32_ref>, <tf.Variable 'G_synthesis_1/noise8:0' shape=(1, 1, 64, 64) dtype=float32_ref>, <tf.Variable 'G_synthesis_1/noise9:0' shape=(1, 1, 128, 128) dtype=float32_ref>, <tf.Variable 'G_synthesis_1/noise10:0' shape=(1, 1, 128, 128) dtype=float32_ref>, <tf.Variable 'G_synthesis_1/noise11:0' shape=(1, 1, 256, 256) dtype=float32_ref>, <tf.Variable 'G_synthesis_1/noise12:0' shape=(1, 1, 256, 256) dtype=float32_ref>, <tf.Variable 'G_synthesis_1/noise13:0' shape=(1, 1, 512, 512) dtype=float32_ref>, <tf.Variable 'G_synthesis_1/noise14:0' shape=(1, 1, 512, 512) dtype=float32_ref>, <tf.Variable 'G_synthesis_1/noise15:0' shape=(1, 1, 1024, 1024) dtype=float32_ref>, <tf.Variable 'G_synthesis_1/noise16:0' shape=(1, 1, 1024, 1024) dtype=float32_ref>]\n",
            "Input size:  512\n",
            "Generating image for seed 2978...\n",
            "Noise Vars:  [<tf.Variable 'G_synthesis_1/noise0:0' shape=(1, 1, 4, 4) dtype=float32_ref>, <tf.Variable 'G_synthesis_1/noise1:0' shape=(1, 1, 8, 8) dtype=float32_ref>, <tf.Variable 'G_synthesis_1/noise2:0' shape=(1, 1, 8, 8) dtype=float32_ref>, <tf.Variable 'G_synthesis_1/noise3:0' shape=(1, 1, 16, 16) dtype=float32_ref>, <tf.Variable 'G_synthesis_1/noise4:0' shape=(1, 1, 16, 16) dtype=float32_ref>, <tf.Variable 'G_synthesis_1/noise5:0' shape=(1, 1, 32, 32) dtype=float32_ref>, <tf.Variable 'G_synthesis_1/noise6:0' shape=(1, 1, 32, 32) dtype=float32_ref>, <tf.Variable 'G_synthesis_1/noise7:0' shape=(1, 1, 64, 64) dtype=float32_ref>, <tf.Variable 'G_synthesis_1/noise8:0' shape=(1, 1, 64, 64) dtype=float32_ref>, <tf.Variable 'G_synthesis_1/noise9:0' shape=(1, 1, 128, 128) dtype=float32_ref>, <tf.Variable 'G_synthesis_1/noise10:0' shape=(1, 1, 128, 128) dtype=float32_ref>, <tf.Variable 'G_synthesis_1/noise11:0' shape=(1, 1, 256, 256) dtype=float32_ref>, <tf.Variable 'G_synthesis_1/noise12:0' shape=(1, 1, 256, 256) dtype=float32_ref>, <tf.Variable 'G_synthesis_1/noise13:0' shape=(1, 1, 512, 512) dtype=float32_ref>, <tf.Variable 'G_synthesis_1/noise14:0' shape=(1, 1, 512, 512) dtype=float32_ref>, <tf.Variable 'G_synthesis_1/noise15:0' shape=(1, 1, 1024, 1024) dtype=float32_ref>, <tf.Variable 'G_synthesis_1/noise16:0' shape=(1, 1, 1024, 1024) dtype=float32_ref>]\n",
            "Input size:  512\n",
            "Generating image for seed 2978...\n",
            "Noise Vars:  [<tf.Variable 'G_synthesis_1/noise0:0' shape=(1, 1, 4, 4) dtype=float32_ref>, <tf.Variable 'G_synthesis_1/noise1:0' shape=(1, 1, 8, 8) dtype=float32_ref>, <tf.Variable 'G_synthesis_1/noise2:0' shape=(1, 1, 8, 8) dtype=float32_ref>, <tf.Variable 'G_synthesis_1/noise3:0' shape=(1, 1, 16, 16) dtype=float32_ref>, <tf.Variable 'G_synthesis_1/noise4:0' shape=(1, 1, 16, 16) dtype=float32_ref>, <tf.Variable 'G_synthesis_1/noise5:0' shape=(1, 1, 32, 32) dtype=float32_ref>, <tf.Variable 'G_synthesis_1/noise6:0' shape=(1, 1, 32, 32) dtype=float32_ref>, <tf.Variable 'G_synthesis_1/noise7:0' shape=(1, 1, 64, 64) dtype=float32_ref>, <tf.Variable 'G_synthesis_1/noise8:0' shape=(1, 1, 64, 64) dtype=float32_ref>, <tf.Variable 'G_synthesis_1/noise9:0' shape=(1, 1, 128, 128) dtype=float32_ref>, <tf.Variable 'G_synthesis_1/noise10:0' shape=(1, 1, 128, 128) dtype=float32_ref>, <tf.Variable 'G_synthesis_1/noise11:0' shape=(1, 1, 256, 256) dtype=float32_ref>, <tf.Variable 'G_synthesis_1/noise12:0' shape=(1, 1, 256, 256) dtype=float32_ref>, <tf.Variable 'G_synthesis_1/noise13:0' shape=(1, 1, 512, 512) dtype=float32_ref>, <tf.Variable 'G_synthesis_1/noise14:0' shape=(1, 1, 512, 512) dtype=float32_ref>, <tf.Variable 'G_synthesis_1/noise15:0' shape=(1, 1, 1024, 1024) dtype=float32_ref>, <tf.Variable 'G_synthesis_1/noise16:0' shape=(1, 1, 1024, 1024) dtype=float32_ref>]\n",
            "Input size:  512\n",
            "Generating image for seed 2978...\n",
            "Noise Vars:  [<tf.Variable 'G_synthesis_1/noise0:0' shape=(1, 1, 4, 4) dtype=float32_ref>, <tf.Variable 'G_synthesis_1/noise1:0' shape=(1, 1, 8, 8) dtype=float32_ref>, <tf.Variable 'G_synthesis_1/noise2:0' shape=(1, 1, 8, 8) dtype=float32_ref>, <tf.Variable 'G_synthesis_1/noise3:0' shape=(1, 1, 16, 16) dtype=float32_ref>, <tf.Variable 'G_synthesis_1/noise4:0' shape=(1, 1, 16, 16) dtype=float32_ref>, <tf.Variable 'G_synthesis_1/noise5:0' shape=(1, 1, 32, 32) dtype=float32_ref>, <tf.Variable 'G_synthesis_1/noise6:0' shape=(1, 1, 32, 32) dtype=float32_ref>, <tf.Variable 'G_synthesis_1/noise7:0' shape=(1, 1, 64, 64) dtype=float32_ref>, <tf.Variable 'G_synthesis_1/noise8:0' shape=(1, 1, 64, 64) dtype=float32_ref>, <tf.Variable 'G_synthesis_1/noise9:0' shape=(1, 1, 128, 128) dtype=float32_ref>, <tf.Variable 'G_synthesis_1/noise10:0' shape=(1, 1, 128, 128) dtype=float32_ref>, <tf.Variable 'G_synthesis_1/noise11:0' shape=(1, 1, 256, 256) dtype=float32_ref>, <tf.Variable 'G_synthesis_1/noise12:0' shape=(1, 1, 256, 256) dtype=float32_ref>, <tf.Variable 'G_synthesis_1/noise13:0' shape=(1, 1, 512, 512) dtype=float32_ref>, <tf.Variable 'G_synthesis_1/noise14:0' shape=(1, 1, 512, 512) dtype=float32_ref>, <tf.Variable 'G_synthesis_1/noise15:0' shape=(1, 1, 1024, 1024) dtype=float32_ref>, <tf.Variable 'G_synthesis_1/noise16:0' shape=(1, 1, 1024, 1024) dtype=float32_ref>]\n",
            "Input size:  512\n",
            "Generating image for seed 2978...\n",
            "Noise Vars:  [<tf.Variable 'G_synthesis_1/noise0:0' shape=(1, 1, 4, 4) dtype=float32_ref>, <tf.Variable 'G_synthesis_1/noise1:0' shape=(1, 1, 8, 8) dtype=float32_ref>, <tf.Variable 'G_synthesis_1/noise2:0' shape=(1, 1, 8, 8) dtype=float32_ref>, <tf.Variable 'G_synthesis_1/noise3:0' shape=(1, 1, 16, 16) dtype=float32_ref>, <tf.Variable 'G_synthesis_1/noise4:0' shape=(1, 1, 16, 16) dtype=float32_ref>, <tf.Variable 'G_synthesis_1/noise5:0' shape=(1, 1, 32, 32) dtype=float32_ref>, <tf.Variable 'G_synthesis_1/noise6:0' shape=(1, 1, 32, 32) dtype=float32_ref>, <tf.Variable 'G_synthesis_1/noise7:0' shape=(1, 1, 64, 64) dtype=float32_ref>, <tf.Variable 'G_synthesis_1/noise8:0' shape=(1, 1, 64, 64) dtype=float32_ref>, <tf.Variable 'G_synthesis_1/noise9:0' shape=(1, 1, 128, 128) dtype=float32_ref>, <tf.Variable 'G_synthesis_1/noise10:0' shape=(1, 1, 128, 128) dtype=float32_ref>, <tf.Variable 'G_synthesis_1/noise11:0' shape=(1, 1, 256, 256) dtype=float32_ref>, <tf.Variable 'G_synthesis_1/noise12:0' shape=(1, 1, 256, 256) dtype=float32_ref>, <tf.Variable 'G_synthesis_1/noise13:0' shape=(1, 1, 512, 512) dtype=float32_ref>, <tf.Variable 'G_synthesis_1/noise14:0' shape=(1, 1, 512, 512) dtype=float32_ref>, <tf.Variable 'G_synthesis_1/noise15:0' shape=(1, 1, 1024, 1024) dtype=float32_ref>, <tf.Variable 'G_synthesis_1/noise16:0' shape=(1, 1, 1024, 1024) dtype=float32_ref>]\n",
            "Input size:  512\n",
            "Generating image for seed 2978...\n",
            "Noise Vars:  [<tf.Variable 'G_synthesis_1/noise0:0' shape=(1, 1, 4, 4) dtype=float32_ref>, <tf.Variable 'G_synthesis_1/noise1:0' shape=(1, 1, 8, 8) dtype=float32_ref>, <tf.Variable 'G_synthesis_1/noise2:0' shape=(1, 1, 8, 8) dtype=float32_ref>, <tf.Variable 'G_synthesis_1/noise3:0' shape=(1, 1, 16, 16) dtype=float32_ref>, <tf.Variable 'G_synthesis_1/noise4:0' shape=(1, 1, 16, 16) dtype=float32_ref>, <tf.Variable 'G_synthesis_1/noise5:0' shape=(1, 1, 32, 32) dtype=float32_ref>, <tf.Variable 'G_synthesis_1/noise6:0' shape=(1, 1, 32, 32) dtype=float32_ref>, <tf.Variable 'G_synthesis_1/noise7:0' shape=(1, 1, 64, 64) dtype=float32_ref>, <tf.Variable 'G_synthesis_1/noise8:0' shape=(1, 1, 64, 64) dtype=float32_ref>, <tf.Variable 'G_synthesis_1/noise9:0' shape=(1, 1, 128, 128) dtype=float32_ref>, <tf.Variable 'G_synthesis_1/noise10:0' shape=(1, 1, 128, 128) dtype=float32_ref>, <tf.Variable 'G_synthesis_1/noise11:0' shape=(1, 1, 256, 256) dtype=float32_ref>, <tf.Variable 'G_synthesis_1/noise12:0' shape=(1, 1, 256, 256) dtype=float32_ref>, <tf.Variable 'G_synthesis_1/noise13:0' shape=(1, 1, 512, 512) dtype=float32_ref>, <tf.Variable 'G_synthesis_1/noise14:0' shape=(1, 1, 512, 512) dtype=float32_ref>, <tf.Variable 'G_synthesis_1/noise15:0' shape=(1, 1, 1024, 1024) dtype=float32_ref>, <tf.Variable 'G_synthesis_1/noise16:0' shape=(1, 1, 1024, 1024) dtype=float32_ref>]\n",
            "Input size:  512\n",
            "Generating image for seed 2978...\n",
            "Noise Vars:  [<tf.Variable 'G_synthesis_1/noise0:0' shape=(1, 1, 4, 4) dtype=float32_ref>, <tf.Variable 'G_synthesis_1/noise1:0' shape=(1, 1, 8, 8) dtype=float32_ref>, <tf.Variable 'G_synthesis_1/noise2:0' shape=(1, 1, 8, 8) dtype=float32_ref>, <tf.Variable 'G_synthesis_1/noise3:0' shape=(1, 1, 16, 16) dtype=float32_ref>, <tf.Variable 'G_synthesis_1/noise4:0' shape=(1, 1, 16, 16) dtype=float32_ref>, <tf.Variable 'G_synthesis_1/noise5:0' shape=(1, 1, 32, 32) dtype=float32_ref>, <tf.Variable 'G_synthesis_1/noise6:0' shape=(1, 1, 32, 32) dtype=float32_ref>, <tf.Variable 'G_synthesis_1/noise7:0' shape=(1, 1, 64, 64) dtype=float32_ref>, <tf.Variable 'G_synthesis_1/noise8:0' shape=(1, 1, 64, 64) dtype=float32_ref>, <tf.Variable 'G_synthesis_1/noise9:0' shape=(1, 1, 128, 128) dtype=float32_ref>, <tf.Variable 'G_synthesis_1/noise10:0' shape=(1, 1, 128, 128) dtype=float32_ref>, <tf.Variable 'G_synthesis_1/noise11:0' shape=(1, 1, 256, 256) dtype=float32_ref>, <tf.Variable 'G_synthesis_1/noise12:0' shape=(1, 1, 256, 256) dtype=float32_ref>, <tf.Variable 'G_synthesis_1/noise13:0' shape=(1, 1, 512, 512) dtype=float32_ref>, <tf.Variable 'G_synthesis_1/noise14:0' shape=(1, 1, 512, 512) dtype=float32_ref>, <tf.Variable 'G_synthesis_1/noise15:0' shape=(1, 1, 1024, 1024) dtype=float32_ref>, <tf.Variable 'G_synthesis_1/noise16:0' shape=(1, 1, 1024, 1024) dtype=float32_ref>]\n",
            "Input size:  512\n",
            "Generating image for seed 2978...\n",
            "Noise Vars:  [<tf.Variable 'G_synthesis_1/noise0:0' shape=(1, 1, 4, 4) dtype=float32_ref>, <tf.Variable 'G_synthesis_1/noise1:0' shape=(1, 1, 8, 8) dtype=float32_ref>, <tf.Variable 'G_synthesis_1/noise2:0' shape=(1, 1, 8, 8) dtype=float32_ref>, <tf.Variable 'G_synthesis_1/noise3:0' shape=(1, 1, 16, 16) dtype=float32_ref>, <tf.Variable 'G_synthesis_1/noise4:0' shape=(1, 1, 16, 16) dtype=float32_ref>, <tf.Variable 'G_synthesis_1/noise5:0' shape=(1, 1, 32, 32) dtype=float32_ref>, <tf.Variable 'G_synthesis_1/noise6:0' shape=(1, 1, 32, 32) dtype=float32_ref>, <tf.Variable 'G_synthesis_1/noise7:0' shape=(1, 1, 64, 64) dtype=float32_ref>, <tf.Variable 'G_synthesis_1/noise8:0' shape=(1, 1, 64, 64) dtype=float32_ref>, <tf.Variable 'G_synthesis_1/noise9:0' shape=(1, 1, 128, 128) dtype=float32_ref>, <tf.Variable 'G_synthesis_1/noise10:0' shape=(1, 1, 128, 128) dtype=float32_ref>, <tf.Variable 'G_synthesis_1/noise11:0' shape=(1, 1, 256, 256) dtype=float32_ref>, <tf.Variable 'G_synthesis_1/noise12:0' shape=(1, 1, 256, 256) dtype=float32_ref>, <tf.Variable 'G_synthesis_1/noise13:0' shape=(1, 1, 512, 512) dtype=float32_ref>, <tf.Variable 'G_synthesis_1/noise14:0' shape=(1, 1, 512, 512) dtype=float32_ref>, <tf.Variable 'G_synthesis_1/noise15:0' shape=(1, 1, 1024, 1024) dtype=float32_ref>, <tf.Variable 'G_synthesis_1/noise16:0' shape=(1, 1, 1024, 1024) dtype=float32_ref>]\n",
            "Input size:  512\n",
            "Generating image for seed 2978...\n",
            "Noise Vars:  [<tf.Variable 'G_synthesis_1/noise0:0' shape=(1, 1, 4, 4) dtype=float32_ref>, <tf.Variable 'G_synthesis_1/noise1:0' shape=(1, 1, 8, 8) dtype=float32_ref>, <tf.Variable 'G_synthesis_1/noise2:0' shape=(1, 1, 8, 8) dtype=float32_ref>, <tf.Variable 'G_synthesis_1/noise3:0' shape=(1, 1, 16, 16) dtype=float32_ref>, <tf.Variable 'G_synthesis_1/noise4:0' shape=(1, 1, 16, 16) dtype=float32_ref>, <tf.Variable 'G_synthesis_1/noise5:0' shape=(1, 1, 32, 32) dtype=float32_ref>, <tf.Variable 'G_synthesis_1/noise6:0' shape=(1, 1, 32, 32) dtype=float32_ref>, <tf.Variable 'G_synthesis_1/noise7:0' shape=(1, 1, 64, 64) dtype=float32_ref>, <tf.Variable 'G_synthesis_1/noise8:0' shape=(1, 1, 64, 64) dtype=float32_ref>, <tf.Variable 'G_synthesis_1/noise9:0' shape=(1, 1, 128, 128) dtype=float32_ref>, <tf.Variable 'G_synthesis_1/noise10:0' shape=(1, 1, 128, 128) dtype=float32_ref>, <tf.Variable 'G_synthesis_1/noise11:0' shape=(1, 1, 256, 256) dtype=float32_ref>, <tf.Variable 'G_synthesis_1/noise12:0' shape=(1, 1, 256, 256) dtype=float32_ref>, <tf.Variable 'G_synthesis_1/noise13:0' shape=(1, 1, 512, 512) dtype=float32_ref>, <tf.Variable 'G_synthesis_1/noise14:0' shape=(1, 1, 512, 512) dtype=float32_ref>, <tf.Variable 'G_synthesis_1/noise15:0' shape=(1, 1, 1024, 1024) dtype=float32_ref>, <tf.Variable 'G_synthesis_1/noise16:0' shape=(1, 1, 1024, 1024) dtype=float32_ref>]\n",
            "Input size:  512\n",
            "Generating image for seed 2978...\n",
            "Noise Vars:  [<tf.Variable 'G_synthesis_1/noise0:0' shape=(1, 1, 4, 4) dtype=float32_ref>, <tf.Variable 'G_synthesis_1/noise1:0' shape=(1, 1, 8, 8) dtype=float32_ref>, <tf.Variable 'G_synthesis_1/noise2:0' shape=(1, 1, 8, 8) dtype=float32_ref>, <tf.Variable 'G_synthesis_1/noise3:0' shape=(1, 1, 16, 16) dtype=float32_ref>, <tf.Variable 'G_synthesis_1/noise4:0' shape=(1, 1, 16, 16) dtype=float32_ref>, <tf.Variable 'G_synthesis_1/noise5:0' shape=(1, 1, 32, 32) dtype=float32_ref>, <tf.Variable 'G_synthesis_1/noise6:0' shape=(1, 1, 32, 32) dtype=float32_ref>, <tf.Variable 'G_synthesis_1/noise7:0' shape=(1, 1, 64, 64) dtype=float32_ref>, <tf.Variable 'G_synthesis_1/noise8:0' shape=(1, 1, 64, 64) dtype=float32_ref>, <tf.Variable 'G_synthesis_1/noise9:0' shape=(1, 1, 128, 128) dtype=float32_ref>, <tf.Variable 'G_synthesis_1/noise10:0' shape=(1, 1, 128, 128) dtype=float32_ref>, <tf.Variable 'G_synthesis_1/noise11:0' shape=(1, 1, 256, 256) dtype=float32_ref>, <tf.Variable 'G_synthesis_1/noise12:0' shape=(1, 1, 256, 256) dtype=float32_ref>, <tf.Variable 'G_synthesis_1/noise13:0' shape=(1, 1, 512, 512) dtype=float32_ref>, <tf.Variable 'G_synthesis_1/noise14:0' shape=(1, 1, 512, 512) dtype=float32_ref>, <tf.Variable 'G_synthesis_1/noise15:0' shape=(1, 1, 1024, 1024) dtype=float32_ref>, <tf.Variable 'G_synthesis_1/noise16:0' shape=(1, 1, 1024, 1024) dtype=float32_ref>]\n",
            "Input size:  512\n",
            "Generating image for seed 2978...\n",
            "Noise Vars:  [<tf.Variable 'G_synthesis_1/noise0:0' shape=(1, 1, 4, 4) dtype=float32_ref>, <tf.Variable 'G_synthesis_1/noise1:0' shape=(1, 1, 8, 8) dtype=float32_ref>, <tf.Variable 'G_synthesis_1/noise2:0' shape=(1, 1, 8, 8) dtype=float32_ref>, <tf.Variable 'G_synthesis_1/noise3:0' shape=(1, 1, 16, 16) dtype=float32_ref>, <tf.Variable 'G_synthesis_1/noise4:0' shape=(1, 1, 16, 16) dtype=float32_ref>, <tf.Variable 'G_synthesis_1/noise5:0' shape=(1, 1, 32, 32) dtype=float32_ref>, <tf.Variable 'G_synthesis_1/noise6:0' shape=(1, 1, 32, 32) dtype=float32_ref>, <tf.Variable 'G_synthesis_1/noise7:0' shape=(1, 1, 64, 64) dtype=float32_ref>, <tf.Variable 'G_synthesis_1/noise8:0' shape=(1, 1, 64, 64) dtype=float32_ref>, <tf.Variable 'G_synthesis_1/noise9:0' shape=(1, 1, 128, 128) dtype=float32_ref>, <tf.Variable 'G_synthesis_1/noise10:0' shape=(1, 1, 128, 128) dtype=float32_ref>, <tf.Variable 'G_synthesis_1/noise11:0' shape=(1, 1, 256, 256) dtype=float32_ref>, <tf.Variable 'G_synthesis_1/noise12:0' shape=(1, 1, 256, 256) dtype=float32_ref>, <tf.Variable 'G_synthesis_1/noise13:0' shape=(1, 1, 512, 512) dtype=float32_ref>, <tf.Variable 'G_synthesis_1/noise14:0' shape=(1, 1, 512, 512) dtype=float32_ref>, <tf.Variable 'G_synthesis_1/noise15:0' shape=(1, 1, 1024, 1024) dtype=float32_ref>, <tf.Variable 'G_synthesis_1/noise16:0' shape=(1, 1, 1024, 1024) dtype=float32_ref>]\n",
            "Input size:  512\n",
            "Generating image for seed 2978...\n",
            "Noise Vars:  [<tf.Variable 'G_synthesis_1/noise0:0' shape=(1, 1, 4, 4) dtype=float32_ref>, <tf.Variable 'G_synthesis_1/noise1:0' shape=(1, 1, 8, 8) dtype=float32_ref>, <tf.Variable 'G_synthesis_1/noise2:0' shape=(1, 1, 8, 8) dtype=float32_ref>, <tf.Variable 'G_synthesis_1/noise3:0' shape=(1, 1, 16, 16) dtype=float32_ref>, <tf.Variable 'G_synthesis_1/noise4:0' shape=(1, 1, 16, 16) dtype=float32_ref>, <tf.Variable 'G_synthesis_1/noise5:0' shape=(1, 1, 32, 32) dtype=float32_ref>, <tf.Variable 'G_synthesis_1/noise6:0' shape=(1, 1, 32, 32) dtype=float32_ref>, <tf.Variable 'G_synthesis_1/noise7:0' shape=(1, 1, 64, 64) dtype=float32_ref>, <tf.Variable 'G_synthesis_1/noise8:0' shape=(1, 1, 64, 64) dtype=float32_ref>, <tf.Variable 'G_synthesis_1/noise9:0' shape=(1, 1, 128, 128) dtype=float32_ref>, <tf.Variable 'G_synthesis_1/noise10:0' shape=(1, 1, 128, 128) dtype=float32_ref>, <tf.Variable 'G_synthesis_1/noise11:0' shape=(1, 1, 256, 256) dtype=float32_ref>, <tf.Variable 'G_synthesis_1/noise12:0' shape=(1, 1, 256, 256) dtype=float32_ref>, <tf.Variable 'G_synthesis_1/noise13:0' shape=(1, 1, 512, 512) dtype=float32_ref>, <tf.Variable 'G_synthesis_1/noise14:0' shape=(1, 1, 512, 512) dtype=float32_ref>, <tf.Variable 'G_synthesis_1/noise15:0' shape=(1, 1, 1024, 1024) dtype=float32_ref>, <tf.Variable 'G_synthesis_1/noise16:0' shape=(1, 1, 1024, 1024) dtype=float32_ref>]\n",
            "Input size:  512\n"
          ]
        },
        {
          "output_type": "error",
          "ename": "ValueError",
          "evalue": "ignored",
          "traceback": [
            "\u001b[0;31m---------------------------------------------------------------------------\u001b[0m",
            "\u001b[0;31mValueError\u001b[0m                                Traceback (most recent call last)",
            "\u001b[0;32m<ipython-input-99-cf5d90d97b77>\u001b[0m in \u001b[0;36m<module>\u001b[0;34m()\u001b[0m\n\u001b[0;32m----> 1\u001b[0;31m \u001b[0mtrain\u001b[0m\u001b[0;34m(\u001b[0m\u001b[0mtrain_images\u001b[0m\u001b[0;34m,\u001b[0m \u001b[0mtrain_embeddings\u001b[0m\u001b[0;34m,\u001b[0m\u001b[0;36m1\u001b[0m\u001b[0;34m)\u001b[0m\u001b[0;34m\u001b[0m\u001b[0;34m\u001b[0m\u001b[0m\n\u001b[0m",
            "\u001b[0;32m<ipython-input-86-2022714f1272>\u001b[0m in \u001b[0;36mtrain\u001b[0;34m(train_images, train_embeddings, epochs)\u001b[0m\n\u001b[1;32m      2\u001b[0m   \u001b[0;32mfor\u001b[0m \u001b[0mi\u001b[0m \u001b[0;32min\u001b[0m \u001b[0mrange\u001b[0m\u001b[0;34m(\u001b[0m\u001b[0mepochs\u001b[0m\u001b[0;34m)\u001b[0m\u001b[0;34m:\u001b[0m\u001b[0;34m\u001b[0m\u001b[0;34m\u001b[0m\u001b[0m\n\u001b[1;32m      3\u001b[0m     \u001b[0;32mfor\u001b[0m \u001b[0mtrain_image_batch\u001b[0m\u001b[0;34m,\u001b[0m \u001b[0mtrain_embedding_batch\u001b[0m \u001b[0;32min\u001b[0m \u001b[0mzip\u001b[0m\u001b[0;34m(\u001b[0m\u001b[0mtrain_images\u001b[0m\u001b[0;34m,\u001b[0m\u001b[0mtrain_embeddings\u001b[0m\u001b[0;34m)\u001b[0m\u001b[0;34m:\u001b[0m\u001b[0;34m\u001b[0m\u001b[0;34m\u001b[0m\u001b[0m\n\u001b[0;32m----> 4\u001b[0;31m       \u001b[0mtrain_step\u001b[0m\u001b[0;34m(\u001b[0m\u001b[0mtrain_image_batch\u001b[0m\u001b[0;34m,\u001b[0m \u001b[0mtrain_embedding_batch\u001b[0m\u001b[0;34m)\u001b[0m\u001b[0;34m\u001b[0m\u001b[0;34m\u001b[0m\u001b[0m\n\u001b[0m",
            "\u001b[0;32m<ipython-input-87-80df9106d46c>\u001b[0m in \u001b[0;36mtrain_step\u001b[0;34m(image_batch, embedding_batch)\u001b[0m\n\u001b[1;32m     18\u001b[0m \u001b[0;34m\u001b[0m\u001b[0m\n\u001b[1;32m     19\u001b[0m         \u001b[0;31m# Optimise\u001b[0m\u001b[0;34m\u001b[0m\u001b[0;34m\u001b[0m\u001b[0;34m\u001b[0m\u001b[0m\n\u001b[0;32m---> 20\u001b[0;31m         \u001b[0moptimizer\u001b[0m\u001b[0;34m.\u001b[0m\u001b[0mapply_gradients\u001b[0m\u001b[0;34m(\u001b[0m\u001b[0mzip\u001b[0m\u001b[0;34m(\u001b[0m\u001b[0mgradients\u001b[0m\u001b[0;34m,\u001b[0m\u001b[0mmodel\u001b[0m\u001b[0;34m.\u001b[0m\u001b[0mtrainable_variables\u001b[0m\u001b[0;34m)\u001b[0m\u001b[0;34m)\u001b[0m\u001b[0;34m\u001b[0m\u001b[0;34m\u001b[0m\u001b[0m\n\u001b[0m\u001b[1;32m     21\u001b[0m \u001b[0;34m\u001b[0m\u001b[0m\n\u001b[1;32m     22\u001b[0m         \u001b[0mprint\u001b[0m\u001b[0;34m(\u001b[0m\u001b[0;34m\"Generator Loss: \"\u001b[0m\u001b[0;34m,\u001b[0m\u001b[0mnp\u001b[0m\u001b[0;34m.\u001b[0m\u001b[0mmean\u001b[0m\u001b[0;34m(\u001b[0m\u001b[0mgen_loss\u001b[0m\u001b[0;34m)\u001b[0m\u001b[0;34m)\u001b[0m\u001b[0;34m\u001b[0m\u001b[0;34m\u001b[0m\u001b[0m\n",
            "\u001b[0;32m/tensorflow-1.15.2/python3.7/tensorflow_core/python/keras/optimizer_v2/optimizer_v2.py\u001b[0m in \u001b[0;36mapply_gradients\u001b[0;34m(self, grads_and_vars, name)\u001b[0m\n\u001b[1;32m    423\u001b[0m       \u001b[0mValueError\u001b[0m\u001b[0;34m:\u001b[0m \u001b[0mIf\u001b[0m \u001b[0mnone\u001b[0m \u001b[0mof\u001b[0m \u001b[0mthe\u001b[0m \u001b[0mvariables\u001b[0m \u001b[0mhave\u001b[0m \u001b[0mgradients\u001b[0m\u001b[0;34m.\u001b[0m\u001b[0;34m\u001b[0m\u001b[0;34m\u001b[0m\u001b[0m\n\u001b[1;32m    424\u001b[0m     \"\"\"\n\u001b[0;32m--> 425\u001b[0;31m     \u001b[0mgrads_and_vars\u001b[0m \u001b[0;34m=\u001b[0m \u001b[0m_filter_grads\u001b[0m\u001b[0;34m(\u001b[0m\u001b[0mgrads_and_vars\u001b[0m\u001b[0;34m)\u001b[0m\u001b[0;34m\u001b[0m\u001b[0;34m\u001b[0m\u001b[0m\n\u001b[0m\u001b[1;32m    426\u001b[0m     \u001b[0mvar_list\u001b[0m \u001b[0;34m=\u001b[0m \u001b[0;34m[\u001b[0m\u001b[0mv\u001b[0m \u001b[0;32mfor\u001b[0m \u001b[0;34m(\u001b[0m\u001b[0m_\u001b[0m\u001b[0;34m,\u001b[0m \u001b[0mv\u001b[0m\u001b[0;34m)\u001b[0m \u001b[0;32min\u001b[0m \u001b[0mgrads_and_vars\u001b[0m\u001b[0;34m]\u001b[0m\u001b[0;34m\u001b[0m\u001b[0;34m\u001b[0m\u001b[0m\n\u001b[1;32m    427\u001b[0m \u001b[0;34m\u001b[0m\u001b[0m\n",
            "\u001b[0;32m/tensorflow-1.15.2/python3.7/tensorflow_core/python/keras/optimizer_v2/optimizer_v2.py\u001b[0m in \u001b[0;36m_filter_grads\u001b[0;34m(grads_and_vars)\u001b[0m\n\u001b[1;32m   1021\u001b[0m   \u001b[0;32mif\u001b[0m \u001b[0;32mnot\u001b[0m \u001b[0mfiltered\u001b[0m\u001b[0;34m:\u001b[0m\u001b[0;34m\u001b[0m\u001b[0;34m\u001b[0m\u001b[0m\n\u001b[1;32m   1022\u001b[0m     raise ValueError(\"No gradients provided for any variable: %s.\" %\n\u001b[0;32m-> 1023\u001b[0;31m                      ([v.name for _, v in grads_and_vars],))\n\u001b[0m\u001b[1;32m   1024\u001b[0m   \u001b[0;32mif\u001b[0m \u001b[0mvars_with_empty_grads\u001b[0m\u001b[0;34m:\u001b[0m\u001b[0;34m\u001b[0m\u001b[0;34m\u001b[0m\u001b[0m\n\u001b[1;32m   1025\u001b[0m     logging.warning(\n",
            "\u001b[0;31mValueError\u001b[0m: No gradients provided for any variable: ['conv1d_7/kernel:0', 'conv1d_7/bias:0', 'dense_5/kernel:0', 'dense_5/bias:0']."
          ]
        }
      ]
    },
    {
      "cell_type": "markdown",
      "source": [
        "## TODO\n",
        "1. loss change \n",
        "2. dataset change"
      ],
      "metadata": {
        "id": "a3CfZ8xbARA4"
      }
    },
    {
      "cell_type": "code",
      "source": [
        ""
      ],
      "metadata": {
        "id": "G8bT-pc6DVYy"
      },
      "execution_count": null,
      "outputs": []
    }
  ]
}